{
 "cells": [
  {
   "cell_type": "markdown",
   "metadata": {
    "id": "U0NG2BXyydWt"
   },
   "source": [
    "# Gesture Recognition - Siddharth Nagpure, Anjani Devi Nimmakayala\n",
    "In this group project, you are going to build a 3D Conv model that will be able to predict the 5 gestures correctly. Please import the following libraries to get started."
   ]
  },
  {
   "cell_type": "code",
   "execution_count": 1,
   "metadata": {
    "executionInfo": {
     "elapsed": 1935,
     "status": "ok",
     "timestamp": 1619971080266,
     "user": {
      "displayName": "Anjani Siddharth",
      "photoUrl": "",
      "userId": "08896298159225164450"
     },
     "user_tz": -330
    },
    "id": "9Z5Ri2_cydW7"
   },
   "outputs": [],
   "source": [
    "import numpy as np\n",
    "import os\n",
    "from scipy.misc import imread, imresize\n",
    "import datetime\n",
    "import warnings\n",
    "warnings.filterwarnings(\"ignore\")\n",
    "#import cv2\n",
    "import matplotlib.pyplot as plt"
   ]
  },
  {
   "cell_type": "markdown",
   "metadata": {
    "id": "kdMwTli_ydW8"
   },
   "source": [
    "We set the random seed so that the results don't vary drastically."
   ]
  },
  {
   "cell_type": "code",
   "execution_count": 2,
   "metadata": {
    "executionInfo": {
     "elapsed": 3266,
     "status": "ok",
     "timestamp": 1619971083578,
     "user": {
      "displayName": "Anjani Siddharth",
      "photoUrl": "",
      "userId": "08896298159225164450"
     },
     "user_tz": -330
    },
    "id": "irJgTS8ZydW9"
   },
   "outputs": [],
   "source": [
    "np.random.seed(30)\n",
    "import random as rn\n",
    "rn.seed(30)\n",
    "from keras import backend as K\n",
    "import tensorflow as tf\n",
    "tf.random.set_seed(30)"
   ]
  },
  {
   "cell_type": "markdown",
   "metadata": {
    "id": "XJYO9GaDydW-"
   },
   "source": [
    "In this block, you read the folder names for training and validation. You also set the `batch_size` here. Note that you set the batch size in such a way that you are able to use the GPU in full capacity. You keep increasing the batch size until the machine throws an error."
   ]
  },
  {
   "cell_type": "markdown",
   "metadata": {
    "colab": {
     "base_uri": "https://localhost:8080/"
    },
    "executionInfo": {
     "elapsed": 22608,
     "status": "ok",
     "timestamp": 1619971104657,
     "user": {
      "displayName": "Anjani Siddharth",
      "photoUrl": "",
      "userId": "08896298159225164450"
     },
     "user_tz": -330
    },
    "id": "FTsnpMd3KqT0",
    "outputId": "6cbbd418-81bf-48f7-899b-40f6d2d0245c"
   },
   "source": [
    "from google.colab import drive\n",
    "drive.mount('/content/gdrive')"
   ]
  },
  {
   "cell_type": "code",
   "execution_count": 3,
   "metadata": {
    "executionInfo": {
     "elapsed": 2220,
     "status": "ok",
     "timestamp": 1619971109067,
     "user": {
      "displayName": "Anjani Siddharth",
      "photoUrl": "",
      "userId": "08896298159225164450"
     },
     "user_tz": -330
    },
    "id": "84tqglMvydW-"
   },
   "outputs": [],
   "source": [
    "train_doc = np.random.permutation(open('Project_data/train.csv').readlines())\n",
    "val_doc = np.random.permutation(open('Project_data/val.csv').readlines())\n",
    "batch_size = 20"
   ]
  },
  {
   "cell_type": "code",
   "execution_count": 4,
   "metadata": {
    "colab": {
     "base_uri": "https://localhost:8080/"
    },
    "executionInfo": {
     "elapsed": 992,
     "status": "ok",
     "timestamp": 1619971110988,
     "user": {
      "displayName": "Anjani Siddharth",
      "photoUrl": "",
      "userId": "08896298159225164450"
     },
     "user_tz": -330
    },
    "id": "_cGlAgrOLuwL",
    "outputId": "b7e716ee-9125-413f-83a9-ddf307d19577"
   },
   "outputs": [
    {
     "name": "stdout",
     "output_type": "stream",
     "text": [
      "WIN_20180926_17_30_47_Pro_Thumbs_Up_new;Thumbs_Up_new;4\n",
      "\n",
      "WIN_20180907_16_33_15_Pro_Thumbs Down_new;Thumbs Down_new;3\n",
      "\n"
     ]
    }
   ],
   "source": [
    "print(train_doc[5])\n",
    "print(val_doc[5])"
   ]
  },
  {
   "cell_type": "markdown",
   "metadata": {
    "id": "dADHSujCYgvW"
   },
   "source": [
    "### Image Crop & Resize"
   ]
  },
  {
   "cell_type": "code",
   "execution_count": 5,
   "metadata": {
    "executionInfo": {
     "elapsed": 1484,
     "status": "ok",
     "timestamp": 1619971115281,
     "user": {
      "displayName": "Anjani Siddharth",
      "photoUrl": "",
      "userId": "08896298159225164450"
     },
     "user_tz": -330
    },
    "id": "mRL7OZmQYqI-"
   },
   "outputs": [],
   "source": [
    "#data resizing - Resizing all the images, so we can have all the images in a specific size\n",
    "def crop_resize_img(img):\n",
    "  rows = 120\n",
    "  cols = 120\n",
    "  if img.shape[0] != img.shape[1]:\n",
    "    img=img[0:120,10:150]  #crop the image\n",
    "  resized_image = imresize(img, (rows,cols)) # resize the image\n",
    "  return resized_image"
   ]
  },
  {
   "cell_type": "markdown",
   "metadata": {
    "id": "MmpJRn9AL02g"
   },
   "source": [
    "### Plotting"
   ]
  },
  {
   "cell_type": "code",
   "execution_count": 6,
   "metadata": {
    "executionInfo": {
     "elapsed": 755,
     "status": "ok",
     "timestamp": 1619971115933,
     "user": {
      "displayName": "Anjani Siddharth",
      "photoUrl": "",
      "userId": "08896298159225164450"
     },
     "user_tz": -330
    },
    "id": "Vk7AhdBUlCq6"
   },
   "outputs": [],
   "source": [
    "def plot(history):\n",
    "    fig, axes = plt.subplots(nrows=1, ncols=2, figsize=(15,4))\n",
    "    axes[0].plot(history.history['loss'])   \n",
    "    axes[0].plot(history.history['val_loss'])\n",
    "    axes[0].legend(['loss','val_loss'], loc='upper left')\n",
    "\n",
    "    axes[1].plot(history.history['categorical_accuracy'])   \n",
    "    axes[1].plot(history.history['val_categorical_accuracy'])\n",
    "    axes[1].legend(['categorical_accuracy','val_categorical_accuracy'], loc='upper left')"
   ]
  },
  {
   "cell_type": "markdown",
   "metadata": {
    "id": "JqEZudEfydW_"
   },
   "source": [
    "## Generator\n",
    "This is one of the most important part of the code. The overall structure of the generator has been given. In the generator, you are going to preprocess the images as you have images of 2 different dimensions as well as create a batch of video frames. You have to experiment with `img_idx`, `y`,`z` and normalization such that you get high accuracy."
   ]
  },
  {
   "cell_type": "code",
   "execution_count": 7,
   "metadata": {
    "executionInfo": {
     "elapsed": 1328,
     "status": "ok",
     "timestamp": 1619971118765,
     "user": {
      "displayName": "Anjani Siddharth",
      "photoUrl": "",
      "userId": "08896298159225164450"
     },
     "user_tz": -330
    },
    "id": "1uHHQrTrydW_"
   },
   "outputs": [],
   "source": [
    "def generator(source_path, folder_list, batch_size):\n",
    "    print( 'Source path = ', source_path, '; batch size =', batch_size)\n",
    "    img_idx = [x for x in range(0,30,2)]\n",
    "    x = len(img_idx)\n",
    "    y = 120\n",
    "    z = 120\n",
    "    #print(x)\n",
    "\n",
    "    while True:\n",
    "        t = np.random.permutation(folder_list)\n",
    "        num_batches = len(t)//batch_size\n",
    "      \n",
    "        for batch in range(num_batches): # we iterate over the number of batches\n",
    "            batch_data = np.zeros((batch_size,x,y,z,3)) # x is the number of images you use for each video, (y,z) is the final size of the input images and 3 is the number of channels RGB\n",
    "            batch_labels = np.zeros((batch_size,5)) # batch_labels is the one hot representation of the output\n",
    "           \n",
    "            for folder in range(batch_size): # iterate over the batch_size\n",
    "                imgs = sorted(os.listdir(source_path+'/'+ t[folder + (batch*batch_size)].split(';')[0])) # read all the images in the folder\n",
    "                for idx,item in enumerate(img_idx): #  Iterate over the frames/images of a folder to read them in\n",
    "                    image = imread(source_path+'/'+ t[folder + (batch*batch_size)].strip().split(';')[0]+'/'+imgs[item]).astype(np.float32)\n",
    "\n",
    "                    resized_img = crop_resize_img(image)\n",
    "                    \n",
    "                    batch_data[folder,idx,:,:,0] = resized_img[:,:,0]/255 #normalise and feed in the image\n",
    "                    batch_data[folder,idx,:,:,1] = resized_img[:,:,1]/255 #normalise and feed in the image\n",
    "                    batch_data[folder,idx,:,:,2] = resized_img[:,:,2]/255 #normalise and feed in the image\n",
    "                    \n",
    "                batch_labels[folder, int(t[folder + (batch*batch_size)].strip().split(';')[2])] = 1\n",
    "                batch_labels = batch_labels.astype(np.uint8)\n",
    "            yield batch_data, batch_labels #you yield the batch_data and the batch_labels, remember what does yield do\n",
    "\n",
    "        \n",
    "            # write the code for the remaining data points which are left after full batches\n",
    "            if (len(t)%batch_size!=0):\n",
    "              rem_seq = len(t)%batch_size\n",
    "\n",
    "              for folder in range(rem_seq): # iterate over the batch_size\n",
    "                imgs = sorted(os.listdir(source_path+'/'+ t[folder + ((num_batches)*batch_size)].split(';')[0])) # read all the images in the folder\n",
    "                for idx,item in enumerate(img_idx): #  Iterate iver the frames/images of a folder to read them in\n",
    "                    image = imread(source_path+'/'+ t[folder + ((num_batches)*batch_size)].strip().split(';')[0]+'/'+imgs[item]).astype(np.float32)\n",
    "                    \n",
    "                    #crop the images and resize them. Note that the images are of 2 different shape \n",
    "                    #and the conv3D will throw error if the inputs in a batch have different shapes\n",
    "                    resized_img = crop_resize_img(image) #resizing the image\n",
    "                    \n",
    "                    batch_data[folder,idx,:,:,0] = resized_img[:,:,0]/255 #normalise and feed in the image\n",
    "                    batch_data[folder,idx,:,:,1] = resized_img[:,:,1]/255 #normalise and feed in the image\n",
    "                    batch_data[folder,idx,:,:,2] = resized_img[:,:,2]/255 #normalise and feed in the image\n",
    "                    \n",
    "                batch_labels[folder, int(t[folder + (num_batches*batch_size)].strip().split(';')[2])] = 1\n",
    "                batch_labels = batch_labels.astype(np.uint8)\n",
    "            yield batch_data, batch_labels #you yield the batch_data and the batch_labels, remember what does yield do"
   ]
  },
  {
   "cell_type": "markdown",
   "metadata": {
    "id": "nUVq4LKdydXB"
   },
   "source": [
    "Note here that a video is represented above in the generator as (number of images, height, width, number of channels). Take this into consideration while creating the model architecture."
   ]
  },
  {
   "cell_type": "code",
   "execution_count": 8,
   "metadata": {
    "colab": {
     "base_uri": "https://localhost:8080/"
    },
    "executionInfo": {
     "elapsed": 2114,
     "status": "ok",
     "timestamp": 1619971122901,
     "user": {
      "displayName": "Anjani Siddharth",
      "photoUrl": "",
      "userId": "08896298159225164450"
     },
     "user_tz": -330
    },
    "id": "KajVmWOaydXB",
    "outputId": "69521e61-b3e0-4056-a863-7aba1be480b7"
   },
   "outputs": [
    {
     "name": "stdout",
     "output_type": "stream",
     "text": [
      "# training sequences = 663\n",
      "# validation sequences = 100\n",
      "# epochs = 30\n"
     ]
    }
   ],
   "source": [
    "curr_dt_time = datetime.datetime.now()\n",
    "\n",
    "train_path = 'Project_data/train'\n",
    "val_path = 'Project_data/val'\n",
    "\n",
    "num_train_sequences = len(train_doc)\n",
    "print('# training sequences =', num_train_sequences)\n",
    "\n",
    "num_val_sequences = len(val_doc)\n",
    "print('# validation sequences =', num_val_sequences)\n",
    "\n",
    "num_epochs = 30\n",
    "print ('# epochs =', num_epochs)"
   ]
  },
  {
   "cell_type": "markdown",
   "metadata": {
    "id": "KR_FVdabydXC"
   },
   "source": [
    "## Model\n",
    "Here you make the model using different functionalities that Keras provides. Remember to use `Conv3D` and `MaxPooling3D` and not `Conv2D` and `Maxpooling2D` for a 3D convolution model. You would want to use `TimeDistributed` while building a Conv2D + RNN model. Also remember that the last layer is the softmax. Design the network in such a way that the model is able to give good accuracy on the least number of parameters so that it can fit in the memory of the webcam."
   ]
  },
  {
   "cell_type": "markdown",
   "metadata": {
    "id": "hmBBbiLeK1Ky"
   },
   "source": [
    "## Base Model"
   ]
  },
  {
   "cell_type": "code",
   "execution_count": 9,
   "metadata": {},
   "outputs": [],
   "source": [
    "from keras.models import Sequential, Model\n",
    "from keras.layers import Dense, GRU, Flatten, TimeDistributed, Flatten, BatchNormalization, Activation\n",
    "from keras.layers.convolutional import Conv3D, MaxPooling3D, Conv2D, MaxPooling2D\n",
    "from keras.layers.recurrent import LSTM\n",
    "from keras.callbacks import ModelCheckpoint, ReduceLROnPlateau, EarlyStopping\n",
    "from keras import optimizers\n",
    "from keras.layers import Dropout\n",
    "from keras.regularizers import l2"
   ]
  },
  {
   "cell_type": "code",
   "execution_count": 11,
   "metadata": {
    "executionInfo": {
     "elapsed": 1519,
     "status": "ok",
     "timestamp": 1619971126597,
     "user": {
      "displayName": "Anjani Siddharth",
      "photoUrl": "",
      "userId": "08896298159225164450"
     },
     "user_tz": -330
    },
    "id": "-_XcZ4S9ydXC"
   },
   "outputs": [],
   "source": [
    "#write your model here\n",
    "num_classes = 5\n",
    "\n",
    "model = Sequential()\n",
    "\n",
    "model.add(Conv3D(16, kernel_size = (3,3,3), padding = \"same\", input_shape = (15,120,120,3)))\n",
    "model.add(Activation('relu'))\n",
    "model.add(BatchNormalization())\n",
    "model.add(MaxPooling3D(pool_size=(2, 2, 2), padding='same'))\n",
    "\n",
    "#HL1\n",
    "model.add(Conv3D(32, kernel_size = (3,3,3), padding = \"same\", input_shape = (15,120,120,3)))\n",
    "model.add(Activation('relu'))\n",
    "model.add(BatchNormalization())\n",
    "model.add(MaxPooling3D(pool_size=(2, 2, 2), padding='same'))\n",
    "\n",
    "#HL2\n",
    "model.add(Conv3D(64, kernel_size = (3,3,3), padding = \"same\", input_shape = (15,120,120,3)))\n",
    "model.add(Activation('relu'))\n",
    "model.add(BatchNormalization())\n",
    "model.add(MaxPooling3D(pool_size=(2, 2, 2), padding='same'))\n",
    "\n",
    "#HL3\n",
    "model.add(Conv3D(128, kernel_size = (3,3,3), padding = \"same\", input_shape = (15,120,120,3)))\n",
    "model.add(Activation('relu'))\n",
    "model.add(BatchNormalization())\n",
    "model.add(MaxPooling3D(pool_size=(2, 2, 2), padding='same'))\n",
    "\n",
    "#Fully connected\n",
    "model.add(Flatten())\n",
    "model.add(Dense(64, activation = \"relu\"))\n",
    "model.add(BatchNormalization())\n",
    "model.add(Dropout(0.25))\n",
    "model.add(Dense(64, activation = \"relu\"))\n",
    "model.add(BatchNormalization())\n",
    "model.add(Dropout(0.25))\n",
    "\n",
    "#output layer\n",
    "model.add(Dense(num_classes, activation = \"softmax\"))"
   ]
  },
  {
   "cell_type": "markdown",
   "metadata": {
    "id": "R_sIFTFRydXE"
   },
   "source": [
    "Now that you have written the model, the next step is to `compile` the model. When you print the `summary` of the model, you'll see the total number of parameters you have to train."
   ]
  },
  {
   "cell_type": "code",
   "execution_count": 10,
   "metadata": {
    "colab": {
     "base_uri": "https://localhost:8080/"
    },
    "executionInfo": {
     "elapsed": 1274,
     "status": "ok",
     "timestamp": 1619971129729,
     "user": {
      "displayName": "Anjani Siddharth",
      "photoUrl": "",
      "userId": "08896298159225164450"
     },
     "user_tz": -330
    },
    "id": "dxFFHdkdydXF",
    "outputId": "e09da6f0-fd73-4b82-c708-75764af78e38",
    "scrolled": true
   },
   "outputs": [
    {
     "name": "stdout",
     "output_type": "stream",
     "text": [
      "Model: \"sequential\"\n",
      "_________________________________________________________________\n",
      "Layer (type)                 Output Shape              Param #   \n",
      "=================================================================\n",
      "conv3d (Conv3D)              (None, 15, 120, 120, 16)  1312      \n",
      "_________________________________________________________________\n",
      "activation (Activation)      (None, 15, 120, 120, 16)  0         \n",
      "_________________________________________________________________\n",
      "batch_normalization (BatchNo (None, 15, 120, 120, 16)  64        \n",
      "_________________________________________________________________\n",
      "max_pooling3d (MaxPooling3D) (None, 8, 60, 60, 16)     0         \n",
      "_________________________________________________________________\n",
      "conv3d_1 (Conv3D)            (None, 8, 60, 60, 32)     13856     \n",
      "_________________________________________________________________\n",
      "activation_1 (Activation)    (None, 8, 60, 60, 32)     0         \n",
      "_________________________________________________________________\n",
      "batch_normalization_1 (Batch (None, 8, 60, 60, 32)     128       \n",
      "_________________________________________________________________\n",
      "max_pooling3d_1 (MaxPooling3 (None, 4, 30, 30, 32)     0         \n",
      "_________________________________________________________________\n",
      "conv3d_2 (Conv3D)            (None, 4, 30, 30, 64)     55360     \n",
      "_________________________________________________________________\n",
      "activation_2 (Activation)    (None, 4, 30, 30, 64)     0         \n",
      "_________________________________________________________________\n",
      "batch_normalization_2 (Batch (None, 4, 30, 30, 64)     256       \n",
      "_________________________________________________________________\n",
      "max_pooling3d_2 (MaxPooling3 (None, 2, 15, 15, 64)     0         \n",
      "_________________________________________________________________\n",
      "conv3d_3 (Conv3D)            (None, 2, 15, 15, 128)    221312    \n",
      "_________________________________________________________________\n",
      "activation_3 (Activation)    (None, 2, 15, 15, 128)    0         \n",
      "_________________________________________________________________\n",
      "batch_normalization_3 (Batch (None, 2, 15, 15, 128)    512       \n",
      "_________________________________________________________________\n",
      "max_pooling3d_3 (MaxPooling3 (None, 1, 8, 8, 128)      0         \n",
      "_________________________________________________________________\n",
      "flatten (Flatten)            (None, 8192)              0         \n",
      "_________________________________________________________________\n",
      "dense (Dense)                (None, 64)                524352    \n",
      "_________________________________________________________________\n",
      "batch_normalization_4 (Batch (None, 64)                256       \n",
      "_________________________________________________________________\n",
      "dropout (Dropout)            (None, 64)                0         \n",
      "_________________________________________________________________\n",
      "dense_1 (Dense)              (None, 64)                4160      \n",
      "_________________________________________________________________\n",
      "batch_normalization_5 (Batch (None, 64)                256       \n",
      "_________________________________________________________________\n",
      "dropout_1 (Dropout)          (None, 64)                0         \n",
      "_________________________________________________________________\n",
      "dense_2 (Dense)              (None, 5)                 325       \n",
      "=================================================================\n",
      "Total params: 822,149\n",
      "Trainable params: 821,413\n",
      "Non-trainable params: 736\n",
      "_________________________________________________________________\n",
      "None\n"
     ]
    }
   ],
   "source": [
    "optimiser = \"adam\"\n",
    "model.compile(optimizer=optimiser, loss='categorical_crossentropy', metrics=['categorical_accuracy'])\n",
    "print (model.summary())"
   ]
  },
  {
   "cell_type": "markdown",
   "metadata": {
    "id": "5uxD8G_MydXG"
   },
   "source": [
    "Let us create the `train_generator` and the `val_generator` which will be used in `.fit_generator`."
   ]
  },
  {
   "cell_type": "code",
   "execution_count": 10,
   "metadata": {
    "executionInfo": {
     "elapsed": 1196,
     "status": "ok",
     "timestamp": 1619971133924,
     "user": {
      "displayName": "Anjani Siddharth",
      "photoUrl": "",
      "userId": "08896298159225164450"
     },
     "user_tz": -330
    },
    "id": "ieVh3ZqKydXG"
   },
   "outputs": [],
   "source": [
    "train_generator = generator(train_path, train_doc, batch_size)\n",
    "val_generator = generator(val_path, val_doc, batch_size)"
   ]
  },
  {
   "cell_type": "code",
   "execution_count": 11,
   "metadata": {
    "colab": {
     "base_uri": "https://localhost:8080/"
    },
    "executionInfo": {
     "elapsed": 1722,
     "status": "ok",
     "timestamp": 1619971136290,
     "user": {
      "displayName": "Anjani Siddharth",
      "photoUrl": "",
      "userId": "08896298159225164450"
     },
     "user_tz": -330
    },
    "id": "KWr8bIHGydXH",
    "outputId": "642cc331-d268-4518-b280-73de3eec694b"
   },
   "outputs": [
    {
     "name": "stderr",
     "output_type": "stream",
     "text": [
      "WARNING: Logging before flag parsing goes to stderr.\n",
      "W0503 04:17:09.389727 139676061185856 callbacks.py:1071] `period` argument is deprecated. Please use `save_freq` to specify the frequency in number of batches seen.\n"
     ]
    }
   ],
   "source": [
    "model_name = 'gesture_recog_model' + '_' + str(datetime.datetime.now()).replace(' ','').replace(':','_') + '/'\n",
    "    \n",
    "if not os.path.exists(model_name):\n",
    "  os.mkdir(model_name)\n",
    "        \n",
    "filepath = model_name + 'model-{epoch:05d}-{loss:.5f}-{categorical_accuracy:.5f}-{val_loss:.5f}-{val_categorical_accuracy:.5f}.h5'\n",
    "\n",
    "checkpoint = ModelCheckpoint(filepath, monitor='val_loss', verbose=1, save_best_only=False, save_weights_only=False, mode='auto', period=1)\n",
    "LR = ReduceLROnPlateau(monitor='val_loss', factor=0.2, verbose=1, patience=4)\n",
    "callbacks_list = [checkpoint, LR]"
   ]
  },
  {
   "cell_type": "markdown",
   "metadata": {
    "id": "TA66nhPGydXH"
   },
   "source": [
    "The `steps_per_epoch` and `validation_steps` are used by `fit_generator` to decide the number of next() calls it need to make."
   ]
  },
  {
   "cell_type": "code",
   "execution_count": 12,
   "metadata": {
    "colab": {
     "base_uri": "https://localhost:8080/"
    },
    "executionInfo": {
     "elapsed": 1636,
     "status": "ok",
     "timestamp": 1619971140520,
     "user": {
      "displayName": "Anjani Siddharth",
      "photoUrl": "",
      "userId": "08896298159225164450"
     },
     "user_tz": -330
    },
    "id": "jJeB1FrTydXI",
    "outputId": "0119ab9e-dec8-4087-f52f-224654e6d4a8"
   },
   "outputs": [
    {
     "name": "stdout",
     "output_type": "stream",
     "text": [
      "Train Epoch value:  34\n",
      "Val Epoch value:  5\n"
     ]
    }
   ],
   "source": [
    "if (num_train_sequences%batch_size) == 0:\n",
    "    steps_per_epoch = int(num_train_sequences/batch_size)\n",
    "else:\n",
    "    steps_per_epoch = (num_train_sequences//batch_size) + 1\n",
    "\n",
    "if (num_val_sequences%batch_size) == 0:\n",
    "    validation_steps = int(num_val_sequences/batch_size)\n",
    "else:\n",
    "    validation_steps = (num_val_sequences//batch_size) + 1\n",
    "\n",
    "print(\"Train Epoch value: \", steps_per_epoch)\n",
    "print(\"Val Epoch value: \", validation_steps)"
   ]
  },
  {
   "cell_type": "markdown",
   "metadata": {
    "id": "GWA47gAuydXI"
   },
   "source": [
    "Let us now fit the model. This will start training the model and with the help of the checkpoints, you'll be able to save the model at the end of each epoch."
   ]
  },
  {
   "cell_type": "code",
   "execution_count": 14,
   "metadata": {
    "colab": {
     "background_save": true,
     "base_uri": "https://localhost:8080/"
    },
    "id": "CvxAEXsSMmyR"
   },
   "outputs": [
    {
     "name": "stdout",
     "output_type": "stream",
     "text": [
      "Source path =  Project_data/train ; batch size = 20\n",
      "Epoch 1/30\n",
      "34/34 [==============================] - ETA: 0s - loss: 1.6259 - categorical_accuracy: 0.4265Source path =  Project_data/val ; batch size = 20\n",
      "\n",
      "Epoch 00001: saving model to gesture_recog_model_2021-05-0218_10_43.426019/model-00001-1.62586-0.42647-2.73234-0.15000.h5\n",
      "34/34 [==============================] - 31s 915ms/step - loss: 1.6259 - categorical_accuracy: 0.4265 - val_loss: 2.7323 - val_categorical_accuracy: 0.1500 - lr: 0.0010\n",
      "Epoch 2/30\n",
      "34/34 [==============================] - ETA: 0s - loss: 1.2070 - categorical_accuracy: 0.5544\n",
      "Epoch 00002: saving model to gesture_recog_model_2021-05-0218_10_43.426019/model-00002-1.20697-0.55441-8.36078-0.15000.h5\n",
      "34/34 [==============================] - 31s 922ms/step - loss: 1.2070 - categorical_accuracy: 0.5544 - val_loss: 8.3608 - val_categorical_accuracy: 0.1500 - lr: 0.0010\n",
      "Epoch 3/30\n",
      "34/34 [==============================] - ETA: 0s - loss: 0.9672 - categorical_accuracy: 0.6897\n",
      "Epoch 00003: saving model to gesture_recog_model_2021-05-0218_10_43.426019/model-00003-0.96725-0.68971-5.75583-0.12000.h5\n",
      "34/34 [==============================] - 32s 943ms/step - loss: 0.9672 - categorical_accuracy: 0.6897 - val_loss: 5.7558 - val_categorical_accuracy: 0.1200 - lr: 0.0010\n",
      "Epoch 4/30\n",
      "34/34 [==============================] - ETA: 0s - loss: 0.7606 - categorical_accuracy: 0.7529\n",
      "Epoch 00004: saving model to gesture_recog_model_2021-05-0218_10_43.426019/model-00004-0.76061-0.75294-5.10793-0.19000.h5\n",
      "34/34 [==============================] - 31s 907ms/step - loss: 0.7606 - categorical_accuracy: 0.7529 - val_loss: 5.1079 - val_categorical_accuracy: 0.1900 - lr: 0.0010\n",
      "Epoch 5/30\n",
      "34/34 [==============================] - ETA: 0s - loss: 0.7118 - categorical_accuracy: 0.8132\n",
      "Epoch 00005: saving model to gesture_recog_model_2021-05-0218_10_43.426019/model-00005-0.71175-0.81324-5.00120-0.33000.h5\n",
      "\n",
      "Epoch 00005: ReduceLROnPlateau reducing learning rate to 0.00020000000949949026.\n",
      "34/34 [==============================] - 30s 889ms/step - loss: 0.7118 - categorical_accuracy: 0.8132 - val_loss: 5.0012 - val_categorical_accuracy: 0.3300 - lr: 0.0010\n",
      "Epoch 6/30\n",
      "34/34 [==============================] - ETA: 0s - loss: 0.7267 - categorical_accuracy: 0.8147\n",
      "Epoch 00006: saving model to gesture_recog_model_2021-05-0218_10_43.426019/model-00006-0.72674-0.81471-4.70826-0.25000.h5\n",
      "34/34 [==============================] - 32s 935ms/step - loss: 0.7267 - categorical_accuracy: 0.8147 - val_loss: 4.7083 - val_categorical_accuracy: 0.2500 - lr: 2.0000e-04\n",
      "Epoch 7/30\n",
      "34/34 [==============================] - ETA: 0s - loss: 0.6783 - categorical_accuracy: 0.8544\n",
      "Epoch 00007: saving model to gesture_recog_model_2021-05-0218_10_43.426019/model-00007-0.67827-0.85441-4.02543-0.23000.h5\n",
      "34/34 [==============================] - 31s 913ms/step - loss: 0.6783 - categorical_accuracy: 0.8544 - val_loss: 4.0254 - val_categorical_accuracy: 0.2300 - lr: 2.0000e-04\n",
      "Epoch 8/30\n",
      "34/34 [==============================] - ETA: 0s - loss: 0.5673 - categorical_accuracy: 0.8794\n",
      "Epoch 00008: saving model to gesture_recog_model_2021-05-0218_10_43.426019/model-00008-0.56735-0.87941-3.81654-0.23000.h5\n",
      "34/34 [==============================] - 31s 914ms/step - loss: 0.5673 - categorical_accuracy: 0.8794 - val_loss: 3.8165 - val_categorical_accuracy: 0.2300 - lr: 2.0000e-04\n",
      "Epoch 9/30\n",
      "34/34 [==============================] - ETA: 0s - loss: 0.6302 - categorical_accuracy: 0.8912\n",
      "Epoch 00009: saving model to gesture_recog_model_2021-05-0218_10_43.426019/model-00009-0.63020-0.89118-3.25514-0.26000.h5\n",
      "\n",
      "Epoch 00009: ReduceLROnPlateau reducing learning rate to 4.0000001899898055e-05.\n",
      "34/34 [==============================] - 32s 932ms/step - loss: 0.6302 - categorical_accuracy: 0.8912 - val_loss: 3.2551 - val_categorical_accuracy: 0.2600 - lr: 2.0000e-04\n",
      "Epoch 10/30\n",
      "34/34 [==============================] - ETA: 0s - loss: 0.5898 - categorical_accuracy: 0.9059\n",
      "Epoch 00010: saving model to gesture_recog_model_2021-05-0218_10_43.426019/model-00010-0.58981-0.90588-2.55639-0.36000.h5\n",
      "34/34 [==============================] - 30s 888ms/step - loss: 0.5898 - categorical_accuracy: 0.9059 - val_loss: 2.5564 - val_categorical_accuracy: 0.3600 - lr: 4.0000e-05\n",
      "Epoch 11/30\n",
      "34/34 [==============================] - ETA: 0s - loss: 0.5874 - categorical_accuracy: 0.9235\n",
      "Epoch 00011: saving model to gesture_recog_model_2021-05-0218_10_43.426019/model-00011-0.58738-0.92353-2.53220-0.30000.h5\n",
      "34/34 [==============================] - 32s 927ms/step - loss: 0.5874 - categorical_accuracy: 0.9235 - val_loss: 2.5322 - val_categorical_accuracy: 0.3000 - lr: 4.0000e-05\n",
      "Epoch 12/30\n",
      "34/34 [==============================] - ETA: 0s - loss: 0.6153 - categorical_accuracy: 0.9029\n",
      "Epoch 00012: saving model to gesture_recog_model_2021-05-0218_10_43.426019/model-00012-0.61531-0.90294-2.03448-0.50000.h5\n",
      "34/34 [==============================] - 31s 917ms/step - loss: 0.6153 - categorical_accuracy: 0.9029 - val_loss: 2.0345 - val_categorical_accuracy: 0.5000 - lr: 4.0000e-05\n",
      "Epoch 13/30\n",
      "34/34 [==============================] - ETA: 0s - loss: 0.5355 - categorical_accuracy: 0.9309\n",
      "Epoch 00013: saving model to gesture_recog_model_2021-05-0218_10_43.426019/model-00013-0.53546-0.93088-1.89515-0.45000.h5\n",
      "34/34 [==============================] - 31s 911ms/step - loss: 0.5355 - categorical_accuracy: 0.9309 - val_loss: 1.8952 - val_categorical_accuracy: 0.4500 - lr: 4.0000e-05\n",
      "Epoch 14/30\n",
      "34/34 [==============================] - ETA: 0s - loss: 0.5012 - categorical_accuracy: 0.9456\n",
      "Epoch 00014: saving model to gesture_recog_model_2021-05-0218_10_43.426019/model-00014-0.50116-0.94559-0.78719-0.70000.h5\n",
      "34/34 [==============================] - 31s 899ms/step - loss: 0.5012 - categorical_accuracy: 0.9456 - val_loss: 0.7872 - val_categorical_accuracy: 0.7000 - lr: 4.0000e-05\n",
      "Epoch 15/30\n",
      "34/34 [==============================] - ETA: 0s - loss: 0.4903 - categorical_accuracy: 0.9426\n",
      "Epoch 00015: saving model to gesture_recog_model_2021-05-0218_10_43.426019/model-00015-0.49034-0.94265-1.18130-0.63000.h5\n",
      "34/34 [==============================] - 32s 933ms/step - loss: 0.4903 - categorical_accuracy: 0.9426 - val_loss: 1.1813 - val_categorical_accuracy: 0.6300 - lr: 4.0000e-05\n",
      "Epoch 16/30\n",
      "34/34 [==============================] - ETA: 0s - loss: 0.4579 - categorical_accuracy: 0.9397\n",
      "Epoch 00016: saving model to gesture_recog_model_2021-05-0218_10_43.426019/model-00016-0.45791-0.93971-0.69584-0.75000.h5\n",
      "34/34 [==============================] - 31s 913ms/step - loss: 0.4579 - categorical_accuracy: 0.9397 - val_loss: 0.6958 - val_categorical_accuracy: 0.7500 - lr: 4.0000e-05\n",
      "Epoch 17/30\n",
      "34/34 [==============================] - ETA: 0s - loss: 0.4998 - categorical_accuracy: 0.9397\n",
      "Epoch 00017: saving model to gesture_recog_model_2021-05-0218_10_43.426019/model-00017-0.49985-0.93971-0.56126-0.87000.h5\n",
      "34/34 [==============================] - 30s 879ms/step - loss: 0.4998 - categorical_accuracy: 0.9397 - val_loss: 0.5613 - val_categorical_accuracy: 0.8700 - lr: 4.0000e-05\n",
      "Epoch 18/30\n",
      "34/34 [==============================] - ETA: 0s - loss: 0.4606 - categorical_accuracy: 0.9294\n",
      "Epoch 00018: saving model to gesture_recog_model_2021-05-0218_10_43.426019/model-00018-0.46061-0.92941-0.58463-0.79000.h5\n",
      "34/34 [==============================] - 32s 955ms/step - loss: 0.4606 - categorical_accuracy: 0.9294 - val_loss: 0.5846 - val_categorical_accuracy: 0.7900 - lr: 4.0000e-05\n",
      "Epoch 19/30\n",
      "34/34 [==============================] - ETA: 0s - loss: 0.5303 - categorical_accuracy: 0.9309\n",
      "Epoch 00019: saving model to gesture_recog_model_2021-05-0218_10_43.426019/model-00019-0.53028-0.93088-0.48420-0.84000.h5\n",
      "34/34 [==============================] - 31s 920ms/step - loss: 0.5303 - categorical_accuracy: 0.9309 - val_loss: 0.4842 - val_categorical_accuracy: 0.8400 - lr: 4.0000e-05\n",
      "Epoch 20/30\n",
      "34/34 [==============================] - ETA: 0s - loss: 0.4784 - categorical_accuracy: 0.9456\n",
      "Epoch 00020: saving model to gesture_recog_model_2021-05-0218_10_43.426019/model-00020-0.47841-0.94559-0.43911-0.87000.h5\n",
      "34/34 [==============================] - 32s 927ms/step - loss: 0.4784 - categorical_accuracy: 0.9456 - val_loss: 0.4391 - val_categorical_accuracy: 0.8700 - lr: 4.0000e-05\n"
     ]
    },
    {
     "name": "stdout",
     "output_type": "stream",
     "text": [
      "Epoch 21/30\n",
      "34/34 [==============================] - ETA: 0s - loss: 0.5500 - categorical_accuracy: 0.9441\n",
      "Epoch 00021: saving model to gesture_recog_model_2021-05-0218_10_43.426019/model-00021-0.54999-0.94412-0.46411-0.82000.h5\n",
      "34/34 [==============================] - 31s 905ms/step - loss: 0.5500 - categorical_accuracy: 0.9441 - val_loss: 0.4641 - val_categorical_accuracy: 0.8200 - lr: 4.0000e-05\n",
      "Epoch 22/30\n",
      "34/34 [==============================] - ETA: 0s - loss: 0.5670 - categorical_accuracy: 0.9485\n",
      "Epoch 00022: saving model to gesture_recog_model_2021-05-0218_10_43.426019/model-00022-0.56700-0.94853-0.27022-0.92000.h5\n",
      "34/34 [==============================] - 31s 909ms/step - loss: 0.5670 - categorical_accuracy: 0.9485 - val_loss: 0.2702 - val_categorical_accuracy: 0.9200 - lr: 4.0000e-05\n",
      "Epoch 23/30\n",
      "34/34 [==============================] - ETA: 0s - loss: 0.4312 - categorical_accuracy: 0.9588\n",
      "Epoch 00023: saving model to gesture_recog_model_2021-05-0218_10_43.426019/model-00023-0.43123-0.95882-0.23629-0.92000.h5\n",
      "34/34 [==============================] - 32s 928ms/step - loss: 0.4312 - categorical_accuracy: 0.9588 - val_loss: 0.2363 - val_categorical_accuracy: 0.9200 - lr: 4.0000e-05\n",
      "Epoch 24/30\n",
      "34/34 [==============================] - ETA: 0s - loss: 0.5385 - categorical_accuracy: 0.9176\n",
      "Epoch 00024: saving model to gesture_recog_model_2021-05-0218_10_43.426019/model-00024-0.53854-0.91765-0.22438-0.93000.h5\n",
      "34/34 [==============================] - 31s 924ms/step - loss: 0.5385 - categorical_accuracy: 0.9176 - val_loss: 0.2244 - val_categorical_accuracy: 0.9300 - lr: 4.0000e-05\n",
      "Epoch 25/30\n",
      "34/34 [==============================] - ETA: 0s - loss: 0.4773 - categorical_accuracy: 0.9397\n",
      "Epoch 00025: saving model to gesture_recog_model_2021-05-0218_10_43.426019/model-00025-0.47735-0.93971-0.28718-0.90000.h5\n",
      "34/34 [==============================] - 31s 924ms/step - loss: 0.4773 - categorical_accuracy: 0.9397 - val_loss: 0.2872 - val_categorical_accuracy: 0.9000 - lr: 4.0000e-05\n",
      "Epoch 26/30\n",
      "34/34 [==============================] - ETA: 0s - loss: 0.4513 - categorical_accuracy: 0.9324\n",
      "Epoch 00026: saving model to gesture_recog_model_2021-05-0218_10_43.426019/model-00026-0.45134-0.93235-0.21414-0.91000.h5\n",
      "34/34 [==============================] - 30s 893ms/step - loss: 0.4513 - categorical_accuracy: 0.9324 - val_loss: 0.2141 - val_categorical_accuracy: 0.9100 - lr: 4.0000e-05\n",
      "Epoch 27/30\n",
      "34/34 [==============================] - ETA: 0s - loss: 0.4956 - categorical_accuracy: 0.9279\n",
      "Epoch 00027: saving model to gesture_recog_model_2021-05-0218_10_43.426019/model-00027-0.49565-0.92794-0.39260-0.83000.h5\n",
      "34/34 [==============================] - 31s 922ms/step - loss: 0.4956 - categorical_accuracy: 0.9279 - val_loss: 0.3926 - val_categorical_accuracy: 0.8300 - lr: 4.0000e-05\n",
      "Epoch 28/30\n",
      "34/34 [==============================] - ETA: 0s - loss: 0.4939 - categorical_accuracy: 0.9382\n",
      "Epoch 00028: saving model to gesture_recog_model_2021-05-0218_10_43.426019/model-00028-0.49385-0.93824-0.17032-0.93000.h5\n",
      "34/34 [==============================] - 32s 928ms/step - loss: 0.4939 - categorical_accuracy: 0.9382 - val_loss: 0.1703 - val_categorical_accuracy: 0.9300 - lr: 4.0000e-05\n",
      "Epoch 29/30\n",
      "34/34 [==============================] - ETA: 0s - loss: 0.4889 - categorical_accuracy: 0.9412\n",
      "Epoch 00029: saving model to gesture_recog_model_2021-05-0218_10_43.426019/model-00029-0.48891-0.94118-0.23719-0.89000.h5\n",
      "34/34 [==============================] - 30s 878ms/step - loss: 0.4889 - categorical_accuracy: 0.9412 - val_loss: 0.2372 - val_categorical_accuracy: 0.8900 - lr: 4.0000e-05\n",
      "Epoch 30/30\n",
      "34/34 [==============================] - ETA: 0s - loss: 0.4651 - categorical_accuracy: 0.9706\n",
      "Epoch 00030: saving model to gesture_recog_model_2021-05-0218_10_43.426019/model-00030-0.46513-0.97059-0.21154-0.96000.h5\n",
      "34/34 [==============================] - 31s 925ms/step - loss: 0.4651 - categorical_accuracy: 0.9706 - val_loss: 0.2115 - val_categorical_accuracy: 0.9600 - lr: 4.0000e-05\n"
     ]
    }
   ],
   "source": [
    "history = model.fit(train_generator, steps_per_epoch=steps_per_epoch, epochs=num_epochs, verbose=1, \n",
    "                    callbacks=callbacks_list, validation_data=val_generator, \n",
    "                    validation_steps=validation_steps, class_weight=None, workers=1, initial_epoch=0)"
   ]
  },
  {
   "cell_type": "code",
   "execution_count": 15,
   "metadata": {
    "id": "jPyyraQYkmim"
   },
   "outputs": [
    {
     "data": {
      "image/png": "[encoded data removed]",
      "text/plain": [
       "<Figure size 1080x288 with 2 Axes>"
      ]
     },
     "metadata": {
      "needs_background": "light"
     },
     "output_type": "display_data"
    }
   ],
   "source": [
    "plot(history)"
   ]
  },
  {
   "cell_type": "markdown",
   "metadata": {
    "id": "Y6H7n_faghuk"
   },
   "source": [
    "### Observation\n",
    "Model seems to be performing well with our Base Model, let us try to change filter size to (2,2,2) to reduce number of parameters"
   ]
  },
  {
   "cell_type": "markdown",
   "metadata": {
    "id": "xR7chOayLf9z"
   },
   "source": [
    "# Model 1\n",
    "Changing filter size to (2,2,2)"
   ]
  },
  {
   "cell_type": "code",
   "execution_count": 16,
   "metadata": {
    "executionInfo": {
     "elapsed": 1365,
     "status": "ok",
     "timestamp": 1619969191418,
     "user": {
      "displayName": "Anjani Siddharth",
      "photoUrl": "",
      "userId": "08896298159225164450"
     },
     "user_tz": -330
    },
    "id": "_ai5RGc6Ll9t"
   },
   "outputs": [],
   "source": [
    "#write your model here\n",
    "num_classes = 5\n",
    "\n",
    "model1 = Sequential()\n",
    "\n",
    "model1.add(Conv3D(16, kernel_size = (2,2,2), padding = \"same\", input_shape = (15,120,120,3)))\n",
    "model1.add(Activation('relu'))\n",
    "model1.add(BatchNormalization())\n",
    "model1.add(MaxPooling3D(pool_size=(2, 2, 2), padding='same'))\n",
    "\n",
    "#HL1\n",
    "model1.add(Conv3D(32, kernel_size = (2,2,2), padding = \"same\", input_shape = (15,120,120,3)))\n",
    "model1.add(Activation('relu'))\n",
    "model1.add(BatchNormalization())\n",
    "model1.add(MaxPooling3D(pool_size=(2, 2, 2), padding='same'))\n",
    "\n",
    "#HL2\n",
    "model1.add(Conv3D(64, kernel_size = (2,2,2), padding = \"same\", input_shape = (15,120,120,3)))\n",
    "model1.add(Activation('relu'))\n",
    "model1.add(BatchNormalization())\n",
    "model1.add(MaxPooling3D(pool_size=(2, 2, 2), padding='same'))\n",
    "\n",
    "#HL3\n",
    "model1.add(Conv3D(128, kernel_size = (2,2,2), padding = \"same\", input_shape = (15,120,120,3)))\n",
    "model1.add(Activation('relu'))\n",
    "model1.add(BatchNormalization())\n",
    "model1.add(MaxPooling3D(pool_size=(2, 2, 2), padding='same'))\n",
    "\n",
    "#Fully connected\n",
    "model1.add(Flatten())\n",
    "model1.add(Dense(64, activation = \"relu\"))\n",
    "model1.add(BatchNormalization())\n",
    "model1.add(Dropout(0.25))\n",
    "model1.add(Dense(64, activation = \"relu\"))\n",
    "model1.add(BatchNormalization())\n",
    "model1.add(Dropout(0.25))\n",
    "\n",
    "#output layer\n",
    "model1.add(Dense(num_classes, activation = \"softmax\"))"
   ]
  },
  {
   "cell_type": "code",
   "execution_count": 19,
   "metadata": {
    "id": "Ji4SlwU9L67a"
   },
   "outputs": [
    {
     "name": "stdout",
     "output_type": "stream",
     "text": [
      "Model: \"sequential_1\"\n",
      "_________________________________________________________________\n",
      "Layer (type)                 Output Shape              Param #   \n",
      "=================================================================\n",
      "conv3d_4 (Conv3D)            (None, 15, 120, 120, 16)  400       \n",
      "_________________________________________________________________\n",
      "activation_4 (Activation)    (None, 15, 120, 120, 16)  0         \n",
      "_________________________________________________________________\n",
      "batch_normalization_6 (Batch (None, 15, 120, 120, 16)  64        \n",
      "_________________________________________________________________\n",
      "max_pooling3d_4 (MaxPooling3 (None, 8, 60, 60, 16)     0         \n",
      "_________________________________________________________________\n",
      "conv3d_5 (Conv3D)            (None, 8, 60, 60, 32)     4128      \n",
      "_________________________________________________________________\n",
      "activation_5 (Activation)    (None, 8, 60, 60, 32)     0         \n",
      "_________________________________________________________________\n",
      "batch_normalization_7 (Batch (None, 8, 60, 60, 32)     128       \n",
      "_________________________________________________________________\n",
      "max_pooling3d_5 (MaxPooling3 (None, 4, 30, 30, 32)     0         \n",
      "_________________________________________________________________\n",
      "conv3d_6 (Conv3D)            (None, 4, 30, 30, 64)     16448     \n",
      "_________________________________________________________________\n",
      "activation_6 (Activation)    (None, 4, 30, 30, 64)     0         \n",
      "_________________________________________________________________\n",
      "batch_normalization_8 (Batch (None, 4, 30, 30, 64)     256       \n",
      "_________________________________________________________________\n",
      "max_pooling3d_6 (MaxPooling3 (None, 2, 15, 15, 64)     0         \n",
      "_________________________________________________________________\n",
      "conv3d_7 (Conv3D)            (None, 2, 15, 15, 128)    65664     \n",
      "_________________________________________________________________\n",
      "activation_7 (Activation)    (None, 2, 15, 15, 128)    0         \n",
      "_________________________________________________________________\n",
      "batch_normalization_9 (Batch (None, 2, 15, 15, 128)    512       \n",
      "_________________________________________________________________\n",
      "max_pooling3d_7 (MaxPooling3 (None, 1, 8, 8, 128)      0         \n",
      "_________________________________________________________________\n",
      "flatten_1 (Flatten)          (None, 8192)              0         \n",
      "_________________________________________________________________\n",
      "dense_3 (Dense)              (None, 64)                524352    \n",
      "_________________________________________________________________\n",
      "batch_normalization_10 (Batc (None, 64)                256       \n",
      "_________________________________________________________________\n",
      "dropout_2 (Dropout)          (None, 64)                0         \n",
      "_________________________________________________________________\n",
      "dense_4 (Dense)              (None, 64)                4160      \n",
      "_________________________________________________________________\n",
      "batch_normalization_11 (Batc (None, 64)                256       \n",
      "_________________________________________________________________\n",
      "dropout_3 (Dropout)          (None, 64)                0         \n",
      "_________________________________________________________________\n",
      "dense_5 (Dense)              (None, 5)                 325       \n",
      "=================================================================\n",
      "Total params: 616,949\n",
      "Trainable params: 616,213\n",
      "Non-trainable params: 736\n",
      "_________________________________________________________________\n",
      "None\n"
     ]
    }
   ],
   "source": [
    "optimiser = \"adam\"\n",
    "model1.compile(optimizer=optimiser, loss='categorical_crossentropy', metrics=['categorical_accuracy'])\n",
    "print (model1.summary())"
   ]
  },
  {
   "cell_type": "code",
   "execution_count": 20,
   "metadata": {
    "id": "iUXUd9B4MNDt"
   },
   "outputs": [
    {
     "name": "stdout",
     "output_type": "stream",
     "text": [
      "Epoch 1/30\n",
      "34/34 [==============================] - ETA: 0s - loss: 1.6792 - categorical_accuracy: 0.4794\n",
      "Epoch 00001: saving model to gesture_recog_model_2021-05-0218_10_43.426019/model-00001-1.67918-0.47941-2.88664-0.19000.h5\n",
      "34/34 [==============================] - 29s 863ms/step - loss: 1.6792 - categorical_accuracy: 0.4794 - val_loss: 2.8866 - val_categorical_accuracy: 0.1900 - lr: 0.0010\n",
      "Epoch 2/30\n",
      "34/34 [==============================] - ETA: 0s - loss: 1.1987 - categorical_accuracy: 0.6279\n",
      "Epoch 00002: saving model to gesture_recog_model_2021-05-0218_10_43.426019/model-00002-1.19867-0.62794-6.51741-0.13000.h5\n",
      "34/34 [==============================] - 30s 890ms/step - loss: 1.1987 - categorical_accuracy: 0.6279 - val_loss: 6.5174 - val_categorical_accuracy: 0.1300 - lr: 0.0010\n",
      "Epoch 3/30\n",
      "34/34 [==============================] - ETA: 0s - loss: 1.1057 - categorical_accuracy: 0.6662\n",
      "Epoch 00003: saving model to gesture_recog_model_2021-05-0218_10_43.426019/model-00003-1.10574-0.66618-8.07968-0.16000.h5\n",
      "34/34 [==============================] - 29s 858ms/step - loss: 1.1057 - categorical_accuracy: 0.6662 - val_loss: 8.0797 - val_categorical_accuracy: 0.1600 - lr: 0.0010\n",
      "Epoch 4/30\n",
      "34/34 [==============================] - ETA: 0s - loss: 0.8107 - categorical_accuracy: 0.8265\n",
      "Epoch 00004: saving model to gesture_recog_model_2021-05-0218_10_43.426019/model-00004-0.81070-0.82647-8.34933-0.15000.h5\n",
      "34/34 [==============================] - 30s 880ms/step - loss: 0.8107 - categorical_accuracy: 0.8265 - val_loss: 8.3493 - val_categorical_accuracy: 0.1500 - lr: 0.0010\n",
      "Epoch 5/30\n",
      "34/34 [==============================] - ETA: 0s - loss: 0.7336 - categorical_accuracy: 0.8353\n",
      "Epoch 00005: saving model to gesture_recog_model_2021-05-0218_10_43.426019/model-00005-0.73357-0.83529-6.84298-0.18000.h5\n",
      "\n",
      "Epoch 00005: ReduceLROnPlateau reducing learning rate to 0.00020000000949949026.\n",
      "34/34 [==============================] - 29s 866ms/step - loss: 0.7336 - categorical_accuracy: 0.8353 - val_loss: 6.8430 - val_categorical_accuracy: 0.1800 - lr: 0.0010\n",
      "Epoch 6/30\n",
      "34/34 [==============================] - ETA: 0s - loss: 0.5441 - categorical_accuracy: 0.8824\n",
      "Epoch 00006: saving model to gesture_recog_model_2021-05-0218_10_43.426019/model-00006-0.54408-0.88235-6.77300-0.18000.h5\n",
      "34/34 [==============================] - 29s 861ms/step - loss: 0.5441 - categorical_accuracy: 0.8824 - val_loss: 6.7730 - val_categorical_accuracy: 0.1800 - lr: 2.0000e-04\n",
      "Epoch 7/30\n",
      "34/34 [==============================] - ETA: 0s - loss: 0.5998 - categorical_accuracy: 0.8721\n",
      "Epoch 00007: saving model to gesture_recog_model_2021-05-0218_10_43.426019/model-00007-0.59975-0.87206-7.25384-0.14000.h5\n",
      "34/34 [==============================] - 30s 870ms/step - loss: 0.5998 - categorical_accuracy: 0.8721 - val_loss: 7.2538 - val_categorical_accuracy: 0.1400 - lr: 2.0000e-04\n",
      "Epoch 8/30\n",
      "34/34 [==============================] - ETA: 0s - loss: 0.5806 - categorical_accuracy: 0.8853\n",
      "Epoch 00008: saving model to gesture_recog_model_2021-05-0218_10_43.426019/model-00008-0.58059-0.88529-5.49943-0.21000.h5\n",
      "34/34 [==============================] - 30s 869ms/step - loss: 0.5806 - categorical_accuracy: 0.8853 - val_loss: 5.4994 - val_categorical_accuracy: 0.2100 - lr: 2.0000e-04\n",
      "Epoch 9/30\n",
      "34/34 [==============================] - ETA: 0s - loss: 0.5502 - categorical_accuracy: 0.8794\n",
      "Epoch 00009: saving model to gesture_recog_model_2021-05-0218_10_43.426019/model-00009-0.55021-0.87941-4.77333-0.20000.h5\n",
      "\n",
      "Epoch 00009: ReduceLROnPlateau reducing learning rate to 4.0000001899898055e-05.\n",
      "34/34 [==============================] - 30s 871ms/step - loss: 0.5502 - categorical_accuracy: 0.8794 - val_loss: 4.7733 - val_categorical_accuracy: 0.2000 - lr: 2.0000e-04\n",
      "Epoch 10/30\n",
      "34/34 [==============================] - ETA: 0s - loss: 0.5053 - categorical_accuracy: 0.9103\n",
      "Epoch 00010: saving model to gesture_recog_model_2021-05-0218_10_43.426019/model-00010-0.50533-0.91029-4.45229-0.12000.h5\n",
      "34/34 [==============================] - 29s 855ms/step - loss: 0.5053 - categorical_accuracy: 0.9103 - val_loss: 4.4523 - val_categorical_accuracy: 0.1200 - lr: 4.0000e-05\n",
      "Epoch 11/30\n",
      "34/34 [==============================] - ETA: 0s - loss: 0.5513 - categorical_accuracy: 0.9059\n",
      "Epoch 00011: saving model to gesture_recog_model_2021-05-0218_10_43.426019/model-00011-0.55130-0.90588-2.80302-0.32000.h5\n",
      "34/34 [==============================] - 31s 902ms/step - loss: 0.5513 - categorical_accuracy: 0.9059 - val_loss: 2.8030 - val_categorical_accuracy: 0.3200 - lr: 4.0000e-05\n",
      "Epoch 12/30\n",
      "34/34 [==============================] - ETA: 0s - loss: 0.5851 - categorical_accuracy: 0.9118\n",
      "Epoch 00012: saving model to gesture_recog_model_2021-05-0218_10_43.426019/model-00012-0.58511-0.91176-3.49858-0.32000.h5\n",
      "34/34 [==============================] - 30s 877ms/step - loss: 0.5851 - categorical_accuracy: 0.9118 - val_loss: 3.4986 - val_categorical_accuracy: 0.3200 - lr: 4.0000e-05\n",
      "Epoch 13/30\n",
      "34/34 [==============================] - ETA: 0s - loss: 0.5137 - categorical_accuracy: 0.9206\n",
      "Epoch 00013: saving model to gesture_recog_model_2021-05-0218_10_43.426019/model-00013-0.51370-0.92059-2.15152-0.44000.h5\n",
      "34/34 [==============================] - 30s 875ms/step - loss: 0.5137 - categorical_accuracy: 0.9206 - val_loss: 2.1515 - val_categorical_accuracy: 0.4400 - lr: 4.0000e-05\n",
      "Epoch 14/30\n",
      "34/34 [==============================] - ETA: 0s - loss: 0.5789 - categorical_accuracy: 0.9191\n",
      "Epoch 00014: saving model to gesture_recog_model_2021-05-0218_10_43.426019/model-00014-0.57894-0.91912-2.16650-0.37000.h5\n",
      "34/34 [==============================] - 29s 865ms/step - loss: 0.5789 - categorical_accuracy: 0.9191 - val_loss: 2.1665 - val_categorical_accuracy: 0.3700 - lr: 4.0000e-05\n",
      "Epoch 15/30\n",
      "34/34 [==============================] - ETA: 0s - loss: 0.5604 - categorical_accuracy: 0.9074\n",
      "Epoch 00015: saving model to gesture_recog_model_2021-05-0218_10_43.426019/model-00015-0.56040-0.90735-1.57142-0.52000.h5\n",
      "34/34 [==============================] - 30s 875ms/step - loss: 0.5604 - categorical_accuracy: 0.9074 - val_loss: 1.5714 - val_categorical_accuracy: 0.5200 - lr: 4.0000e-05\n",
      "Epoch 16/30\n",
      "34/34 [==============================] - ETA: 0s - loss: 0.5076 - categorical_accuracy: 0.9265\n",
      "Epoch 00016: saving model to gesture_recog_model_2021-05-0218_10_43.426019/model-00016-0.50760-0.92647-1.22312-0.63000.h5\n",
      "34/34 [==============================] - 29s 857ms/step - loss: 0.5076 - categorical_accuracy: 0.9265 - val_loss: 1.2231 - val_categorical_accuracy: 0.6300 - lr: 4.0000e-05\n",
      "Epoch 17/30\n",
      "34/34 [==============================] - ETA: 0s - loss: 0.5239 - categorical_accuracy: 0.9265\n",
      "Epoch 00017: saving model to gesture_recog_model_2021-05-0218_10_43.426019/model-00017-0.52392-0.92647-0.71846-0.69000.h5\n",
      "34/34 [==============================] - 30s 883ms/step - loss: 0.5239 - categorical_accuracy: 0.9265 - val_loss: 0.7185 - val_categorical_accuracy: 0.6900 - lr: 4.0000e-05\n",
      "Epoch 18/30\n",
      "34/34 [==============================] - ETA: 0s - loss: 0.4532 - categorical_accuracy: 0.9309\n",
      "Epoch 00018: saving model to gesture_recog_model_2021-05-0218_10_43.426019/model-00018-0.45319-0.93088-0.79878-0.70000.h5\n",
      "34/34 [==============================] - 31s 904ms/step - loss: 0.4532 - categorical_accuracy: 0.9309 - val_loss: 0.7988 - val_categorical_accuracy: 0.7000 - lr: 4.0000e-05\n",
      "Epoch 19/30\n",
      "34/34 [==============================] - ETA: 0s - loss: 0.4388 - categorical_accuracy: 0.9426\n",
      "Epoch 00019: saving model to gesture_recog_model_2021-05-0218_10_43.426019/model-00019-0.43877-0.94265-0.52361-0.76000.h5\n",
      "34/34 [==============================] - 30s 870ms/step - loss: 0.4388 - categorical_accuracy: 0.9426 - val_loss: 0.5236 - val_categorical_accuracy: 0.7600 - lr: 4.0000e-05\n",
      "Epoch 20/30\n",
      "34/34 [==============================] - ETA: 0s - loss: 0.4607 - categorical_accuracy: 0.9721\n",
      "Epoch 00020: saving model to gesture_recog_model_2021-05-0218_10_43.426019/model-00020-0.46069-0.97206-0.47484-0.86000.h5\n",
      "34/34 [==============================] - 29s 849ms/step - loss: 0.4607 - categorical_accuracy: 0.9721 - val_loss: 0.4748 - val_categorical_accuracy: 0.8600 - lr: 4.0000e-05\n",
      "Epoch 21/30\n",
      "34/34 [==============================] - ETA: 0s - loss: 0.4940 - categorical_accuracy: 0.9529\n",
      "Epoch 00021: saving model to gesture_recog_model_2021-05-0218_10_43.426019/model-00021-0.49402-0.95294-0.47612-0.86000.h5\n",
      "34/34 [==============================] - 30s 892ms/step - loss: 0.4940 - categorical_accuracy: 0.9529 - val_loss: 0.4761 - val_categorical_accuracy: 0.8600 - lr: 4.0000e-05\n",
      "Epoch 22/30\n",
      "34/34 [==============================] - ETA: 0s - loss: 0.4450 - categorical_accuracy: 0.9397\n",
      "Epoch 00022: saving model to gesture_recog_model_2021-05-0218_10_43.426019/model-00022-0.44502-0.93971-0.42013-0.83000.h5\n",
      "34/34 [==============================] - 30s 883ms/step - loss: 0.4450 - categorical_accuracy: 0.9397 - val_loss: 0.4201 - val_categorical_accuracy: 0.8300 - lr: 4.0000e-05\n",
      "Epoch 23/30\n",
      "34/34 [==============================] - ETA: 0s - loss: 0.4426 - categorical_accuracy: 0.9426\n",
      "Epoch 00023: saving model to gesture_recog_model_2021-05-0218_10_43.426019/model-00023-0.44260-0.94265-0.35688-0.89000.h5\n",
      "34/34 [==============================] - 30s 884ms/step - loss: 0.4426 - categorical_accuracy: 0.9426 - val_loss: 0.3569 - val_categorical_accuracy: 0.8900 - lr: 4.0000e-05\n",
      "Epoch 24/30\n",
      "34/34 [==============================] - ETA: 0s - loss: 0.4591 - categorical_accuracy: 0.9485\n",
      "Epoch 00024: saving model to gesture_recog_model_2021-05-0218_10_43.426019/model-00024-0.45910-0.94853-0.22069-0.93000.h5\n",
      "34/34 [==============================] - 30s 875ms/step - loss: 0.4591 - categorical_accuracy: 0.9485 - val_loss: 0.2207 - val_categorical_accuracy: 0.9300 - lr: 4.0000e-05\n",
      "Epoch 25/30\n",
      "34/34 [==============================] - ETA: 0s - loss: 0.4629 - categorical_accuracy: 0.9471\n",
      "Epoch 00025: saving model to gesture_recog_model_2021-05-0218_10_43.426019/model-00025-0.46287-0.94706-0.50135-0.86000.h5\n",
      "34/34 [==============================] - 28s 836ms/step - loss: 0.4629 - categorical_accuracy: 0.9471 - val_loss: 0.5013 - val_categorical_accuracy: 0.8600 - lr: 4.0000e-05\n",
      "Epoch 26/30\n",
      "34/34 [==============================] - ETA: 0s - loss: 0.4912 - categorical_accuracy: 0.9662\n",
      "Epoch 00026: saving model to gesture_recog_model_2021-05-0218_10_43.426019/model-00026-0.49123-0.96618-0.39429-0.83000.h5\n",
      "34/34 [==============================] - 30s 896ms/step - loss: 0.4912 - categorical_accuracy: 0.9662 - val_loss: 0.3943 - val_categorical_accuracy: 0.8300 - lr: 4.0000e-05\n",
      "Epoch 27/30\n",
      "34/34 [==============================] - ETA: 0s - loss: 0.4597 - categorical_accuracy: 0.9426\n",
      "Epoch 00027: saving model to gesture_recog_model_2021-05-0218_10_43.426019/model-00027-0.45973-0.94265-0.37757-0.91000.h5\n",
      "34/34 [==============================] - 31s 905ms/step - loss: 0.4597 - categorical_accuracy: 0.9426 - val_loss: 0.3776 - val_categorical_accuracy: 0.9100 - lr: 4.0000e-05\n",
      "Epoch 28/30\n",
      "34/34 [==============================] - ETA: 0s - loss: 0.5412 - categorical_accuracy: 0.9279\n",
      "Epoch 00028: saving model to gesture_recog_model_2021-05-0218_10_43.426019/model-00028-0.54123-0.92794-0.26714-0.93000.h5\n",
      "\n",
      "Epoch 00028: ReduceLROnPlateau reducing learning rate to 8.000000525498762e-06.\n",
      "34/34 [==============================] - 28s 832ms/step - loss: 0.5412 - categorical_accuracy: 0.9279 - val_loss: 0.2671 - val_categorical_accuracy: 0.9300 - lr: 4.0000e-05\n",
      "Epoch 29/30\n",
      "34/34 [==============================] - ETA: 0s - loss: 0.4938 - categorical_accuracy: 0.9397\n",
      "Epoch 00029: saving model to gesture_recog_model_2021-05-0218_10_43.426019/model-00029-0.49379-0.93971-0.50908-0.74000.h5\n",
      "34/34 [==============================] - 30s 875ms/step - loss: 0.4938 - categorical_accuracy: 0.9397 - val_loss: 0.5091 - val_categorical_accuracy: 0.7400 - lr: 8.0000e-06\n",
      "Epoch 30/30\n",
      "34/34 [==============================] - ETA: 0s - loss: 0.4362 - categorical_accuracy: 0.9294\n",
      "Epoch 00030: saving model to gesture_recog_model_2021-05-0218_10_43.426019/model-00030-0.43617-0.92941-0.31813-0.90000.h5\n",
      "34/34 [==============================] - 30s 895ms/step - loss: 0.4362 - categorical_accuracy: 0.9294 - val_loss: 0.3181 - val_categorical_accuracy: 0.9000 - lr: 8.0000e-06\n"
     ]
    }
   ],
   "source": [
    "history = model1.fit(train_generator, steps_per_epoch=steps_per_epoch, epochs=num_epochs, verbose=1, \n",
    "                    callbacks=callbacks_list, validation_data=val_generator, \n",
    "                    validation_steps=validation_steps, class_weight=None, workers=1, initial_epoch=0)"
   ]
  },
  {
   "cell_type": "code",
   "execution_count": 21,
   "metadata": {
    "id": "fr4ARzOTLZb6"
   },
   "outputs": [
    {
     "data": {
      "image/png": "[encoded data removed]",
      "text/plain": [
       "<Figure size 1080x288 with 2 Axes>"
      ]
     },
     "metadata": {
      "needs_background": "light"
     },
     "output_type": "display_data"
    }
   ],
   "source": [
    "plot(history)"
   ]
  },
  {
   "cell_type": "markdown",
   "metadata": {
    "id": "ycs3vn1jLZb7"
   },
   "source": [
    "### Observation\n",
    "Model performance has gone down by a bit by changing filter size. Let us keep the filter size to (3,3,3) and add dropouts at each layer to reduce number of parameters."
   ]
  },
  {
   "cell_type": "markdown",
   "metadata": {
    "id": "Wg8WAgp9PBuh"
   },
   "source": [
    "# Model 2\n",
    "Adding droputs at convolution layers"
   ]
  },
  {
   "cell_type": "code",
   "execution_count": 22,
   "metadata": {
    "executionInfo": {
     "elapsed": 1864,
     "status": "ok",
     "timestamp": 1619970482607,
     "user": {
      "displayName": "Anjani Siddharth",
      "photoUrl": "",
      "userId": "08896298159225164450"
     },
     "user_tz": -330
    },
    "id": "TUkRs9UaPJaq"
   },
   "outputs": [],
   "source": [
    "#write your model here\n",
    "num_classes = 5\n",
    "\n",
    "model2 = Sequential()\n",
    "\n",
    "model2.add(Conv3D(16, kernel_size = (3,3,3), padding = \"same\", input_shape = (15,120,120,3)))\n",
    "model2.add(Activation('relu'))\n",
    "model2.add(BatchNormalization())\n",
    "model2.add(MaxPooling3D(pool_size=(2, 2, 2), padding='same'))\n",
    "model2.add(Dropout(0.25))\n",
    "\n",
    "#HL1\n",
    "model2.add(Conv3D(32, kernel_size = (3,3,3), padding = \"same\", input_shape = (15,120,120,3)))\n",
    "model2.add(Activation('relu'))\n",
    "model2.add(BatchNormalization())\n",
    "model2.add(MaxPooling3D(pool_size=(2, 2, 2), padding='same'))\n",
    "model2.add(Dropout(0.25))\n",
    "\n",
    "#HL2\n",
    "model2.add(Conv3D(64, kernel_size = (3,3,3), padding = \"same\", input_shape = (15,120,120,3)))\n",
    "model2.add(Activation('relu'))\n",
    "model2.add(BatchNormalization())\n",
    "model2.add(MaxPooling3D(pool_size=(2, 2, 2), padding='same'))\n",
    "model2.add(Dropout(0.25))\n",
    "\n",
    "#HL3\n",
    "model2.add(Conv3D(128, kernel_size = (3,3,3), padding = \"same\", input_shape = (15,120,120,3)))\n",
    "model2.add(Activation('relu'))\n",
    "model2.add(BatchNormalization())\n",
    "model2.add(MaxPooling3D(pool_size=(2, 2, 2), padding='same'))\n",
    "model2.add(Dropout(0.25))\n",
    "\n",
    "#Fully connected\n",
    "model2.add(Flatten())\n",
    "model2.add(Dense(64, activation = \"relu\"))\n",
    "model2.add(BatchNormalization())\n",
    "model2.add(Dropout(0.25))\n",
    "model2.add(Dense(64, activation = \"relu\"))\n",
    "model2.add(BatchNormalization())\n",
    "model2.add(Dropout(0.25))\n",
    "\n",
    "#output layer\n",
    "model2.add(Dense(num_classes, activation = \"softmax\"))"
   ]
  },
  {
   "cell_type": "code",
   "execution_count": 24,
   "metadata": {
    "id": "gdYsB8GQPddb"
   },
   "outputs": [
    {
     "name": "stdout",
     "output_type": "stream",
     "text": [
      "Model: \"sequential_2\"\n",
      "_________________________________________________________________\n",
      "Layer (type)                 Output Shape              Param #   \n",
      "=================================================================\n",
      "conv3d_8 (Conv3D)            (None, 15, 120, 120, 16)  1312      \n",
      "_________________________________________________________________\n",
      "activation_8 (Activation)    (None, 15, 120, 120, 16)  0         \n",
      "_________________________________________________________________\n",
      "batch_normalization_12 (Batc (None, 15, 120, 120, 16)  64        \n",
      "_________________________________________________________________\n",
      "max_pooling3d_8 (MaxPooling3 (None, 8, 60, 60, 16)     0         \n",
      "_________________________________________________________________\n",
      "dropout_4 (Dropout)          (None, 8, 60, 60, 16)     0         \n",
      "_________________________________________________________________\n",
      "conv3d_9 (Conv3D)            (None, 8, 60, 60, 32)     13856     \n",
      "_________________________________________________________________\n",
      "activation_9 (Activation)    (None, 8, 60, 60, 32)     0         \n",
      "_________________________________________________________________\n",
      "batch_normalization_13 (Batc (None, 8, 60, 60, 32)     128       \n",
      "_________________________________________________________________\n",
      "max_pooling3d_9 (MaxPooling3 (None, 4, 30, 30, 32)     0         \n",
      "_________________________________________________________________\n",
      "dropout_5 (Dropout)          (None, 4, 30, 30, 32)     0         \n",
      "_________________________________________________________________\n",
      "conv3d_10 (Conv3D)           (None, 4, 30, 30, 64)     55360     \n",
      "_________________________________________________________________\n",
      "activation_10 (Activation)   (None, 4, 30, 30, 64)     0         \n",
      "_________________________________________________________________\n",
      "batch_normalization_14 (Batc (None, 4, 30, 30, 64)     256       \n",
      "_________________________________________________________________\n",
      "max_pooling3d_10 (MaxPooling (None, 2, 15, 15, 64)     0         \n",
      "_________________________________________________________________\n",
      "dropout_6 (Dropout)          (None, 2, 15, 15, 64)     0         \n",
      "_________________________________________________________________\n",
      "conv3d_11 (Conv3D)           (None, 2, 15, 15, 128)    221312    \n",
      "_________________________________________________________________\n",
      "activation_11 (Activation)   (None, 2, 15, 15, 128)    0         \n",
      "_________________________________________________________________\n",
      "batch_normalization_15 (Batc (None, 2, 15, 15, 128)    512       \n",
      "_________________________________________________________________\n",
      "max_pooling3d_11 (MaxPooling (None, 1, 8, 8, 128)      0         \n",
      "_________________________________________________________________\n",
      "dropout_7 (Dropout)          (None, 1, 8, 8, 128)      0         \n",
      "_________________________________________________________________\n",
      "flatten_2 (Flatten)          (None, 8192)              0         \n",
      "_________________________________________________________________\n",
      "dense_6 (Dense)              (None, 64)                524352    \n",
      "_________________________________________________________________\n",
      "batch_normalization_16 (Batc (None, 64)                256       \n",
      "_________________________________________________________________\n",
      "dropout_8 (Dropout)          (None, 64)                0         \n",
      "_________________________________________________________________\n",
      "dense_7 (Dense)              (None, 64)                4160      \n",
      "_________________________________________________________________\n",
      "batch_normalization_17 (Batc (None, 64)                256       \n",
      "_________________________________________________________________\n",
      "dropout_9 (Dropout)          (None, 64)                0         \n",
      "_________________________________________________________________\n",
      "dense_8 (Dense)              (None, 5)                 325       \n",
      "=================================================================\n",
      "Total params: 822,149\n",
      "Trainable params: 821,413\n",
      "Non-trainable params: 736\n",
      "_________________________________________________________________\n",
      "None\n"
     ]
    }
   ],
   "source": [
    "optimiser = \"adam\"\n",
    "model2.compile(optimizer=optimiser, loss='categorical_crossentropy', metrics=['categorical_accuracy'])\n",
    "print (model2.summary())"
   ]
  },
  {
   "cell_type": "code",
   "execution_count": 25,
   "metadata": {
    "id": "650gASAvPgwE"
   },
   "outputs": [
    {
     "name": "stdout",
     "output_type": "stream",
     "text": [
      "Epoch 1/30\n",
      "34/34 [==============================] - ETA: 0s - loss: 1.8600 - categorical_accuracy: 0.3500\n",
      "Epoch 00001: saving model to gesture_recog_model_2021-05-0218_10_43.426019/model-00001-1.85999-0.35000-2.45390-0.18000.h5\n",
      "34/34 [==============================] - 32s 935ms/step - loss: 1.8600 - categorical_accuracy: 0.3500 - val_loss: 2.4539 - val_categorical_accuracy: 0.1800 - lr: 0.0010\n",
      "Epoch 2/30\n",
      "34/34 [==============================] - ETA: 0s - loss: 1.5358 - categorical_accuracy: 0.4897\n",
      "Epoch 00002: saving model to gesture_recog_model_2021-05-0218_10_43.426019/model-00002-1.53576-0.48971-2.83276-0.23000.h5\n",
      "34/34 [==============================] - 31s 899ms/step - loss: 1.5358 - categorical_accuracy: 0.4897 - val_loss: 2.8328 - val_categorical_accuracy: 0.2300 - lr: 0.0010\n",
      "Epoch 3/30\n",
      "34/34 [==============================] - ETA: 0s - loss: 1.3490 - categorical_accuracy: 0.5250\n",
      "Epoch 00003: saving model to gesture_recog_model_2021-05-0218_10_43.426019/model-00003-1.34896-0.52500-4.49567-0.23000.h5\n",
      "34/34 [==============================] - 32s 939ms/step - loss: 1.3490 - categorical_accuracy: 0.5250 - val_loss: 4.4957 - val_categorical_accuracy: 0.2300 - lr: 0.0010\n",
      "Epoch 4/30\n",
      "34/34 [==============================] - ETA: 0s - loss: 1.1922 - categorical_accuracy: 0.6000\n",
      "Epoch 00004: saving model to gesture_recog_model_2021-05-0218_10_43.426019/model-00004-1.19219-0.60000-4.80068-0.12000.h5\n",
      "34/34 [==============================] - 31s 904ms/step - loss: 1.1922 - categorical_accuracy: 0.6000 - val_loss: 4.8007 - val_categorical_accuracy: 0.1200 - lr: 0.0010\n",
      "Epoch 5/30\n",
      "34/34 [==============================] - ETA: 0s - loss: 1.0225 - categorical_accuracy: 0.6500\n",
      "Epoch 00005: saving model to gesture_recog_model_2021-05-0218_10_43.426019/model-00005-1.02251-0.65000-5.04833-0.29000.h5\n",
      "\n",
      "Epoch 00005: ReduceLROnPlateau reducing learning rate to 0.00020000000949949026.\n",
      "34/34 [==============================] - 31s 916ms/step - loss: 1.0225 - categorical_accuracy: 0.6500 - val_loss: 5.0483 - val_categorical_accuracy: 0.2900 - lr: 0.0010\n",
      "Epoch 6/30\n",
      "34/34 [==============================] - ETA: 0s - loss: 0.9431 - categorical_accuracy: 0.7059\n",
      "Epoch 00006: saving model to gesture_recog_model_2021-05-0218_10_43.426019/model-00006-0.94311-0.70588-5.39625-0.23000.h5\n",
      "34/34 [==============================] - 31s 898ms/step - loss: 0.9431 - categorical_accuracy: 0.7059 - val_loss: 5.3963 - val_categorical_accuracy: 0.2300 - lr: 2.0000e-04\n",
      "Epoch 7/30\n",
      "34/34 [==============================] - ETA: 0s - loss: 0.7974 - categorical_accuracy: 0.7574\n",
      "Epoch 00007: saving model to gesture_recog_model_2021-05-0218_10_43.426019/model-00007-0.79737-0.75735-6.24940-0.20000.h5\n",
      "34/34 [==============================] - 31s 913ms/step - loss: 0.7974 - categorical_accuracy: 0.7574 - val_loss: 6.2494 - val_categorical_accuracy: 0.2000 - lr: 2.0000e-04\n",
      "Epoch 8/30\n",
      "34/34 [==============================] - ETA: 0s - loss: 0.7094 - categorical_accuracy: 0.7926\n",
      "Epoch 00008: saving model to gesture_recog_model_2021-05-0218_10_43.426019/model-00008-0.70943-0.79265-6.62906-0.15000.h5\n",
      "34/34 [==============================] - 31s 913ms/step - loss: 0.7094 - categorical_accuracy: 0.7926 - val_loss: 6.6291 - val_categorical_accuracy: 0.1500 - lr: 2.0000e-04\n",
      "Epoch 9/30\n",
      "34/34 [==============================] - ETA: 0s - loss: 0.6949 - categorical_accuracy: 0.7941\n",
      "Epoch 00009: saving model to gesture_recog_model_2021-05-0218_10_43.426019/model-00009-0.69486-0.79412-6.52168-0.27000.h5\n",
      "\n",
      "Epoch 00009: ReduceLROnPlateau reducing learning rate to 4.0000001899898055e-05.\n",
      "34/34 [==============================] - 31s 911ms/step - loss: 0.6949 - categorical_accuracy: 0.7941 - val_loss: 6.5217 - val_categorical_accuracy: 0.2700 - lr: 2.0000e-04\n",
      "Epoch 10/30\n",
      "34/34 [==============================] - ETA: 0s - loss: 0.7069 - categorical_accuracy: 0.8206\n",
      "Epoch 00010: saving model to gesture_recog_model_2021-05-0218_10_43.426019/model-00010-0.70689-0.82059-7.30806-0.21000.h5\n",
      "34/34 [==============================] - 32s 930ms/step - loss: 0.7069 - categorical_accuracy: 0.8206 - val_loss: 7.3081 - val_categorical_accuracy: 0.2100 - lr: 4.0000e-05\n",
      "Epoch 11/30\n",
      "34/34 [==============================] - ETA: 0s - loss: 0.6407 - categorical_accuracy: 0.8191\n",
      "Epoch 00011: saving model to gesture_recog_model_2021-05-0218_10_43.426019/model-00011-0.64072-0.81912-6.86654-0.23000.h5\n",
      "34/34 [==============================] - 31s 921ms/step - loss: 0.6407 - categorical_accuracy: 0.8191 - val_loss: 6.8665 - val_categorical_accuracy: 0.2300 - lr: 4.0000e-05\n",
      "Epoch 12/30\n",
      "34/34 [==============================] - ETA: 0s - loss: 0.5954 - categorical_accuracy: 0.8588\n",
      "Epoch 00012: saving model to gesture_recog_model_2021-05-0218_10_43.426019/model-00012-0.59537-0.85882-6.93989-0.18000.h5\n",
      "34/34 [==============================] - 31s 919ms/step - loss: 0.5954 - categorical_accuracy: 0.8588 - val_loss: 6.9399 - val_categorical_accuracy: 0.1800 - lr: 4.0000e-05\n",
      "Epoch 13/30\n",
      "34/34 [==============================] - ETA: 0s - loss: 0.6447 - categorical_accuracy: 0.8647\n",
      "Epoch 00013: saving model to gesture_recog_model_2021-05-0218_10_43.426019/model-00013-0.64465-0.86471-6.78072-0.14000.h5\n",
      "\n",
      "Epoch 00013: ReduceLROnPlateau reducing learning rate to 8.000000525498762e-06.\n",
      "34/34 [==============================] - 30s 881ms/step - loss: 0.6447 - categorical_accuracy: 0.8647 - val_loss: 6.7807 - val_categorical_accuracy: 0.1400 - lr: 4.0000e-05\n",
      "Epoch 14/30\n",
      "34/34 [==============================] - ETA: 0s - loss: 0.6867 - categorical_accuracy: 0.8544\n",
      "Epoch 00014: saving model to gesture_recog_model_2021-05-0218_10_43.426019/model-00014-0.68666-0.85441-4.63226-0.27000.h5\n",
      "34/34 [==============================] - 31s 923ms/step - loss: 0.6867 - categorical_accuracy: 0.8544 - val_loss: 4.6323 - val_categorical_accuracy: 0.2700 - lr: 8.0000e-06\n",
      "Epoch 15/30\n",
      "34/34 [==============================] - ETA: 0s - loss: 0.7233 - categorical_accuracy: 0.8279\n",
      "Epoch 00015: saving model to gesture_recog_model_2021-05-0218_10_43.426019/model-00015-0.72328-0.82794-5.06856-0.26000.h5\n",
      "34/34 [==============================] - 31s 911ms/step - loss: 0.7233 - categorical_accuracy: 0.8279 - val_loss: 5.0686 - val_categorical_accuracy: 0.2600 - lr: 8.0000e-06\n",
      "Epoch 16/30\n",
      "34/34 [==============================] - ETA: 0s - loss: 0.7100 - categorical_accuracy: 0.8412\n",
      "Epoch 00016: saving model to gesture_recog_model_2021-05-0218_10_43.426019/model-00016-0.71001-0.84118-4.08564-0.21000.h5\n",
      "34/34 [==============================] - 32s 931ms/step - loss: 0.7100 - categorical_accuracy: 0.8412 - val_loss: 4.0856 - val_categorical_accuracy: 0.2100 - lr: 8.0000e-06\n",
      "Epoch 17/30\n",
      "34/34 [==============================] - ETA: 0s - loss: 0.6826 - categorical_accuracy: 0.8471\n",
      "Epoch 00017: saving model to gesture_recog_model_2021-05-0218_10_43.426019/model-00017-0.68264-0.84706-3.26312-0.25000.h5\n",
      "\n",
      "Epoch 00017: ReduceLROnPlateau reducing learning rate to 1.6000001778593287e-06.\n",
      "34/34 [==============================] - 31s 924ms/step - loss: 0.6826 - categorical_accuracy: 0.8471 - val_loss: 3.2631 - val_categorical_accuracy: 0.2500 - lr: 8.0000e-06\n",
      "Epoch 18/30\n",
      "34/34 [==============================] - ETA: 0s - loss: 0.6934 - categorical_accuracy: 0.8574\n",
      "Epoch 00018: saving model to gesture_recog_model_2021-05-0218_10_43.426019/model-00018-0.69336-0.85735-3.11179-0.32000.h5\n",
      "34/34 [==============================] - 31s 920ms/step - loss: 0.6934 - categorical_accuracy: 0.8574 - val_loss: 3.1118 - val_categorical_accuracy: 0.3200 - lr: 1.6000e-06\n",
      "Epoch 19/30\n",
      "34/34 [==============================] - ETA: 0s - loss: 0.6953 - categorical_accuracy: 0.8485\n",
      "Epoch 00019: saving model to gesture_recog_model_2021-05-0218_10_43.426019/model-00019-0.69526-0.84853-1.98598-0.41000.h5\n",
      "34/34 [==============================] - 30s 888ms/step - loss: 0.6953 - categorical_accuracy: 0.8485 - val_loss: 1.9860 - val_categorical_accuracy: 0.4100 - lr: 1.6000e-06\n",
      "Epoch 20/30\n",
      "34/34 [==============================] - ETA: 0s - loss: 0.7517 - categorical_accuracy: 0.8191\n",
      "Epoch 00020: saving model to gesture_recog_model_2021-05-0218_10_43.426019/model-00020-0.75170-0.81912-2.43516-0.43000.h5\n",
      "34/34 [==============================] - 32s 940ms/step - loss: 0.7517 - categorical_accuracy: 0.8191 - val_loss: 2.4352 - val_categorical_accuracy: 0.4300 - lr: 1.6000e-06\n"
     ]
    },
    {
     "name": "stdout",
     "output_type": "stream",
     "text": [
      "Epoch 21/30\n",
      "34/34 [==============================] - ETA: 0s - loss: 0.6413 - categorical_accuracy: 0.8471\n",
      "Epoch 00021: saving model to gesture_recog_model_2021-05-0218_10_43.426019/model-00021-0.64135-0.84706-1.91481-0.52000.h5\n",
      "34/34 [==============================] - 31s 915ms/step - loss: 0.6413 - categorical_accuracy: 0.8471 - val_loss: 1.9148 - val_categorical_accuracy: 0.5200 - lr: 1.6000e-06\n",
      "Epoch 22/30\n",
      "34/34 [==============================] - ETA: 0s - loss: 0.6247 - categorical_accuracy: 0.8485\n",
      "Epoch 00022: saving model to gesture_recog_model_2021-05-0218_10_43.426019/model-00022-0.62469-0.84853-1.45472-0.57000.h5\n",
      "34/34 [==============================] - 31s 910ms/step - loss: 0.6247 - categorical_accuracy: 0.8485 - val_loss: 1.4547 - val_categorical_accuracy: 0.5700 - lr: 1.6000e-06\n",
      "Epoch 23/30\n",
      "34/34 [==============================] - ETA: 0s - loss: 0.6460 - categorical_accuracy: 0.8191\n",
      "Epoch 00023: saving model to gesture_recog_model_2021-05-0218_10_43.426019/model-00023-0.64599-0.81912-1.34925-0.61000.h5\n",
      "34/34 [==============================] - 31s 919ms/step - loss: 0.6460 - categorical_accuracy: 0.8191 - val_loss: 1.3492 - val_categorical_accuracy: 0.6100 - lr: 1.6000e-06\n",
      "Epoch 24/30\n",
      "34/34 [==============================] - ETA: 0s - loss: 0.6745 - categorical_accuracy: 0.8412\n",
      "Epoch 00024: saving model to gesture_recog_model_2021-05-0218_10_43.426019/model-00024-0.67446-0.84118-1.47098-0.54000.h5\n",
      "34/34 [==============================] - 31s 912ms/step - loss: 0.6745 - categorical_accuracy: 0.8412 - val_loss: 1.4710 - val_categorical_accuracy: 0.5400 - lr: 1.6000e-06\n",
      "Epoch 25/30\n",
      "34/34 [==============================] - ETA: 0s - loss: 0.7516 - categorical_accuracy: 0.8324\n",
      "Epoch 00025: saving model to gesture_recog_model_2021-05-0218_10_43.426019/model-00025-0.75157-0.83235-1.38359-0.55000.h5\n",
      "34/34 [==============================] - 31s 906ms/step - loss: 0.7516 - categorical_accuracy: 0.8324 - val_loss: 1.3836 - val_categorical_accuracy: 0.5500 - lr: 1.6000e-06\n",
      "Epoch 26/30\n",
      "34/34 [==============================] - ETA: 0s - loss: 0.6668 - categorical_accuracy: 0.8088\n",
      "Epoch 00026: saving model to gesture_recog_model_2021-05-0218_10_43.426019/model-00026-0.66677-0.80882-1.10609-0.62000.h5\n",
      "34/34 [==============================] - 31s 917ms/step - loss: 0.6668 - categorical_accuracy: 0.8088 - val_loss: 1.1061 - val_categorical_accuracy: 0.6200 - lr: 1.6000e-06\n",
      "Epoch 27/30\n",
      "34/34 [==============================] - ETA: 0s - loss: 0.7170 - categorical_accuracy: 0.8118\n",
      "Epoch 00027: saving model to gesture_recog_model_2021-05-0218_10_43.426019/model-00027-0.71703-0.81176-1.43221-0.61000.h5\n",
      "34/34 [==============================] - 31s 915ms/step - loss: 0.7170 - categorical_accuracy: 0.8118 - val_loss: 1.4322 - val_categorical_accuracy: 0.6100 - lr: 1.6000e-06\n",
      "Epoch 28/30\n",
      "34/34 [==============================] - ETA: 0s - loss: 0.7250 - categorical_accuracy: 0.8294\n",
      "Epoch 00028: saving model to gesture_recog_model_2021-05-0218_10_43.426019/model-00028-0.72504-0.82941-1.42132-0.58000.h5\n",
      "34/34 [==============================] - 30s 894ms/step - loss: 0.7250 - categorical_accuracy: 0.8294 - val_loss: 1.4213 - val_categorical_accuracy: 0.5800 - lr: 1.6000e-06\n",
      "Epoch 29/30\n",
      "34/34 [==============================] - ETA: 0s - loss: 0.6048 - categorical_accuracy: 0.8735\n",
      "Epoch 00029: saving model to gesture_recog_model_2021-05-0218_10_43.426019/model-00029-0.60481-0.87353-1.58380-0.49000.h5\n",
      "34/34 [==============================] - 32s 943ms/step - loss: 0.6048 - categorical_accuracy: 0.8735 - val_loss: 1.5838 - val_categorical_accuracy: 0.4900 - lr: 1.6000e-06\n",
      "Epoch 30/30\n",
      "34/34 [==============================] - ETA: 0s - loss: 0.6871 - categorical_accuracy: 0.8250\n",
      "Epoch 00030: saving model to gesture_recog_model_2021-05-0218_10_43.426019/model-00030-0.68713-0.82500-1.05861-0.68000.h5\n",
      "34/34 [==============================] - 31s 919ms/step - loss: 0.6871 - categorical_accuracy: 0.8250 - val_loss: 1.0586 - val_categorical_accuracy: 0.6800 - lr: 1.6000e-06\n"
     ]
    }
   ],
   "source": [
    "history = model2.fit(train_generator, steps_per_epoch=steps_per_epoch, epochs=num_epochs, verbose=1, \n",
    "                    callbacks=callbacks_list, validation_data=val_generator, \n",
    "                    validation_steps=validation_steps, class_weight=None, workers=1, initial_epoch=0)"
   ]
  },
  {
   "cell_type": "code",
   "execution_count": 26,
   "metadata": {
    "id": "y4NasnyvPgtF"
   },
   "outputs": [
    {
     "data": {
      "image/png": "[encoded data removed]",
      "text/plain": [
       "<Figure size 1080x288 with 2 Axes>"
      ]
     },
     "metadata": {
      "needs_background": "light"
     },
     "output_type": "display_data"
    }
   ],
   "source": [
    "plot(history)"
   ]
  },
  {
   "cell_type": "markdown",
   "metadata": {},
   "source": [
    "### Observation\n",
    "Model is not performing well after adding dropouts. Let us try reducing parameters further to check its performance."
   ]
  },
  {
   "cell_type": "markdown",
   "metadata": {
    "id": "_WxOj4qSSKR-"
   },
   "source": [
    "# Model 3\n",
    "Reducing number of parameters"
   ]
  },
  {
   "cell_type": "code",
   "execution_count": 14,
   "metadata": {
    "id": "Heb9Z7QOSM3R"
   },
   "outputs": [],
   "source": [
    "#write your model here\n",
    "num_classes = 5\n",
    "\n",
    "model3 = Sequential()\n",
    "\n",
    "model3.add(Conv3D(8, kernel_size = (3,3,3), padding = \"same\", input_shape = (15,120,120,3)))\n",
    "model3.add(Activation('relu'))\n",
    "model3.add(BatchNormalization())\n",
    "model3.add(MaxPooling3D(pool_size=(2, 2, 2), padding='same'))\n",
    "model3.add(Dropout(0.25))\n",
    "\n",
    "#HL1\n",
    "model3.add(Conv3D(16, kernel_size = (3,3,3), padding = \"same\", input_shape = (15,120,120,3)))\n",
    "model3.add(Activation('relu'))\n",
    "model3.add(BatchNormalization())\n",
    "model3.add(MaxPooling3D(pool_size=(2, 2, 2), padding='same'))\n",
    "model3.add(Dropout(0.25))\n",
    "\n",
    "#HL2\n",
    "model3.add(Conv3D(32, kernel_size = (3,3,3), padding = \"same\", input_shape = (15,120,120,3)))\n",
    "model3.add(Activation('relu'))\n",
    "model3.add(BatchNormalization())\n",
    "model3.add(MaxPooling3D(pool_size=(2, 2, 2), padding='same'))\n",
    "model3.add(Dropout(0.25))\n",
    "\n",
    "#HL3\n",
    "model3.add(Conv3D(64, kernel_size = (3,3,3), padding = \"same\", input_shape = (15,120,120,3)))\n",
    "model3.add(Activation('relu'))\n",
    "model3.add(BatchNormalization())\n",
    "model3.add(MaxPooling3D(pool_size=(2, 2, 2), padding='same'))\n",
    "model3.add(Dropout(0.25))\n",
    "\n",
    "#Fully connected\n",
    "model3.add(Flatten())\n",
    "model3.add(Dense(64, activation = \"relu\"))\n",
    "model3.add(BatchNormalization())\n",
    "model3.add(Dropout(0.25))\n",
    "model3.add(Dense(64, activation = \"relu\"))\n",
    "model3.add(BatchNormalization())\n",
    "model3.add(Dropout(0.25))\n",
    "\n",
    "#output layer\n",
    "model3.add(Dense(num_classes, activation = \"softmax\"))"
   ]
  },
  {
   "cell_type": "code",
   "execution_count": 15,
   "metadata": {
    "id": "S8DdN2aWSe4X"
   },
   "outputs": [
    {
     "name": "stdout",
     "output_type": "stream",
     "text": [
      "Model: \"sequential_1\"\n",
      "_________________________________________________________________\n",
      "Layer (type)                 Output Shape              Param #   \n",
      "=================================================================\n",
      "conv3d_4 (Conv3D)            (None, 15, 120, 120, 8)   656       \n",
      "_________________________________________________________________\n",
      "activation_4 (Activation)    (None, 15, 120, 120, 8)   0         \n",
      "_________________________________________________________________\n",
      "batch_normalization_6 (Batch (None, 15, 120, 120, 8)   32        \n",
      "_________________________________________________________________\n",
      "max_pooling3d_4 (MaxPooling3 (None, 8, 60, 60, 8)      0         \n",
      "_________________________________________________________________\n",
      "dropout_2 (Dropout)          (None, 8, 60, 60, 8)      0         \n",
      "_________________________________________________________________\n",
      "conv3d_5 (Conv3D)            (None, 8, 60, 60, 16)     3472      \n",
      "_________________________________________________________________\n",
      "activation_5 (Activation)    (None, 8, 60, 60, 16)     0         \n",
      "_________________________________________________________________\n",
      "batch_normalization_7 (Batch (None, 8, 60, 60, 16)     64        \n",
      "_________________________________________________________________\n",
      "max_pooling3d_5 (MaxPooling3 (None, 4, 30, 30, 16)     0         \n",
      "_________________________________________________________________\n",
      "dropout_3 (Dropout)          (None, 4, 30, 30, 16)     0         \n",
      "_________________________________________________________________\n",
      "conv3d_6 (Conv3D)            (None, 4, 30, 30, 32)     13856     \n",
      "_________________________________________________________________\n",
      "activation_6 (Activation)    (None, 4, 30, 30, 32)     0         \n",
      "_________________________________________________________________\n",
      "batch_normalization_8 (Batch (None, 4, 30, 30, 32)     128       \n",
      "_________________________________________________________________\n",
      "max_pooling3d_6 (MaxPooling3 (None, 2, 15, 15, 32)     0         \n",
      "_________________________________________________________________\n",
      "dropout_4 (Dropout)          (None, 2, 15, 15, 32)     0         \n",
      "_________________________________________________________________\n",
      "conv3d_7 (Conv3D)            (None, 2, 15, 15, 64)     55360     \n",
      "_________________________________________________________________\n",
      "activation_7 (Activation)    (None, 2, 15, 15, 64)     0         \n",
      "_________________________________________________________________\n",
      "batch_normalization_9 (Batch (None, 2, 15, 15, 64)     256       \n",
      "_________________________________________________________________\n",
      "max_pooling3d_7 (MaxPooling3 (None, 1, 8, 8, 64)       0         \n",
      "_________________________________________________________________\n",
      "dropout_5 (Dropout)          (None, 1, 8, 8, 64)       0         \n",
      "_________________________________________________________________\n",
      "flatten_1 (Flatten)          (None, 4096)              0         \n",
      "_________________________________________________________________\n",
      "dense_3 (Dense)              (None, 64)                262208    \n",
      "_________________________________________________________________\n",
      "batch_normalization_10 (Batc (None, 64)                256       \n",
      "_________________________________________________________________\n",
      "dropout_6 (Dropout)          (None, 64)                0         \n",
      "_________________________________________________________________\n",
      "dense_4 (Dense)              (None, 64)                4160      \n",
      "_________________________________________________________________\n",
      "batch_normalization_11 (Batc (None, 64)                256       \n",
      "_________________________________________________________________\n",
      "dropout_7 (Dropout)          (None, 64)                0         \n",
      "_________________________________________________________________\n",
      "dense_5 (Dense)              (None, 5)                 325       \n",
      "=================================================================\n",
      "Total params: 341,029\n",
      "Trainable params: 340,533\n",
      "Non-trainable params: 496\n",
      "_________________________________________________________________\n",
      "None\n"
     ]
    }
   ],
   "source": [
    "optimiser = \"adam\"\n",
    "model3.compile(optimizer=optimiser, loss='categorical_crossentropy', metrics=['categorical_accuracy'])\n",
    "print (model3.summary())"
   ]
  },
  {
   "cell_type": "code",
   "execution_count": 16,
   "metadata": {
    "id": "bBfiAPaOSenc"
   },
   "outputs": [
    {
     "name": "stdout",
     "output_type": "stream",
     "text": [
      "Source path =  Project_data/train ; batch size = 20\n",
      "Epoch 1/30\n",
      "34/34 [==============================] - ETA: 0s - loss: 1.9625 - categorical_accuracy: 0.3515Source path =  Project_data/val ; batch size = 20\n",
      "\n",
      "Epoch 00001: saving model to gesture_recog_model_2021-05-0220_00_29.714556/model-00001-1.96247-0.35147-1.91421-0.17000.h5\n",
      "34/34 [==============================] - 68s 2s/step - loss: 1.9625 - categorical_accuracy: 0.3515 - val_loss: 1.9142 - val_categorical_accuracy: 0.1700 - lr: 0.0010\n",
      "Epoch 2/30\n",
      "34/34 [==============================] - ETA: 0s - loss: 1.5731 - categorical_accuracy: 0.4294\n",
      "Epoch 00002: saving model to gesture_recog_model_2021-05-0220_00_29.714556/model-00002-1.57306-0.42941-2.89700-0.15000.h5\n",
      "34/34 [==============================] - 64s 2s/step - loss: 1.5731 - categorical_accuracy: 0.4294 - val_loss: 2.8970 - val_categorical_accuracy: 0.1500 - lr: 0.0010\n",
      "Epoch 3/30\n",
      "34/34 [==============================] - ETA: 0s - loss: 1.4266 - categorical_accuracy: 0.4691\n",
      "Epoch 00003: saving model to gesture_recog_model_2021-05-0220_00_29.714556/model-00003-1.42664-0.46912-3.62872-0.12000.h5\n",
      "34/34 [==============================] - 30s 868ms/step - loss: 1.4266 - categorical_accuracy: 0.4691 - val_loss: 3.6287 - val_categorical_accuracy: 0.1200 - lr: 0.0010\n",
      "Epoch 4/30\n",
      "34/34 [==============================] - ETA: 0s - loss: 1.3021 - categorical_accuracy: 0.5397\n",
      "Epoch 00004: saving model to gesture_recog_model_2021-05-0220_00_29.714556/model-00004-1.30212-0.53971-3.86799-0.16000.h5\n",
      "34/34 [==============================] - 28s 837ms/step - loss: 1.3021 - categorical_accuracy: 0.5397 - val_loss: 3.8680 - val_categorical_accuracy: 0.1600 - lr: 0.0010\n",
      "Epoch 5/30\n",
      "34/34 [==============================] - ETA: 0s - loss: 1.1122 - categorical_accuracy: 0.6279\n",
      "Epoch 00005: saving model to gesture_recog_model_2021-05-0220_00_29.714556/model-00005-1.11222-0.62794-3.65466-0.17000.h5\n",
      "\n",
      "Epoch 00005: ReduceLROnPlateau reducing learning rate to 0.00020000000949949026.\n",
      "34/34 [==============================] - 28s 823ms/step - loss: 1.1122 - categorical_accuracy: 0.6279 - val_loss: 3.6547 - val_categorical_accuracy: 0.1700 - lr: 0.0010\n",
      "Epoch 6/30\n",
      "34/34 [==============================] - ETA: 0s - loss: 1.1284 - categorical_accuracy: 0.6353\n",
      "Epoch 00006: saving model to gesture_recog_model_2021-05-0220_00_29.714556/model-00006-1.12844-0.63529-4.84310-0.16000.h5\n",
      "34/34 [==============================] - 29s 866ms/step - loss: 1.1284 - categorical_accuracy: 0.6353 - val_loss: 4.8431 - val_categorical_accuracy: 0.1600 - lr: 2.0000e-04\n",
      "Epoch 7/30\n",
      "34/34 [==============================] - ETA: 0s - loss: 1.0613 - categorical_accuracy: 0.6412\n",
      "Epoch 00007: saving model to gesture_recog_model_2021-05-0220_00_29.714556/model-00007-1.06126-0.64118-5.41603-0.22000.h5\n",
      "34/34 [==============================] - 28s 836ms/step - loss: 1.0613 - categorical_accuracy: 0.6412 - val_loss: 5.4160 - val_categorical_accuracy: 0.2200 - lr: 2.0000e-04\n",
      "Epoch 8/30\n",
      "34/34 [==============================] - ETA: 0s - loss: 0.9660 - categorical_accuracy: 0.7191\n",
      "Epoch 00008: saving model to gesture_recog_model_2021-05-0220_00_29.714556/model-00008-0.96599-0.71912-6.35189-0.13000.h5\n",
      "34/34 [==============================] - 29s 847ms/step - loss: 0.9660 - categorical_accuracy: 0.7191 - val_loss: 6.3519 - val_categorical_accuracy: 0.1300 - lr: 2.0000e-04\n",
      "Epoch 9/30\n",
      "34/34 [==============================] - ETA: 0s - loss: 0.9013 - categorical_accuracy: 0.7162\n",
      "Epoch 00009: saving model to gesture_recog_model_2021-05-0220_00_29.714556/model-00009-0.90132-0.71618-6.41268-0.25000.h5\n",
      "\n",
      "Epoch 00009: ReduceLROnPlateau reducing learning rate to 4.0000001899898055e-05.\n",
      "34/34 [==============================] - 29s 867ms/step - loss: 0.9013 - categorical_accuracy: 0.7162 - val_loss: 6.4127 - val_categorical_accuracy: 0.2500 - lr: 2.0000e-04\n",
      "Epoch 10/30\n",
      "34/34 [==============================] - ETA: 0s - loss: 0.8653 - categorical_accuracy: 0.7529\n",
      "Epoch 00010: saving model to gesture_recog_model_2021-05-0220_00_29.714556/model-00010-0.86531-0.75294-5.53044-0.36000.h5\n",
      "34/34 [==============================] - 28s 826ms/step - loss: 0.8653 - categorical_accuracy: 0.7529 - val_loss: 5.5304 - val_categorical_accuracy: 0.3600 - lr: 4.0000e-05\n",
      "Epoch 11/30\n",
      "34/34 [==============================] - ETA: 0s - loss: 0.8648 - categorical_accuracy: 0.7471\n",
      "Epoch 00011: saving model to gesture_recog_model_2021-05-0220_00_29.714556/model-00011-0.86485-0.74706-6.13193-0.31000.h5\n",
      "34/34 [==============================] - 29s 867ms/step - loss: 0.8648 - categorical_accuracy: 0.7471 - val_loss: 6.1319 - val_categorical_accuracy: 0.3100 - lr: 4.0000e-05\n",
      "Epoch 12/30\n",
      "34/34 [==============================] - ETA: 0s - loss: 0.8588 - categorical_accuracy: 0.7118\n",
      "Epoch 00012: saving model to gesture_recog_model_2021-05-0220_00_29.714556/model-00012-0.85878-0.71176-6.12306-0.29000.h5\n",
      "34/34 [==============================] - 29s 859ms/step - loss: 0.8588 - categorical_accuracy: 0.7118 - val_loss: 6.1231 - val_categorical_accuracy: 0.2900 - lr: 4.0000e-05\n",
      "Epoch 13/30\n",
      "34/34 [==============================] - ETA: 0s - loss: 0.7513 - categorical_accuracy: 0.7941\n",
      "Epoch 00013: saving model to gesture_recog_model_2021-05-0220_00_29.714556/model-00013-0.75126-0.79412-6.35562-0.26000.h5\n",
      "\n",
      "Epoch 00013: ReduceLROnPlateau reducing learning rate to 8.000000525498762e-06.\n",
      "34/34 [==============================] - 29s 848ms/step - loss: 0.7513 - categorical_accuracy: 0.7941 - val_loss: 6.3556 - val_categorical_accuracy: 0.2600 - lr: 4.0000e-05\n",
      "Epoch 14/30\n",
      "34/34 [==============================] - ETA: 0s - loss: 0.8450 - categorical_accuracy: 0.7676\n",
      "Epoch 00014: saving model to gesture_recog_model_2021-05-0220_00_29.714556/model-00014-0.84497-0.76765-4.83721-0.30000.h5\n",
      "34/34 [==============================] - 28s 832ms/step - loss: 0.8450 - categorical_accuracy: 0.7676 - val_loss: 4.8372 - val_categorical_accuracy: 0.3000 - lr: 8.0000e-06\n",
      "Epoch 15/30\n",
      "34/34 [==============================] - ETA: 0s - loss: 0.8120 - categorical_accuracy: 0.7897\n",
      "Epoch 00015: saving model to gesture_recog_model_2021-05-0220_00_29.714556/model-00015-0.81199-0.78971-5.52224-0.31000.h5\n",
      "34/34 [==============================] - 29s 866ms/step - loss: 0.8120 - categorical_accuracy: 0.7897 - val_loss: 5.5222 - val_categorical_accuracy: 0.3100 - lr: 8.0000e-06\n",
      "Epoch 16/30\n",
      "34/34 [==============================] - ETA: 0s - loss: 0.8016 - categorical_accuracy: 0.7838\n",
      "Epoch 00016: saving model to gesture_recog_model_2021-05-0220_00_29.714556/model-00016-0.80156-0.78382-5.93950-0.19000.h5\n",
      "34/34 [==============================] - 29s 844ms/step - loss: 0.8016 - categorical_accuracy: 0.7838 - val_loss: 5.9395 - val_categorical_accuracy: 0.1900 - lr: 8.0000e-06\n",
      "Epoch 17/30\n",
      "34/34 [==============================] - ETA: 0s - loss: 0.8840 - categorical_accuracy: 0.7559\n",
      "Epoch 00017: saving model to gesture_recog_model_2021-05-0220_00_29.714556/model-00017-0.88398-0.75588-3.68295-0.39000.h5\n",
      "\n",
      "Epoch 00017: ReduceLROnPlateau reducing learning rate to 1.6000001778593287e-06.\n",
      "34/34 [==============================] - 28s 815ms/step - loss: 0.8840 - categorical_accuracy: 0.7559 - val_loss: 3.6830 - val_categorical_accuracy: 0.3900 - lr: 8.0000e-06\n",
      "Epoch 18/30\n",
      "34/34 [==============================] - ETA: 0s - loss: 0.8168 - categorical_accuracy: 0.7426\n",
      "Epoch 00018: saving model to gesture_recog_model_2021-05-0220_00_29.714556/model-00018-0.81676-0.74265-5.47415-0.20000.h5\n",
      "34/34 [==============================] - 30s 882ms/step - loss: 0.8168 - categorical_accuracy: 0.7426 - val_loss: 5.4742 - val_categorical_accuracy: 0.2000 - lr: 1.6000e-06\n",
      "Epoch 19/30\n",
      "34/34 [==============================] - ETA: 0s - loss: 0.8531 - categorical_accuracy: 0.7647\n",
      "Epoch 00019: saving model to gesture_recog_model_2021-05-0220_00_29.714556/model-00019-0.85312-0.76471-3.46014-0.38000.h5\n",
      "34/34 [==============================] - 29s 851ms/step - loss: 0.8531 - categorical_accuracy: 0.7647 - val_loss: 3.4601 - val_categorical_accuracy: 0.3800 - lr: 1.6000e-06\n",
      "Epoch 20/30\n",
      "34/34 [==============================] - ETA: 0s - loss: 0.7853 - categorical_accuracy: 0.7750\n",
      "Epoch 00020: saving model to gesture_recog_model_2021-05-0220_00_29.714556/model-00020-0.78532-0.77500-3.83789-0.33000.h5\n",
      "34/34 [==============================] - 29s 855ms/step - loss: 0.7853 - categorical_accuracy: 0.7750 - val_loss: 3.8379 - val_categorical_accuracy: 0.3300 - lr: 1.6000e-06\n"
     ]
    },
    {
     "name": "stdout",
     "output_type": "stream",
     "text": [
      "Epoch 21/30\n",
      "34/34 [==============================] - ETA: 0s - loss: 0.8691 - categorical_accuracy: 0.7559\n",
      "Epoch 00021: saving model to gesture_recog_model_2021-05-0220_00_29.714556/model-00021-0.86914-0.75588-3.21868-0.35000.h5\n",
      "\n",
      "Epoch 00021: ReduceLROnPlateau reducing learning rate to 3.200000264769187e-07.\n",
      "34/34 [==============================] - 29s 839ms/step - loss: 0.8691 - categorical_accuracy: 0.7559 - val_loss: 3.2187 - val_categorical_accuracy: 0.3500 - lr: 1.6000e-06\n",
      "Epoch 22/30\n",
      "34/34 [==============================] - ETA: 0s - loss: 0.9584 - categorical_accuracy: 0.7632\n",
      "Epoch 00022: saving model to gesture_recog_model_2021-05-0220_00_29.714556/model-00022-0.95839-0.76324-3.54536-0.30000.h5\n",
      "34/34 [==============================] - 28s 823ms/step - loss: 0.9584 - categorical_accuracy: 0.7632 - val_loss: 3.5454 - val_categorical_accuracy: 0.3000 - lr: 3.2000e-07\n",
      "Epoch 23/30\n",
      "34/34 [==============================] - ETA: 0s - loss: 0.8163 - categorical_accuracy: 0.7765\n",
      "Epoch 00023: saving model to gesture_recog_model_2021-05-0220_00_29.714556/model-00023-0.81626-0.77647-2.63030-0.35000.h5\n",
      "34/34 [==============================] - 29s 841ms/step - loss: 0.8163 - categorical_accuracy: 0.7765 - val_loss: 2.6303 - val_categorical_accuracy: 0.3500 - lr: 3.2000e-07\n",
      "Epoch 24/30\n",
      "34/34 [==============================] - ETA: 0s - loss: 0.9393 - categorical_accuracy: 0.7397\n",
      "Epoch 00024: saving model to gesture_recog_model_2021-05-0220_00_29.714556/model-00024-0.93933-0.73971-3.78033-0.29000.h5\n",
      "34/34 [==============================] - 28s 832ms/step - loss: 0.9393 - categorical_accuracy: 0.7397 - val_loss: 3.7803 - val_categorical_accuracy: 0.2900 - lr: 3.2000e-07\n",
      "Epoch 25/30\n",
      "34/34 [==============================] - ETA: 0s - loss: 0.8512 - categorical_accuracy: 0.7485\n",
      "Epoch 00025: saving model to gesture_recog_model_2021-05-0220_00_29.714556/model-00025-0.85124-0.74853-2.99732-0.48000.h5\n",
      "\n",
      "Epoch 00025: ReduceLROnPlateau reducing learning rate to 6.400000529538374e-08.\n",
      "34/34 [==============================] - 28s 837ms/step - loss: 0.8512 - categorical_accuracy: 0.7485 - val_loss: 2.9973 - val_categorical_accuracy: 0.4800 - lr: 3.2000e-07\n",
      "Epoch 26/30\n",
      "34/34 [==============================] - ETA: 0s - loss: 0.7950 - categorical_accuracy: 0.7632\n",
      "Epoch 00026: saving model to gesture_recog_model_2021-05-0220_00_29.714556/model-00026-0.79496-0.76324-2.19964-0.44000.h5\n",
      "34/34 [==============================] - 27s 802ms/step - loss: 0.7950 - categorical_accuracy: 0.7632 - val_loss: 2.1996 - val_categorical_accuracy: 0.4400 - lr: 6.4000e-08\n",
      "Epoch 27/30\n",
      "34/34 [==============================] - ETA: 0s - loss: 0.8413 - categorical_accuracy: 0.7338\n",
      "Epoch 00027: saving model to gesture_recog_model_2021-05-0220_00_29.714556/model-00027-0.84129-0.73382-3.41241-0.33000.h5\n",
      "34/34 [==============================] - 28s 836ms/step - loss: 0.8413 - categorical_accuracy: 0.7338 - val_loss: 3.4124 - val_categorical_accuracy: 0.3300 - lr: 6.4000e-08\n",
      "Epoch 28/30\n",
      "34/34 [==============================] - ETA: 0s - loss: 0.9214 - categorical_accuracy: 0.7309\n",
      "Epoch 00028: saving model to gesture_recog_model_2021-05-0220_00_29.714556/model-00028-0.92136-0.73088-2.37944-0.44000.h5\n",
      "34/34 [==============================] - 29s 846ms/step - loss: 0.9214 - categorical_accuracy: 0.7309 - val_loss: 2.3794 - val_categorical_accuracy: 0.4400 - lr: 6.4000e-08\n",
      "Epoch 29/30\n",
      "34/34 [==============================] - ETA: 0s - loss: 0.8884 - categorical_accuracy: 0.7412\n",
      "Epoch 00029: saving model to gesture_recog_model_2021-05-0220_00_29.714556/model-00029-0.88843-0.74118-3.27147-0.36000.h5\n",
      "\n",
      "Epoch 00029: ReduceLROnPlateau reducing learning rate to 1.2800001059076749e-08.\n",
      "34/34 [==============================] - 27s 802ms/step - loss: 0.8884 - categorical_accuracy: 0.7412 - val_loss: 3.2715 - val_categorical_accuracy: 0.3600 - lr: 6.4000e-08\n",
      "Epoch 30/30\n",
      "34/34 [==============================] - ETA: 0s - loss: 0.8440 - categorical_accuracy: 0.7706\n",
      "Epoch 00030: saving model to gesture_recog_model_2021-05-0220_00_29.714556/model-00030-0.84398-0.77059-2.17835-0.38000.h5\n",
      "34/34 [==============================] - 29s 848ms/step - loss: 0.8440 - categorical_accuracy: 0.7706 - val_loss: 2.1784 - val_categorical_accuracy: 0.3800 - lr: 1.2800e-08\n"
     ]
    }
   ],
   "source": [
    "history = model3.fit(train_generator, steps_per_epoch=steps_per_epoch, epochs=num_epochs, verbose=1, \n",
    "                    callbacks=callbacks_list, validation_data=val_generator, \n",
    "                    validation_steps=validation_steps, class_weight=None, workers=1, initial_epoch=0)"
   ]
  },
  {
   "cell_type": "code",
   "execution_count": 17,
   "metadata": {
    "id": "sbzd9QbzSeim"
   },
   "outputs": [
    {
     "data": {
      "image/png": "[encoded data removed]",
      "text/plain": [
       "<Figure size 1080x288 with 2 Axes>"
      ]
     },
     "metadata": {
      "needs_background": "light"
     },
     "output_type": "display_data"
    }
   ],
   "source": [
    "plot(history)"
   ]
  },
  {
   "cell_type": "markdown",
   "metadata": {},
   "source": [
    "### Observations\n",
    "Reducing parameters has further reduced validation accuracy as its not to be able to learn generalizable features and its further over-fitting."
   ]
  },
  {
   "cell_type": "markdown",
   "metadata": {
    "id": "dES_0aQY_jj8"
   },
   "source": [
    "# Model 4 - CNN-LSTM Model"
   ]
  },
  {
   "cell_type": "code",
   "execution_count": 18,
   "metadata": {
    "id": "K4P9ZFt2_qDj"
   },
   "outputs": [],
   "source": [
    "#write your model here\n",
    "num_classes = 5\n",
    "\n",
    "cnn_rnn_model = Sequential()\n",
    "\n",
    "cnn_rnn_model.add(TimeDistributed(Conv2D(16, (3, 3), padding='same', activation='relu'), input_shape=(15,120,120,3)))\n",
    "cnn_rnn_model.add(TimeDistributed(BatchNormalization()))\n",
    "cnn_rnn_model.add(TimeDistributed(MaxPooling2D((2, 2))))\n",
    "        \n",
    "cnn_rnn_model.add(TimeDistributed(Conv2D(32, (3, 3), padding='same', activation='relu')))\n",
    "cnn_rnn_model.add(TimeDistributed(BatchNormalization()))\n",
    "cnn_rnn_model.add(TimeDistributed(MaxPooling2D((2, 2))))\n",
    "        \n",
    "cnn_rnn_model.add(TimeDistributed(Conv2D(64, (3, 3), padding='same', activation='relu')))\n",
    "cnn_rnn_model.add(TimeDistributed(BatchNormalization()))\n",
    "cnn_rnn_model.add(TimeDistributed(MaxPooling2D((2, 2))))\n",
    "        \n",
    "cnn_rnn_model.add(TimeDistributed(Conv2D(128, (3, 3), padding='same', activation='relu')))\n",
    "cnn_rnn_model.add(TimeDistributed(BatchNormalization()))\n",
    "cnn_rnn_model.add(TimeDistributed(MaxPooling2D((2, 2))))\n",
    "\n",
    "cnn_rnn_model.add(TimeDistributed(Flatten()))\n",
    "cnn_rnn_model.add(LSTM(128))\n",
    "cnn_rnn_model.add(Dropout(0.25))\n",
    "cnn_rnn_model.add(Dense(128,activation='relu'))\n",
    "cnn_rnn_model.add(Dropout(0.25))\n",
    "\n",
    "cnn_rnn_model.add(Dense(num_classes, activation='softmax'))"
   ]
  },
  {
   "cell_type": "code",
   "execution_count": 19,
   "metadata": {
    "id": "HLXZkpS7BERk"
   },
   "outputs": [
    {
     "name": "stdout",
     "output_type": "stream",
     "text": [
      "Model: \"sequential_2\"\n",
      "_________________________________________________________________\n",
      "Layer (type)                 Output Shape              Param #   \n",
      "=================================================================\n",
      "time_distributed (TimeDistri (None, 15, 120, 120, 16)  448       \n",
      "_________________________________________________________________\n",
      "time_distributed_1 (TimeDist (None, 15, 120, 120, 16)  64        \n",
      "_________________________________________________________________\n",
      "time_distributed_2 (TimeDist (None, 15, 60, 60, 16)    0         \n",
      "_________________________________________________________________\n",
      "time_distributed_3 (TimeDist (None, 15, 60, 60, 32)    4640      \n",
      "_________________________________________________________________\n",
      "time_distributed_4 (TimeDist (None, 15, 60, 60, 32)    128       \n",
      "_________________________________________________________________\n",
      "time_distributed_5 (TimeDist (None, 15, 30, 30, 32)    0         \n",
      "_________________________________________________________________\n",
      "time_distributed_6 (TimeDist (None, 15, 30, 30, 64)    18496     \n",
      "_________________________________________________________________\n",
      "time_distributed_7 (TimeDist (None, 15, 30, 30, 64)    256       \n",
      "_________________________________________________________________\n",
      "time_distributed_8 (TimeDist (None, 15, 15, 15, 64)    0         \n",
      "_________________________________________________________________\n",
      "time_distributed_9 (TimeDist (None, 15, 15, 15, 128)   73856     \n",
      "_________________________________________________________________\n",
      "time_distributed_10 (TimeDis (None, 15, 15, 15, 128)   512       \n",
      "_________________________________________________________________\n",
      "time_distributed_11 (TimeDis (None, 15, 7, 7, 128)     0         \n",
      "_________________________________________________________________\n",
      "time_distributed_12 (TimeDis (None, 15, 6272)          0         \n",
      "_________________________________________________________________\n",
      "lstm (LSTM)                  (None, 128)               3277312   \n",
      "_________________________________________________________________\n",
      "dropout_8 (Dropout)          (None, 128)               0         \n",
      "_________________________________________________________________\n",
      "dense_6 (Dense)              (None, 128)               16512     \n",
      "_________________________________________________________________\n",
      "dropout_9 (Dropout)          (None, 128)               0         \n",
      "_________________________________________________________________\n",
      "dense_7 (Dense)              (None, 5)                 645       \n",
      "=================================================================\n",
      "Total params: 3,392,869\n",
      "Trainable params: 3,392,389\n",
      "Non-trainable params: 480\n",
      "_________________________________________________________________\n",
      "None\n"
     ]
    }
   ],
   "source": [
    "optimiser = \"adam\"\n",
    "cnn_rnn_model.compile(optimizer=optimiser, loss='categorical_crossentropy', metrics=['categorical_accuracy'])\n",
    "print (cnn_rnn_model.summary())"
   ]
  },
  {
   "cell_type": "code",
   "execution_count": 20,
   "metadata": {
    "id": "d5Gux2NLBgXd"
   },
   "outputs": [
    {
     "name": "stdout",
     "output_type": "stream",
     "text": [
      "Epoch 1/30\n",
      "34/34 [==============================] - ETA: 0s - loss: 1.4995 - categorical_accuracy: 0.4176\n",
      "Epoch 00001: saving model to gesture_recog_model_2021-05-0220_00_29.714556/model-00001-1.49948-0.41765-1.76294-0.27000.h5\n",
      "34/34 [==============================] - 28s 817ms/step - loss: 1.4995 - categorical_accuracy: 0.4176 - val_loss: 1.7629 - val_categorical_accuracy: 0.2700 - lr: 0.0010\n",
      "Epoch 2/30\n",
      "34/34 [==============================] - ETA: 0s - loss: 1.2647 - categorical_accuracy: 0.5529\n",
      "Epoch 00002: saving model to gesture_recog_model_2021-05-0220_00_29.714556/model-00002-1.26468-0.55294-1.65023-0.35000.h5\n",
      "34/34 [==============================] - 29s 840ms/step - loss: 1.2647 - categorical_accuracy: 0.5529 - val_loss: 1.6502 - val_categorical_accuracy: 0.3500 - lr: 0.0010\n",
      "Epoch 3/30\n",
      "34/34 [==============================] - ETA: 0s - loss: 1.1586 - categorical_accuracy: 0.6015\n",
      "Epoch 00003: saving model to gesture_recog_model_2021-05-0220_00_29.714556/model-00003-1.15857-0.60147-1.74235-0.22000.h5\n",
      "34/34 [==============================] - 28s 817ms/step - loss: 1.1586 - categorical_accuracy: 0.6015 - val_loss: 1.7423 - val_categorical_accuracy: 0.2200 - lr: 0.0010\n",
      "Epoch 4/30\n",
      "34/34 [==============================] - ETA: 0s - loss: 1.0052 - categorical_accuracy: 0.7000\n",
      "Epoch 00004: saving model to gesture_recog_model_2021-05-0220_00_29.714556/model-00004-1.00521-0.70000-2.09275-0.24000.h5\n",
      "34/34 [==============================] - 30s 870ms/step - loss: 1.0052 - categorical_accuracy: 0.7000 - val_loss: 2.0928 - val_categorical_accuracy: 0.2400 - lr: 0.0010\n",
      "Epoch 5/30\n",
      "34/34 [==============================] - ETA: 0s - loss: 0.9259 - categorical_accuracy: 0.7309\n",
      "Epoch 00005: saving model to gesture_recog_model_2021-05-0220_00_29.714556/model-00005-0.92586-0.73088-3.16555-0.22000.h5\n",
      "34/34 [==============================] - 29s 858ms/step - loss: 0.9259 - categorical_accuracy: 0.7309 - val_loss: 3.1656 - val_categorical_accuracy: 0.2200 - lr: 0.0010\n",
      "Epoch 6/30\n",
      "34/34 [==============================] - ETA: 0s - loss: 0.8321 - categorical_accuracy: 0.7412\n",
      "Epoch 00006: saving model to gesture_recog_model_2021-05-0220_00_29.714556/model-00006-0.83209-0.74118-3.11902-0.23000.h5\n",
      "\n",
      "Epoch 00006: ReduceLROnPlateau reducing learning rate to 0.00020000000949949026.\n",
      "34/34 [==============================] - 29s 848ms/step - loss: 0.8321 - categorical_accuracy: 0.7412 - val_loss: 3.1190 - val_categorical_accuracy: 0.2300 - lr: 0.0010\n",
      "Epoch 7/30\n",
      "34/34 [==============================] - ETA: 0s - loss: 0.8568 - categorical_accuracy: 0.7588\n",
      "Epoch 00007: saving model to gesture_recog_model_2021-05-0220_00_29.714556/model-00007-0.85683-0.75882-2.70836-0.21000.h5\n",
      "34/34 [==============================] - 29s 860ms/step - loss: 0.8568 - categorical_accuracy: 0.7588 - val_loss: 2.7084 - val_categorical_accuracy: 0.2100 - lr: 2.0000e-04\n",
      "Epoch 8/30\n",
      "34/34 [==============================] - ETA: 0s - loss: 0.7594 - categorical_accuracy: 0.7647\n",
      "Epoch 00008: saving model to gesture_recog_model_2021-05-0220_00_29.714556/model-00008-0.75938-0.76471-2.34387-0.28000.h5\n",
      "34/34 [==============================] - 29s 861ms/step - loss: 0.7594 - categorical_accuracy: 0.7647 - val_loss: 2.3439 - val_categorical_accuracy: 0.2800 - lr: 2.0000e-04\n",
      "Epoch 9/30\n",
      "34/34 [==============================] - ETA: 0s - loss: 0.6872 - categorical_accuracy: 0.8029\n",
      "Epoch 00009: saving model to gesture_recog_model_2021-05-0220_00_29.714556/model-00009-0.68718-0.80294-2.34743-0.42000.h5\n",
      "34/34 [==============================] - 29s 854ms/step - loss: 0.6872 - categorical_accuracy: 0.8029 - val_loss: 2.3474 - val_categorical_accuracy: 0.4200 - lr: 2.0000e-04\n",
      "Epoch 10/30\n",
      "34/34 [==============================] - ETA: 0s - loss: 0.6125 - categorical_accuracy: 0.8324\n",
      "Epoch 00010: saving model to gesture_recog_model_2021-05-0220_00_29.714556/model-00010-0.61255-0.83235-2.22377-0.40000.h5\n",
      "\n",
      "Epoch 00010: ReduceLROnPlateau reducing learning rate to 4.0000001899898055e-05.\n",
      "34/34 [==============================] - 28s 832ms/step - loss: 0.6125 - categorical_accuracy: 0.8324 - val_loss: 2.2238 - val_categorical_accuracy: 0.4000 - lr: 2.0000e-04\n",
      "Epoch 11/30\n",
      "34/34 [==============================] - ETA: 0s - loss: 0.6267 - categorical_accuracy: 0.8309\n",
      "Epoch 00011: saving model to gesture_recog_model_2021-05-0220_00_29.714556/model-00011-0.62672-0.83088-1.59078-0.55000.h5\n",
      "34/34 [==============================] - 30s 880ms/step - loss: 0.6267 - categorical_accuracy: 0.8309 - val_loss: 1.5908 - val_categorical_accuracy: 0.5500 - lr: 4.0000e-05\n",
      "Epoch 12/30\n",
      "34/34 [==============================] - ETA: 0s - loss: 0.6425 - categorical_accuracy: 0.8765\n",
      "Epoch 00012: saving model to gesture_recog_model_2021-05-0220_00_29.714556/model-00012-0.64254-0.87647-2.17167-0.39000.h5\n",
      "34/34 [==============================] - 29s 845ms/step - loss: 0.6425 - categorical_accuracy: 0.8765 - val_loss: 2.1717 - val_categorical_accuracy: 0.3900 - lr: 4.0000e-05\n",
      "Epoch 13/30\n",
      "34/34 [==============================] - ETA: 0s - loss: 0.6053 - categorical_accuracy: 0.8868\n",
      "Epoch 00013: saving model to gesture_recog_model_2021-05-0220_00_29.714556/model-00013-0.60531-0.88676-1.44800-0.52000.h5\n",
      "34/34 [==============================] - 29s 845ms/step - loss: 0.6053 - categorical_accuracy: 0.8868 - val_loss: 1.4480 - val_categorical_accuracy: 0.5200 - lr: 4.0000e-05\n",
      "Epoch 14/30\n",
      "34/34 [==============================] - ETA: 0s - loss: 0.6824 - categorical_accuracy: 0.8456\n",
      "Epoch 00014: saving model to gesture_recog_model_2021-05-0220_00_29.714556/model-00014-0.68242-0.84559-1.38659-0.53000.h5\n",
      "34/34 [==============================] - 29s 848ms/step - loss: 0.6824 - categorical_accuracy: 0.8456 - val_loss: 1.3866 - val_categorical_accuracy: 0.5300 - lr: 4.0000e-05\n",
      "Epoch 15/30\n",
      "34/34 [==============================] - ETA: 0s - loss: 0.6134 - categorical_accuracy: 0.8676\n",
      "Epoch 00015: saving model to gesture_recog_model_2021-05-0220_00_29.714556/model-00015-0.61335-0.86765-1.26968-0.58000.h5\n",
      "34/34 [==============================] - 29s 852ms/step - loss: 0.6134 - categorical_accuracy: 0.8676 - val_loss: 1.2697 - val_categorical_accuracy: 0.5800 - lr: 4.0000e-05\n",
      "Epoch 16/30\n",
      "34/34 [==============================] - ETA: 0s - loss: 0.5714 - categorical_accuracy: 0.8662\n",
      "Epoch 00016: saving model to gesture_recog_model_2021-05-0220_00_29.714556/model-00016-0.57145-0.86618-1.18085-0.64000.h5\n",
      "34/34 [==============================] - 28s 828ms/step - loss: 0.5714 - categorical_accuracy: 0.8662 - val_loss: 1.1808 - val_categorical_accuracy: 0.6400 - lr: 4.0000e-05\n",
      "Epoch 17/30\n",
      "34/34 [==============================] - ETA: 0s - loss: 0.5929 - categorical_accuracy: 0.8824\n",
      "Epoch 00017: saving model to gesture_recog_model_2021-05-0220_00_29.714556/model-00017-0.59295-0.88235-0.70659-0.71000.h5\n",
      "34/34 [==============================] - 29s 855ms/step - loss: 0.5929 - categorical_accuracy: 0.8824 - val_loss: 0.7066 - val_categorical_accuracy: 0.7100 - lr: 4.0000e-05\n",
      "Epoch 18/30\n",
      "34/34 [==============================] - ETA: 0s - loss: 0.5558 - categorical_accuracy: 0.8868\n",
      "Epoch 00018: saving model to gesture_recog_model_2021-05-0220_00_29.714556/model-00018-0.55584-0.88676-1.07616-0.56000.h5\n",
      "34/34 [==============================] - 30s 888ms/step - loss: 0.5558 - categorical_accuracy: 0.8868 - val_loss: 1.0762 - val_categorical_accuracy: 0.5600 - lr: 4.0000e-05\n",
      "Epoch 19/30\n",
      "34/34 [==============================] - ETA: 0s - loss: 0.5841 - categorical_accuracy: 0.8926\n",
      "Epoch 00019: saving model to gesture_recog_model_2021-05-0220_00_29.714556/model-00019-0.58413-0.89265-0.71777-0.75000.h5\n",
      "34/34 [==============================] - 29s 856ms/step - loss: 0.5841 - categorical_accuracy: 0.8926 - val_loss: 0.7178 - val_categorical_accuracy: 0.7500 - lr: 4.0000e-05\n",
      "Epoch 20/30\n",
      "34/34 [==============================] - ETA: 0s - loss: 0.5807 - categorical_accuracy: 0.9191\n",
      "Epoch 00020: saving model to gesture_recog_model_2021-05-0220_00_29.714556/model-00020-0.58066-0.91912-0.68090-0.74000.h5\n",
      "34/34 [==============================] - 28s 828ms/step - loss: 0.5807 - categorical_accuracy: 0.9191 - val_loss: 0.6809 - val_categorical_accuracy: 0.7400 - lr: 4.0000e-05\n",
      "Epoch 21/30\n",
      "34/34 [==============================] - ETA: 0s - loss: 0.5621 - categorical_accuracy: 0.9206\n",
      "Epoch 00021: saving model to gesture_recog_model_2021-05-0220_00_29.714556/model-00021-0.56207-0.92059-0.68741-0.81000.h5\n",
      "34/34 [==============================] - 30s 873ms/step - loss: 0.5621 - categorical_accuracy: 0.9206 - val_loss: 0.6874 - val_categorical_accuracy: 0.8100 - lr: 4.0000e-05\n",
      "Epoch 22/30\n",
      "34/34 [==============================] - ETA: 0s - loss: 0.5147 - categorical_accuracy: 0.8824\n",
      "Epoch 00022: saving model to gesture_recog_model_2021-05-0220_00_29.714556/model-00022-0.51468-0.88235-0.66360-0.79000.h5\n",
      "34/34 [==============================] - 29s 852ms/step - loss: 0.5147 - categorical_accuracy: 0.8824 - val_loss: 0.6636 - val_categorical_accuracy: 0.7900 - lr: 4.0000e-05\n",
      "Epoch 23/30\n",
      "34/34 [==============================] - ETA: 0s - loss: 0.5129 - categorical_accuracy: 0.9147\n",
      "Epoch 00023: saving model to gesture_recog_model_2021-05-0220_00_29.714556/model-00023-0.51290-0.91471-0.66479-0.75000.h5\n",
      "34/34 [==============================] - 29s 846ms/step - loss: 0.5129 - categorical_accuracy: 0.9147 - val_loss: 0.6648 - val_categorical_accuracy: 0.7500 - lr: 4.0000e-05\n",
      "Epoch 24/30\n",
      "34/34 [==============================] - ETA: 0s - loss: 0.5749 - categorical_accuracy: 0.8897\n",
      "Epoch 00024: saving model to gesture_recog_model_2021-05-0220_00_29.714556/model-00024-0.57494-0.88971-0.33566-0.88000.h5\n",
      "34/34 [==============================] - 28s 835ms/step - loss: 0.5749 - categorical_accuracy: 0.8897 - val_loss: 0.3357 - val_categorical_accuracy: 0.8800 - lr: 4.0000e-05\n",
      "Epoch 25/30\n",
      "34/34 [==============================] - ETA: 0s - loss: 0.5329 - categorical_accuracy: 0.9176\n",
      "Epoch 00025: saving model to gesture_recog_model_2021-05-0220_00_29.714556/model-00025-0.53292-0.91765-0.76223-0.75000.h5\n",
      "34/34 [==============================] - 27s 802ms/step - loss: 0.5329 - categorical_accuracy: 0.9176 - val_loss: 0.7622 - val_categorical_accuracy: 0.7500 - lr: 4.0000e-05\n",
      "Epoch 26/30\n",
      "34/34 [==============================] - ETA: 0s - loss: 0.5586 - categorical_accuracy: 0.9397\n",
      "Epoch 00026: saving model to gesture_recog_model_2021-05-0220_00_29.714556/model-00026-0.55861-0.93971-0.63415-0.79000.h5\n",
      "34/34 [==============================] - 29s 847ms/step - loss: 0.5586 - categorical_accuracy: 0.9397 - val_loss: 0.6342 - val_categorical_accuracy: 0.7900 - lr: 4.0000e-05\n",
      "Epoch 27/30\n",
      "34/34 [==============================] - ETA: 0s - loss: 0.5165 - categorical_accuracy: 0.9147\n",
      "Epoch 00027: saving model to gesture_recog_model_2021-05-0220_00_29.714556/model-00027-0.51651-0.91471-0.55723-0.84000.h5\n",
      "34/34 [==============================] - 29s 854ms/step - loss: 0.5165 - categorical_accuracy: 0.9147 - val_loss: 0.5572 - val_categorical_accuracy: 0.8400 - lr: 4.0000e-05\n",
      "Epoch 28/30\n",
      "34/34 [==============================] - ETA: 0s - loss: 0.5926 - categorical_accuracy: 0.8838\n",
      "Epoch 00028: saving model to gesture_recog_model_2021-05-0220_00_29.714556/model-00028-0.59264-0.88382-0.44873-0.88000.h5\n",
      "\n",
      "Epoch 00028: ReduceLROnPlateau reducing learning rate to 8.000000525498762e-06.\n",
      "34/34 [==============================] - 27s 798ms/step - loss: 0.5926 - categorical_accuracy: 0.8838 - val_loss: 0.4487 - val_categorical_accuracy: 0.8800 - lr: 4.0000e-05\n",
      "Epoch 29/30\n",
      "34/34 [==============================] - ETA: 0s - loss: 0.5480 - categorical_accuracy: 0.8971\n",
      "Epoch 00029: saving model to gesture_recog_model_2021-05-0220_00_29.714556/model-00029-0.54803-0.89706-0.85783-0.69000.h5\n",
      "34/34 [==============================] - 28s 836ms/step - loss: 0.5480 - categorical_accuracy: 0.8971 - val_loss: 0.8578 - val_categorical_accuracy: 0.6900 - lr: 8.0000e-06\n",
      "Epoch 30/30\n",
      "34/34 [==============================] - ETA: 0s - loss: 0.4788 - categorical_accuracy: 0.9000\n",
      "Epoch 00030: saving model to gesture_recog_model_2021-05-0220_00_29.714556/model-00030-0.47884-0.90000-0.50317-0.79000.h5\n",
      "34/34 [==============================] - 29s 855ms/step - loss: 0.4788 - categorical_accuracy: 0.9000 - val_loss: 0.5032 - val_categorical_accuracy: 0.7900 - lr: 8.0000e-06\n"
     ]
    }
   ],
   "source": [
    "history = cnn_rnn_model.fit(train_generator, steps_per_epoch=steps_per_epoch, epochs=num_epochs, verbose=1, \n",
    "                    callbacks=callbacks_list, validation_data=val_generator, \n",
    "                    validation_steps=validation_steps, class_weight=None, workers=1, initial_epoch=0)"
   ]
  },
  {
   "cell_type": "code",
   "execution_count": 21,
   "metadata": {
    "id": "lyZltfwrFcgI"
   },
   "outputs": [
    {
     "data": {
      "image/png": "[encoded data removed]",
      "text/plain": [
       "<Figure size 1080x288 with 2 Axes>"
      ]
     },
     "metadata": {
      "needs_background": "light"
     },
     "output_type": "display_data"
    }
   ],
   "source": [
    "plot(history)"
   ]
  },
  {
   "cell_type": "markdown",
   "metadata": {},
   "source": [
    "### Observation\n",
    "Model is performing well, let us use GRU instead of LSTM to reduce parameters."
   ]
  },
  {
   "cell_type": "markdown",
   "metadata": {
    "id": "TCTzvLoQFuHo"
   },
   "source": [
    "# Model 5 - CNN-LSTM Model with GRU"
   ]
  },
  {
   "cell_type": "code",
   "execution_count": 22,
   "metadata": {
    "id": "RWxPREaFFubD"
   },
   "outputs": [],
   "source": [
    "#write your model here\n",
    "num_classes = 5\n",
    "\n",
    "cnn_rnn_model1= Sequential()\n",
    "\n",
    "cnn_rnn_model1.add(TimeDistributed(Conv2D(16, (3, 3), padding='same', activation='relu'), input_shape=(15,120,120,3)))\n",
    "cnn_rnn_model1.add(TimeDistributed(BatchNormalization()))\n",
    "cnn_rnn_model1.add(TimeDistributed(MaxPooling2D((2, 2))))\n",
    "        \n",
    "cnn_rnn_model1.add(TimeDistributed(Conv2D(32, (3, 3), padding='same', activation='relu')))\n",
    "cnn_rnn_model1.add(TimeDistributed(BatchNormalization()))\n",
    "cnn_rnn_model1.add(TimeDistributed(MaxPooling2D((2, 2))))\n",
    "        \n",
    "cnn_rnn_model1.add(TimeDistributed(Conv2D(64, (3, 3), padding='same', activation='relu')))\n",
    "cnn_rnn_model1.add(TimeDistributed(BatchNormalization()))\n",
    "cnn_rnn_model1.add(TimeDistributed(MaxPooling2D((2, 2))))\n",
    "        \n",
    "cnn_rnn_model1.add(TimeDistributed(Conv2D(128, (3, 3), padding='same', activation='relu')))\n",
    "cnn_rnn_model1.add(TimeDistributed(BatchNormalization()))\n",
    "cnn_rnn_model1.add(TimeDistributed(MaxPooling2D((2, 2))))\n",
    "\n",
    "cnn_rnn_model1.add(TimeDistributed(Flatten()))\n",
    "cnn_rnn_model1.add(GRU(128))\n",
    "cnn_rnn_model1.add(Dropout(0.25))\n",
    "cnn_rnn_model1.add(Dense(128,activation='relu'))\n",
    "cnn_rnn_model1.add(Dropout(0.25))\n",
    "        \n",
    "cnn_rnn_model1.add(Dense(num_classes, activation='softmax'))"
   ]
  },
  {
   "cell_type": "code",
   "execution_count": 23,
   "metadata": {
    "id": "Q09qC0WoGD69"
   },
   "outputs": [
    {
     "name": "stdout",
     "output_type": "stream",
     "text": [
      "Model: \"sequential_3\"\n",
      "_________________________________________________________________\n",
      "Layer (type)                 Output Shape              Param #   \n",
      "=================================================================\n",
      "time_distributed_13 (TimeDis (None, 15, 120, 120, 16)  448       \n",
      "_________________________________________________________________\n",
      "time_distributed_14 (TimeDis (None, 15, 120, 120, 16)  64        \n",
      "_________________________________________________________________\n",
      "time_distributed_15 (TimeDis (None, 15, 60, 60, 16)    0         \n",
      "_________________________________________________________________\n",
      "time_distributed_16 (TimeDis (None, 15, 60, 60, 32)    4640      \n",
      "_________________________________________________________________\n",
      "time_distributed_17 (TimeDis (None, 15, 60, 60, 32)    128       \n",
      "_________________________________________________________________\n",
      "time_distributed_18 (TimeDis (None, 15, 30, 30, 32)    0         \n",
      "_________________________________________________________________\n",
      "time_distributed_19 (TimeDis (None, 15, 30, 30, 64)    18496     \n",
      "_________________________________________________________________\n",
      "time_distributed_20 (TimeDis (None, 15, 30, 30, 64)    256       \n",
      "_________________________________________________________________\n",
      "time_distributed_21 (TimeDis (None, 15, 15, 15, 64)    0         \n",
      "_________________________________________________________________\n",
      "time_distributed_22 (TimeDis (None, 15, 15, 15, 128)   73856     \n",
      "_________________________________________________________________\n",
      "time_distributed_23 (TimeDis (None, 15, 15, 15, 128)   512       \n",
      "_________________________________________________________________\n",
      "time_distributed_24 (TimeDis (None, 15, 7, 7, 128)     0         \n",
      "_________________________________________________________________\n",
      "time_distributed_25 (TimeDis (None, 15, 6272)          0         \n",
      "_________________________________________________________________\n",
      "gru (GRU)                    (None, 128)               2458368   \n",
      "_________________________________________________________________\n",
      "dropout_10 (Dropout)         (None, 128)               0         \n",
      "_________________________________________________________________\n",
      "dense_8 (Dense)              (None, 128)               16512     \n",
      "_________________________________________________________________\n",
      "dropout_11 (Dropout)         (None, 128)               0         \n",
      "_________________________________________________________________\n",
      "dense_9 (Dense)              (None, 5)                 645       \n",
      "=================================================================\n",
      "Total params: 2,573,925\n",
      "Trainable params: 2,573,445\n",
      "Non-trainable params: 480\n",
      "_________________________________________________________________\n",
      "None\n"
     ]
    }
   ],
   "source": [
    "optimiser = \"adam\"\n",
    "cnn_rnn_model1.compile(optimizer=optimiser, loss='categorical_crossentropy', metrics=['categorical_accuracy'])\n",
    "print (cnn_rnn_model1.summary())"
   ]
  },
  {
   "cell_type": "code",
   "execution_count": 24,
   "metadata": {
    "id": "hxTdRyzqGDi8"
   },
   "outputs": [
    {
     "name": "stdout",
     "output_type": "stream",
     "text": [
      "Epoch 1/30\n",
      "34/34 [==============================] - ETA: 0s - loss: 1.4565 - categorical_accuracy: 0.4647\n",
      "Epoch 00001: saving model to gesture_recog_model_2021-05-0220_00_29.714556/model-00001-1.45646-0.46471-2.65216-0.27000.h5\n",
      "34/34 [==============================] - 29s 852ms/step - loss: 1.4565 - categorical_accuracy: 0.4647 - val_loss: 2.6522 - val_categorical_accuracy: 0.2700 - lr: 0.0010\n",
      "Epoch 2/30\n",
      "34/34 [==============================] - ETA: 0s - loss: 1.1885 - categorical_accuracy: 0.5779\n",
      "Epoch 00002: saving model to gesture_recog_model_2021-05-0220_00_29.714556/model-00002-1.18855-0.57794-2.57751-0.14000.h5\n",
      "34/34 [==============================] - 27s 805ms/step - loss: 1.1885 - categorical_accuracy: 0.5779 - val_loss: 2.5775 - val_categorical_accuracy: 0.1400 - lr: 0.0010\n",
      "Epoch 3/30\n",
      "34/34 [==============================] - ETA: 0s - loss: 1.0254 - categorical_accuracy: 0.6294\n",
      "Epoch 00003: saving model to gesture_recog_model_2021-05-0220_00_29.714556/model-00003-1.02539-0.62941-2.95731-0.19000.h5\n",
      "34/34 [==============================] - 29s 844ms/step - loss: 1.0254 - categorical_accuracy: 0.6294 - val_loss: 2.9573 - val_categorical_accuracy: 0.1900 - lr: 0.0010\n",
      "Epoch 4/30\n",
      "34/34 [==============================] - ETA: 0s - loss: 0.9351 - categorical_accuracy: 0.7118\n",
      "Epoch 00004: saving model to gesture_recog_model_2021-05-0220_00_29.714556/model-00004-0.93507-0.71176-2.16326-0.29000.h5\n",
      "34/34 [==============================] - 27s 808ms/step - loss: 0.9351 - categorical_accuracy: 0.7118 - val_loss: 2.1633 - val_categorical_accuracy: 0.2900 - lr: 0.0010\n",
      "Epoch 5/30\n",
      "34/34 [==============================] - ETA: 0s - loss: 0.8663 - categorical_accuracy: 0.7309\n",
      "Epoch 00005: saving model to gesture_recog_model_2021-05-0220_00_29.714556/model-00005-0.86627-0.73088-2.07803-0.19000.h5\n",
      "34/34 [==============================] - 28s 837ms/step - loss: 0.8663 - categorical_accuracy: 0.7309 - val_loss: 2.0780 - val_categorical_accuracy: 0.1900 - lr: 0.0010\n",
      "Epoch 6/30\n",
      "34/34 [==============================] - ETA: 0s - loss: 0.8663 - categorical_accuracy: 0.7191\n",
      "Epoch 00006: saving model to gesture_recog_model_2021-05-0220_00_29.714556/model-00006-0.86628-0.71912-1.62749-0.48000.h5\n",
      "34/34 [==============================] - 28s 810ms/step - loss: 0.8663 - categorical_accuracy: 0.7191 - val_loss: 1.6275 - val_categorical_accuracy: 0.4800 - lr: 0.0010\n",
      "Epoch 7/30\n",
      "34/34 [==============================] - ETA: 0s - loss: 0.7616 - categorical_accuracy: 0.7750\n",
      "Epoch 00007: saving model to gesture_recog_model_2021-05-0220_00_29.714556/model-00007-0.76162-0.77500-2.54637-0.29000.h5\n",
      "34/34 [==============================] - 28s 838ms/step - loss: 0.7616 - categorical_accuracy: 0.7750 - val_loss: 2.5464 - val_categorical_accuracy: 0.2900 - lr: 0.0010\n",
      "Epoch 8/30\n",
      "34/34 [==============================] - ETA: 0s - loss: 0.7451 - categorical_accuracy: 0.7882\n",
      "Epoch 00008: saving model to gesture_recog_model_2021-05-0220_00_29.714556/model-00008-0.74512-0.78824-2.13521-0.36000.h5\n",
      "34/34 [==============================] - 28s 830ms/step - loss: 0.7451 - categorical_accuracy: 0.7882 - val_loss: 2.1352 - val_categorical_accuracy: 0.3600 - lr: 0.0010\n",
      "Epoch 9/30\n",
      "34/34 [==============================] - ETA: 0s - loss: 0.6424 - categorical_accuracy: 0.8162\n",
      "Epoch 00009: saving model to gesture_recog_model_2021-05-0220_00_29.714556/model-00009-0.64244-0.81618-2.44050-0.38000.h5\n",
      "34/34 [==============================] - 28s 823ms/step - loss: 0.6424 - categorical_accuracy: 0.8162 - val_loss: 2.4405 - val_categorical_accuracy: 0.3800 - lr: 0.0010\n",
      "Epoch 10/30\n",
      "34/34 [==============================] - ETA: 0s - loss: 0.7425 - categorical_accuracy: 0.8029\n",
      "Epoch 00010: saving model to gesture_recog_model_2021-05-0220_00_29.714556/model-00010-0.74249-0.80294-2.44616-0.21000.h5\n",
      "\n",
      "Epoch 00010: ReduceLROnPlateau reducing learning rate to 0.00020000000949949026.\n",
      "34/34 [==============================] - 29s 843ms/step - loss: 0.7425 - categorical_accuracy: 0.8029 - val_loss: 2.4462 - val_categorical_accuracy: 0.2100 - lr: 0.0010\n",
      "Epoch 11/30\n",
      "34/34 [==============================] - ETA: 0s - loss: 0.8762 - categorical_accuracy: 0.7985\n",
      "Epoch 00011: saving model to gesture_recog_model_2021-05-0220_00_29.714556/model-00011-0.87616-0.79853-1.75363-0.51000.h5\n",
      "34/34 [==============================] - 29s 852ms/step - loss: 0.8762 - categorical_accuracy: 0.7985 - val_loss: 1.7536 - val_categorical_accuracy: 0.5100 - lr: 2.0000e-04\n",
      "Epoch 12/30\n",
      "34/34 [==============================] - ETA: 0s - loss: 0.6436 - categorical_accuracy: 0.8824\n",
      "Epoch 00012: saving model to gesture_recog_model_2021-05-0220_00_29.714556/model-00012-0.64355-0.88235-1.49925-0.53000.h5\n",
      "34/34 [==============================] - 29s 847ms/step - loss: 0.6436 - categorical_accuracy: 0.8824 - val_loss: 1.4993 - val_categorical_accuracy: 0.5300 - lr: 2.0000e-04\n",
      "Epoch 13/30\n",
      "34/34 [==============================] - ETA: 0s - loss: 0.6405 - categorical_accuracy: 0.8824\n",
      "Epoch 00013: saving model to gesture_recog_model_2021-05-0220_00_29.714556/model-00013-0.64046-0.88235-1.58750-0.57000.h5\n",
      "34/34 [==============================] - 27s 783ms/step - loss: 0.6405 - categorical_accuracy: 0.8824 - val_loss: 1.5875 - val_categorical_accuracy: 0.5700 - lr: 2.0000e-04\n",
      "Epoch 14/30\n",
      "34/34 [==============================] - ETA: 0s - loss: 0.6850 - categorical_accuracy: 0.8618\n",
      "Epoch 00014: saving model to gesture_recog_model_2021-05-0220_00_29.714556/model-00014-0.68502-0.86176-0.92542-0.72000.h5\n",
      "34/34 [==============================] - 28s 835ms/step - loss: 0.6850 - categorical_accuracy: 0.8618 - val_loss: 0.9254 - val_categorical_accuracy: 0.7200 - lr: 2.0000e-04\n",
      "Epoch 15/30\n",
      "34/34 [==============================] - ETA: 0s - loss: 0.6382 - categorical_accuracy: 0.8853\n",
      "Epoch 00015: saving model to gesture_recog_model_2021-05-0220_00_29.714556/model-00015-0.63822-0.88529-1.05537-0.66000.h5\n",
      "34/34 [==============================] - 28s 823ms/step - loss: 0.6382 - categorical_accuracy: 0.8853 - val_loss: 1.0554 - val_categorical_accuracy: 0.6600 - lr: 2.0000e-04\n",
      "Epoch 16/30\n",
      "34/34 [==============================] - ETA: 0s - loss: 0.5875 - categorical_accuracy: 0.9088\n",
      "Epoch 00016: saving model to gesture_recog_model_2021-05-0220_00_29.714556/model-00016-0.58747-0.90882-0.81557-0.74000.h5\n",
      "34/34 [==============================] - 29s 862ms/step - loss: 0.5875 - categorical_accuracy: 0.9088 - val_loss: 0.8156 - val_categorical_accuracy: 0.7400 - lr: 2.0000e-04\n",
      "Epoch 17/30\n",
      "34/34 [==============================] - ETA: 0s - loss: 0.6784 - categorical_accuracy: 0.8956\n",
      "Epoch 00017: saving model to gesture_recog_model_2021-05-0220_00_29.714556/model-00017-0.67841-0.89559-0.77710-0.74000.h5\n",
      "34/34 [==============================] - 29s 859ms/step - loss: 0.6784 - categorical_accuracy: 0.8956 - val_loss: 0.7771 - val_categorical_accuracy: 0.7400 - lr: 2.0000e-04\n",
      "Epoch 18/30\n",
      "34/34 [==============================] - ETA: 0s - loss: 0.5486 - categorical_accuracy: 0.9221\n",
      "Epoch 00018: saving model to gesture_recog_model_2021-05-0220_00_29.714556/model-00018-0.54857-0.92206-1.16541-0.63000.h5\n",
      "34/34 [==============================] - 29s 851ms/step - loss: 0.5486 - categorical_accuracy: 0.9221 - val_loss: 1.1654 - val_categorical_accuracy: 0.6300 - lr: 2.0000e-04\n",
      "Epoch 19/30\n",
      "34/34 [==============================] - ETA: 0s - loss: 0.6616 - categorical_accuracy: 0.9294\n",
      "Epoch 00019: saving model to gesture_recog_model_2021-05-0220_00_29.714556/model-00019-0.66159-0.92941-0.35785-0.83000.h5\n",
      "34/34 [==============================] - 29s 855ms/step - loss: 0.6616 - categorical_accuracy: 0.9294 - val_loss: 0.3578 - val_categorical_accuracy: 0.8300 - lr: 2.0000e-04\n",
      "Epoch 20/30\n",
      "34/34 [==============================] - ETA: 0s - loss: 0.6519 - categorical_accuracy: 0.9191\n",
      "Epoch 00020: saving model to gesture_recog_model_2021-05-0220_00_29.714556/model-00020-0.65185-0.91912-0.98545-0.72000.h5\n",
      "34/34 [==============================] - 31s 901ms/step - loss: 0.6519 - categorical_accuracy: 0.9191 - val_loss: 0.9855 - val_categorical_accuracy: 0.7200 - lr: 2.0000e-04\n",
      "Epoch 21/30\n",
      "34/34 [==============================] - ETA: 0s - loss: 0.6121 - categorical_accuracy: 0.9132\n",
      "Epoch 00021: saving model to gesture_recog_model_2021-05-0220_00_29.714556/model-00021-0.61213-0.91324-0.77367-0.78000.h5\n",
      "34/34 [==============================] - 30s 879ms/step - loss: 0.6121 - categorical_accuracy: 0.9132 - val_loss: 0.7737 - val_categorical_accuracy: 0.7800 - lr: 2.0000e-04\n"
     ]
    },
    {
     "name": "stdout",
     "output_type": "stream",
     "text": [
      "Epoch 22/30\n",
      "34/34 [==============================] - ETA: 0s - loss: 0.6973 - categorical_accuracy: 0.9103\n",
      "Epoch 00022: saving model to gesture_recog_model_2021-05-0220_00_29.714556/model-00022-0.69727-0.91029-0.26516-0.90000.h5\n",
      "34/34 [==============================] - 29s 845ms/step - loss: 0.6973 - categorical_accuracy: 0.9103 - val_loss: 0.2652 - val_categorical_accuracy: 0.9000 - lr: 2.0000e-04\n",
      "Epoch 23/30\n",
      "34/34 [==============================] - ETA: 0s - loss: 0.5926 - categorical_accuracy: 0.9132\n",
      "Epoch 00023: saving model to gesture_recog_model_2021-05-0220_00_29.714556/model-00023-0.59262-0.91324-0.70876-0.78000.h5\n",
      "34/34 [==============================] - 29s 845ms/step - loss: 0.5926 - categorical_accuracy: 0.9132 - val_loss: 0.7088 - val_categorical_accuracy: 0.7800 - lr: 2.0000e-04\n",
      "Epoch 24/30\n",
      "34/34 [==============================] - ETA: 0s - loss: 0.5150 - categorical_accuracy: 0.9206\n",
      "Epoch 00024: saving model to gesture_recog_model_2021-05-0220_00_29.714556/model-00024-0.51505-0.92059-0.53680-0.83000.h5\n",
      "34/34 [==============================] - 28s 833ms/step - loss: 0.5150 - categorical_accuracy: 0.9206 - val_loss: 0.5368 - val_categorical_accuracy: 0.8300 - lr: 2.0000e-04\n",
      "Epoch 25/30\n",
      "34/34 [==============================] - ETA: 0s - loss: 0.5870 - categorical_accuracy: 0.8868\n",
      "Epoch 00025: saving model to gesture_recog_model_2021-05-0220_00_29.714556/model-00025-0.58704-0.88676-0.31466-0.86000.h5\n",
      "34/34 [==============================] - 27s 801ms/step - loss: 0.5870 - categorical_accuracy: 0.8868 - val_loss: 0.3147 - val_categorical_accuracy: 0.8600 - lr: 2.0000e-04\n",
      "Epoch 26/30\n",
      "34/34 [==============================] - ETA: 0s - loss: 0.5162 - categorical_accuracy: 0.9118\n",
      "Epoch 00026: saving model to gesture_recog_model_2021-05-0220_00_29.714556/model-00026-0.51617-0.91176-0.32429-0.88000.h5\n",
      "\n",
      "Epoch 00026: ReduceLROnPlateau reducing learning rate to 4.0000001899898055e-05.\n",
      "34/34 [==============================] - 27s 808ms/step - loss: 0.5162 - categorical_accuracy: 0.9118 - val_loss: 0.3243 - val_categorical_accuracy: 0.8800 - lr: 2.0000e-04\n",
      "Epoch 27/30\n",
      "34/34 [==============================] - ETA: 0s - loss: 0.6818 - categorical_accuracy: 0.8750\n",
      "Epoch 00027: saving model to gesture_recog_model_2021-05-0220_00_29.714556/model-00027-0.68180-0.87500-0.47645-0.85000.h5\n",
      "34/34 [==============================] - 27s 807ms/step - loss: 0.6818 - categorical_accuracy: 0.8750 - val_loss: 0.4764 - val_categorical_accuracy: 0.8500 - lr: 4.0000e-05\n",
      "Epoch 28/30\n",
      "34/34 [==============================] - ETA: 0s - loss: 0.8246 - categorical_accuracy: 0.9015\n",
      "Epoch 00028: saving model to gesture_recog_model_2021-05-0220_00_29.714556/model-00028-0.82464-0.90147-0.38652-0.89000.h5\n",
      "34/34 [==============================] - 27s 793ms/step - loss: 0.8246 - categorical_accuracy: 0.9015 - val_loss: 0.3865 - val_categorical_accuracy: 0.8900 - lr: 4.0000e-05\n",
      "Epoch 29/30\n",
      "34/34 [==============================] - ETA: 0s - loss: 0.6641 - categorical_accuracy: 0.9500\n",
      "Epoch 00029: saving model to gesture_recog_model_2021-05-0220_00_29.714556/model-00029-0.66415-0.95000-0.36612-0.86000.h5\n",
      "34/34 [==============================] - 29s 839ms/step - loss: 0.6641 - categorical_accuracy: 0.9500 - val_loss: 0.3661 - val_categorical_accuracy: 0.8600 - lr: 4.0000e-05\n",
      "Epoch 30/30\n",
      "34/34 [==============================] - ETA: 0s - loss: 0.6666 - categorical_accuracy: 0.9265\n",
      "Epoch 00030: saving model to gesture_recog_model_2021-05-0220_00_29.714556/model-00030-0.66659-0.92647-0.49252-0.90000.h5\n",
      "\n",
      "Epoch 00030: ReduceLROnPlateau reducing learning rate to 8.000000525498762e-06.\n",
      "34/34 [==============================] - 27s 809ms/step - loss: 0.6666 - categorical_accuracy: 0.9265 - val_loss: 0.4925 - val_categorical_accuracy: 0.9000 - lr: 4.0000e-05\n"
     ]
    }
   ],
   "source": [
    "history = cnn_rnn_model1.fit(train_generator, steps_per_epoch=steps_per_epoch, epochs=num_epochs, verbose=1, \n",
    "                    callbacks=callbacks_list, validation_data=val_generator, \n",
    "                    validation_steps=validation_steps, class_weight=None, workers=1, initial_epoch=0)"
   ]
  },
  {
   "cell_type": "code",
   "execution_count": 25,
   "metadata": {
    "id": "gY-r9WbDGaX7"
   },
   "outputs": [
    {
     "data": {
      "image/png": "[encoded data removed]",
      "text/plain": [
       "<Figure size 1080x288 with 2 Axes>"
      ]
     },
     "metadata": {
      "needs_background": "light"
     },
     "output_type": "display_data"
    }
   ],
   "source": [
    "plot(history)"
   ]
  },
  {
   "cell_type": "markdown",
   "metadata": {},
   "source": [
    "### Observation\n",
    "Model performance is better with GRU. We will use Transfer learning now for our model"
   ]
  },
  {
   "cell_type": "markdown",
   "metadata": {
    "id": "mDVwqZYLHMPO"
   },
   "source": [
    "## Model 6 - Transfer Learning"
   ]
  },
  {
   "cell_type": "code",
   "execution_count": 13,
   "metadata": {},
   "outputs": [],
   "source": [
    "from keras.applications import mobilenet"
   ]
  },
  {
   "cell_type": "code",
   "execution_count": 14,
   "metadata": {
    "id": "KttzH8n7HNuH",
    "scrolled": true
   },
   "outputs": [
    {
     "name": "stderr",
     "output_type": "stream",
     "text": [
      "W0503 04:17:23.739244 139676061185856 mobilenet.py:216] `input_shape` is undefined or non-square, or `rows` is not in [128, 160, 192, 224]. Weights for input shape (224, 224) will be loaded as the default.\n"
     ]
    },
    {
     "name": "stdout",
     "output_type": "stream",
     "text": [
      "Downloading data from https://storage.googleapis.com/tensorflow/keras-applications/mobilenet/mobilenet_1_0_224_tf_no_top.h5\n",
      "17227776/17225924 [==============================] - 0s 0us/step\n"
     ]
    }
   ],
   "source": [
    "#write your model here\n",
    "num_classes = 5\n",
    "\n",
    "mobilenet_transfer = mobilenet.MobileNet(weights='imagenet', include_top=False)\n",
    "\n",
    "cnn_rnn_tl = Sequential()\n",
    "cnn_rnn_tl.add(TimeDistributed(mobilenet_transfer,input_shape=(15,120,120,3)))\n",
    "for layer in cnn_rnn_tl.layers:\n",
    "  layer.trainable = False\n",
    "cnn_rnn_tl.add(TimeDistributed(BatchNormalization()))\n",
    "cnn_rnn_tl.add(TimeDistributed(MaxPooling2D((2, 2))))\n",
    "cnn_rnn_tl.add(TimeDistributed(Flatten()))\n",
    "\n",
    "cnn_rnn_tl.add(LSTM(128))\n",
    "cnn_rnn_tl.add(Dropout(0.25))\n",
    "        \n",
    "cnn_rnn_tl.add(Dense(128,activation='relu'))\n",
    "cnn_rnn_tl.add(Dropout(0.25))\n",
    "        \n",
    "cnn_rnn_tl.add(Dense(num_classes, activation='softmax'))"
   ]
  },
  {
   "cell_type": "code",
   "execution_count": 15,
   "metadata": {
    "id": "UOJDhy-7Iu74"
   },
   "outputs": [
    {
     "name": "stdout",
     "output_type": "stream",
     "text": [
      "Model: \"sequential\"\n",
      "_________________________________________________________________\n",
      "Layer (type)                 Output Shape              Param #   \n",
      "=================================================================\n",
      "time_distributed (TimeDistri (None, 15, 3, 3, 1024)    3228864   \n",
      "_________________________________________________________________\n",
      "time_distributed_1 (TimeDist (None, 15, 3, 3, 1024)    4096      \n",
      "_________________________________________________________________\n",
      "time_distributed_2 (TimeDist (None, 15, 1, 1, 1024)    0         \n",
      "_________________________________________________________________\n",
      "time_distributed_3 (TimeDist (None, 15, 1024)          0         \n",
      "_________________________________________________________________\n",
      "lstm (LSTM)                  (None, 128)               590336    \n",
      "_________________________________________________________________\n",
      "dropout (Dropout)            (None, 128)               0         \n",
      "_________________________________________________________________\n",
      "dense (Dense)                (None, 128)               16512     \n",
      "_________________________________________________________________\n",
      "dropout_1 (Dropout)          (None, 128)               0         \n",
      "_________________________________________________________________\n",
      "dense_1 (Dense)              (None, 5)                 645       \n",
      "=================================================================\n",
      "Total params: 3,840,453\n",
      "Trainable params: 609,541\n",
      "Non-trainable params: 3,230,912\n",
      "_________________________________________________________________\n",
      "None\n"
     ]
    }
   ],
   "source": [
    "optimiser = \"adam\"\n",
    "cnn_rnn_tl.compile(optimizer=optimiser, loss='categorical_crossentropy', metrics=['categorical_accuracy'])\n",
    "print (cnn_rnn_tl.summary())"
   ]
  },
  {
   "cell_type": "code",
   "execution_count": 16,
   "metadata": {
    "id": "ReFN9Y5wJD12"
   },
   "outputs": [
    {
     "name": "stdout",
     "output_type": "stream",
     "text": [
      "Source path =  Project_data/train ; batch size = 20\n",
      "Epoch 1/30\n",
      "34/34 [==============================] - ETA: 0s - loss: 1.4211 - categorical_accuracy: 0.4765Source path =  Project_data/val ; batch size = 20\n",
      "\n",
      "Epoch 00001: saving model to gesture_recog_model_2021-05-0304_17_09.372367/model-00001-1.42112-0.47647-1.00030-0.62000.h5\n",
      "34/34 [==============================] - 72s 2s/step - loss: 1.4211 - categorical_accuracy: 0.4765 - val_loss: 1.0003 - val_categorical_accuracy: 0.6200 - lr: 0.0010\n",
      "Epoch 2/30\n",
      "34/34 [==============================] - ETA: 0s - loss: 1.0409 - categorical_accuracy: 0.6632\n",
      "Epoch 00002: saving model to gesture_recog_model_2021-05-0304_17_09.372367/model-00002-1.04090-0.66324-0.78707-0.71000.h5\n",
      "34/34 [==============================] - 67s 2s/step - loss: 1.0409 - categorical_accuracy: 0.6632 - val_loss: 0.7871 - val_categorical_accuracy: 0.7100 - lr: 0.0010\n",
      "Epoch 3/30\n",
      "34/34 [==============================] - ETA: 0s - loss: 0.7431 - categorical_accuracy: 0.8088\n",
      "Epoch 00003: saving model to gesture_recog_model_2021-05-0304_17_09.372367/model-00003-0.74310-0.80882-0.68534-0.73000.h5\n",
      "34/34 [==============================] - 30s 888ms/step - loss: 0.7431 - categorical_accuracy: 0.8088 - val_loss: 0.6853 - val_categorical_accuracy: 0.7300 - lr: 0.0010\n",
      "Epoch 4/30\n",
      "34/34 [==============================] - ETA: 0s - loss: 0.6288 - categorical_accuracy: 0.8588\n",
      "Epoch 00004: saving model to gesture_recog_model_2021-05-0304_17_09.372367/model-00004-0.62882-0.85882-0.57556-0.80000.h5\n",
      "34/34 [==============================] - 29s 851ms/step - loss: 0.6288 - categorical_accuracy: 0.8588 - val_loss: 0.5756 - val_categorical_accuracy: 0.8000 - lr: 0.0010\n",
      "Epoch 5/30\n",
      "34/34 [==============================] - ETA: 0s - loss: 0.5214 - categorical_accuracy: 0.9074\n",
      "Epoch 00005: saving model to gesture_recog_model_2021-05-0304_17_09.372367/model-00005-0.52144-0.90735-0.63546-0.76000.h5\n",
      "34/34 [==============================] - 28s 832ms/step - loss: 0.5214 - categorical_accuracy: 0.9074 - val_loss: 0.6355 - val_categorical_accuracy: 0.7600 - lr: 0.0010\n",
      "Epoch 6/30\n",
      "34/34 [==============================] - ETA: 0s - loss: 0.5458 - categorical_accuracy: 0.8956\n",
      "Epoch 00006: saving model to gesture_recog_model_2021-05-0304_17_09.372367/model-00006-0.54583-0.89559-0.50506-0.84000.h5\n",
      "34/34 [==============================] - 30s 874ms/step - loss: 0.5458 - categorical_accuracy: 0.8956 - val_loss: 0.5051 - val_categorical_accuracy: 0.8400 - lr: 0.0010\n",
      "Epoch 7/30\n",
      "34/34 [==============================] - ETA: 0s - loss: 0.4493 - categorical_accuracy: 0.9250\n",
      "Epoch 00007: saving model to gesture_recog_model_2021-05-0304_17_09.372367/model-00007-0.44926-0.92500-0.80984-0.69000.h5\n",
      "34/34 [==============================] - 28s 819ms/step - loss: 0.4493 - categorical_accuracy: 0.9250 - val_loss: 0.8098 - val_categorical_accuracy: 0.6900 - lr: 0.0010\n",
      "Epoch 8/30\n",
      "34/34 [==============================] - ETA: 0s - loss: 0.4931 - categorical_accuracy: 0.9382\n",
      "Epoch 00008: saving model to gesture_recog_model_2021-05-0304_17_09.372367/model-00008-0.49307-0.93824-0.52364-0.79000.h5\n",
      "34/34 [==============================] - 28s 828ms/step - loss: 0.4931 - categorical_accuracy: 0.9382 - val_loss: 0.5236 - val_categorical_accuracy: 0.7900 - lr: 0.0010\n",
      "Epoch 9/30\n",
      "34/34 [==============================] - ETA: 0s - loss: 0.6919 - categorical_accuracy: 0.8897\n",
      "Epoch 00009: saving model to gesture_recog_model_2021-05-0304_17_09.372367/model-00009-0.69188-0.88971-0.56627-0.84000.h5\n",
      "34/34 [==============================] - 29s 843ms/step - loss: 0.6919 - categorical_accuracy: 0.8897 - val_loss: 0.5663 - val_categorical_accuracy: 0.8400 - lr: 0.0010\n",
      "Epoch 10/30\n",
      "34/34 [==============================] - ETA: 0s - loss: 0.7102 - categorical_accuracy: 0.9044\n",
      "Epoch 00010: saving model to gesture_recog_model_2021-05-0304_17_09.372367/model-00010-0.71023-0.90441-0.62869-0.82000.h5\n",
      "\n",
      "Epoch 00010: ReduceLROnPlateau reducing learning rate to 0.00020000000949949026.\n",
      "34/34 [==============================] - 27s 809ms/step - loss: 0.7102 - categorical_accuracy: 0.9044 - val_loss: 0.6287 - val_categorical_accuracy: 0.8200 - lr: 0.0010\n",
      "Epoch 11/30\n",
      "34/34 [==============================] - ETA: 0s - loss: 0.7835 - categorical_accuracy: 0.9059\n",
      "Epoch 00011: saving model to gesture_recog_model_2021-05-0304_17_09.372367/model-00011-0.78345-0.90588-0.70552-0.79000.h5\n",
      "34/34 [==============================] - 29s 866ms/step - loss: 0.7835 - categorical_accuracy: 0.9059 - val_loss: 0.7055 - val_categorical_accuracy: 0.7900 - lr: 2.0000e-04\n",
      "Epoch 12/30\n",
      "34/34 [==============================] - ETA: 0s - loss: 0.7385 - categorical_accuracy: 0.9191\n",
      "Epoch 00012: saving model to gesture_recog_model_2021-05-0304_17_09.372367/model-00012-0.73850-0.91912-0.56934-0.83000.h5\n",
      "34/34 [==============================] - 29s 850ms/step - loss: 0.7385 - categorical_accuracy: 0.9191 - val_loss: 0.5693 - val_categorical_accuracy: 0.8300 - lr: 2.0000e-04\n",
      "Epoch 13/30\n",
      "34/34 [==============================] - ETA: 0s - loss: 0.7598 - categorical_accuracy: 0.9191\n",
      "Epoch 00013: saving model to gesture_recog_model_2021-05-0304_17_09.372367/model-00013-0.75980-0.91912-0.58461-0.83000.h5\n",
      "34/34 [==============================] - 28s 826ms/step - loss: 0.7598 - categorical_accuracy: 0.9191 - val_loss: 0.5846 - val_categorical_accuracy: 0.8300 - lr: 2.0000e-04\n",
      "Epoch 14/30\n",
      "34/34 [==============================] - ETA: 0s - loss: 0.6876 - categorical_accuracy: 0.9412\n",
      "Epoch 00014: saving model to gesture_recog_model_2021-05-0304_17_09.372367/model-00014-0.68759-0.94118-0.54566-0.81000.h5\n",
      "\n",
      "Epoch 00014: ReduceLROnPlateau reducing learning rate to 4.0000001899898055e-05.\n",
      "34/34 [==============================] - 28s 811ms/step - loss: 0.6876 - categorical_accuracy: 0.9412 - val_loss: 0.5457 - val_categorical_accuracy: 0.8100 - lr: 2.0000e-04\n",
      "Epoch 15/30\n",
      "34/34 [==============================] - ETA: 0s - loss: 0.7130 - categorical_accuracy: 0.9294\n",
      "Epoch 00015: saving model to gesture_recog_model_2021-05-0304_17_09.372367/model-00015-0.71304-0.92941-0.55825-0.83000.h5\n",
      "34/34 [==============================] - 28s 836ms/step - loss: 0.7130 - categorical_accuracy: 0.9294 - val_loss: 0.5583 - val_categorical_accuracy: 0.8300 - lr: 4.0000e-05\n",
      "Epoch 16/30\n",
      "34/34 [==============================] - ETA: 0s - loss: 0.7739 - categorical_accuracy: 0.9191\n",
      "Epoch 00016: saving model to gesture_recog_model_2021-05-0304_17_09.372367/model-00016-0.77393-0.91912-0.82975-0.72000.h5\n",
      "34/34 [==============================] - 28s 817ms/step - loss: 0.7739 - categorical_accuracy: 0.9191 - val_loss: 0.8298 - val_categorical_accuracy: 0.7200 - lr: 4.0000e-05\n",
      "Epoch 17/30\n",
      "34/34 [==============================] - ETA: 0s - loss: 0.8575 - categorical_accuracy: 0.9015\n",
      "Epoch 00017: saving model to gesture_recog_model_2021-05-0304_17_09.372367/model-00017-0.85747-0.90147-0.18814-0.93000.h5\n",
      "34/34 [==============================] - 27s 780ms/step - loss: 0.8575 - categorical_accuracy: 0.9015 - val_loss: 0.1881 - val_categorical_accuracy: 0.9300 - lr: 4.0000e-05\n",
      "Epoch 18/30\n",
      "34/34 [==============================] - ETA: 0s - loss: 0.7843 - categorical_accuracy: 0.8868\n",
      "Epoch 00018: saving model to gesture_recog_model_2021-05-0304_17_09.372367/model-00018-0.78430-0.88676-0.46084-0.84000.h5\n",
      "34/34 [==============================] - 29s 863ms/step - loss: 0.7843 - categorical_accuracy: 0.8868 - val_loss: 0.4608 - val_categorical_accuracy: 0.8400 - lr: 4.0000e-05\n",
      "Epoch 19/30\n",
      "34/34 [==============================] - ETA: 0s - loss: 0.9652 - categorical_accuracy: 0.8824\n",
      "Epoch 00019: saving model to gesture_recog_model_2021-05-0304_17_09.372367/model-00019-0.96521-0.88235-0.70623-0.79000.h5\n",
      "34/34 [==============================] - 28s 834ms/step - loss: 0.9652 - categorical_accuracy: 0.8824 - val_loss: 0.7062 - val_categorical_accuracy: 0.7900 - lr: 4.0000e-05\n",
      "Epoch 20/30\n",
      "34/34 [==============================] - ETA: 0s - loss: 0.7736 - categorical_accuracy: 0.9118\n",
      "Epoch 00020: saving model to gesture_recog_model_2021-05-0304_17_09.372367/model-00020-0.77362-0.91176-0.54422-0.79000.h5\n",
      "34/34 [==============================] - 28s 837ms/step - loss: 0.7736 - categorical_accuracy: 0.9118 - val_loss: 0.5442 - val_categorical_accuracy: 0.7900 - lr: 4.0000e-05\n"
     ]
    },
    {
     "name": "stdout",
     "output_type": "stream",
     "text": [
      "Epoch 21/30\n",
      "34/34 [==============================] - ETA: 0s - loss: 0.8511 - categorical_accuracy: 0.9088\n",
      "Epoch 00021: saving model to gesture_recog_model_2021-05-0304_17_09.372367/model-00021-0.85106-0.90882-0.73827-0.74000.h5\n",
      "\n",
      "Epoch 00021: ReduceLROnPlateau reducing learning rate to 8.000000525498762e-06.\n",
      "34/34 [==============================] - 28s 815ms/step - loss: 0.8511 - categorical_accuracy: 0.9088 - val_loss: 0.7383 - val_categorical_accuracy: 0.7400 - lr: 4.0000e-05\n",
      "Epoch 22/30\n",
      "34/34 [==============================] - ETA: 0s - loss: 1.0185 - categorical_accuracy: 0.8971\n",
      "Epoch 00022: saving model to gesture_recog_model_2021-05-0304_17_09.372367/model-00022-1.01847-0.89706-0.38749-0.88000.h5\n",
      "34/34 [==============================] - 27s 798ms/step - loss: 1.0185 - categorical_accuracy: 0.8971 - val_loss: 0.3875 - val_categorical_accuracy: 0.8800 - lr: 8.0000e-06\n",
      "Epoch 23/30\n",
      "34/34 [==============================] - ETA: 0s - loss: 0.9516 - categorical_accuracy: 0.9103\n",
      "Epoch 00023: saving model to gesture_recog_model_2021-05-0304_17_09.372367/model-00023-0.95161-0.91029-0.58527-0.80000.h5\n",
      "34/34 [==============================] - 27s 805ms/step - loss: 0.9516 - categorical_accuracy: 0.9103 - val_loss: 0.5853 - val_categorical_accuracy: 0.8000 - lr: 8.0000e-06\n",
      "Epoch 24/30\n",
      "34/34 [==============================] - ETA: 0s - loss: 0.9488 - categorical_accuracy: 0.8882\n",
      "Epoch 00024: saving model to gesture_recog_model_2021-05-0304_17_09.372367/model-00024-0.94876-0.88824-0.37302-0.84000.h5\n",
      "34/34 [==============================] - 28s 829ms/step - loss: 0.9488 - categorical_accuracy: 0.8882 - val_loss: 0.3730 - val_categorical_accuracy: 0.8400 - lr: 8.0000e-06\n",
      "Epoch 25/30\n",
      "34/34 [==============================] - ETA: 0s - loss: 0.8967 - categorical_accuracy: 0.8868\n",
      "Epoch 00025: saving model to gesture_recog_model_2021-05-0304_17_09.372367/model-00025-0.89666-0.88676-0.74196-0.75000.h5\n",
      "\n",
      "Epoch 00025: ReduceLROnPlateau reducing learning rate to 1.6000001778593287e-06.\n",
      "34/34 [==============================] - 28s 825ms/step - loss: 0.8967 - categorical_accuracy: 0.8868 - val_loss: 0.7420 - val_categorical_accuracy: 0.7500 - lr: 8.0000e-06\n",
      "Epoch 26/30\n",
      "34/34 [==============================] - ETA: 0s - loss: 0.9601 - categorical_accuracy: 0.8603\n",
      "Epoch 00026: saving model to gesture_recog_model_2021-05-0304_17_09.372367/model-00026-0.96013-0.86029-0.55528-0.80000.h5\n",
      "34/34 [==============================] - 26s 779ms/step - loss: 0.9601 - categorical_accuracy: 0.8603 - val_loss: 0.5553 - val_categorical_accuracy: 0.8000 - lr: 1.6000e-06\n",
      "Epoch 27/30\n",
      "34/34 [==============================] - ETA: 0s - loss: 0.9521 - categorical_accuracy: 0.8721\n",
      "Epoch 00027: saving model to gesture_recog_model_2021-05-0304_17_09.372367/model-00027-0.95213-0.87206-0.50426-0.82000.h5\n",
      "34/34 [==============================] - 27s 804ms/step - loss: 0.9521 - categorical_accuracy: 0.8721 - val_loss: 0.5043 - val_categorical_accuracy: 0.8200 - lr: 1.6000e-06\n",
      "Epoch 28/30\n",
      "34/34 [==============================] - ETA: 0s - loss: 1.2397 - categorical_accuracy: 0.8794\n",
      "Epoch 00028: saving model to gesture_recog_model_2021-05-0304_17_09.372367/model-00028-1.23973-0.87941-0.52009-0.81000.h5\n",
      "34/34 [==============================] - 28s 817ms/step - loss: 1.2397 - categorical_accuracy: 0.8794 - val_loss: 0.5201 - val_categorical_accuracy: 0.8100 - lr: 1.6000e-06\n",
      "Epoch 29/30\n",
      "34/34 [==============================] - ETA: 0s - loss: 0.9584 - categorical_accuracy: 0.9000\n",
      "Epoch 00029: saving model to gesture_recog_model_2021-05-0304_17_09.372367/model-00029-0.95838-0.90000-0.75955-0.73000.h5\n",
      "\n",
      "Epoch 00029: ReduceLROnPlateau reducing learning rate to 3.200000264769187e-07.\n",
      "34/34 [==============================] - 26s 769ms/step - loss: 0.9584 - categorical_accuracy: 0.9000 - val_loss: 0.7595 - val_categorical_accuracy: 0.7300 - lr: 1.6000e-06\n",
      "Epoch 30/30\n",
      "34/34 [==============================] - ETA: 0s - loss: 0.9604 - categorical_accuracy: 0.9118\n",
      "Epoch 00030: saving model to gesture_recog_model_2021-05-0304_17_09.372367/model-00030-0.96043-0.91176-0.41245-0.87000.h5\n",
      "34/34 [==============================] - 28s 810ms/step - loss: 0.9604 - categorical_accuracy: 0.9118 - val_loss: 0.4125 - val_categorical_accuracy: 0.8700 - lr: 3.2000e-07\n"
     ]
    }
   ],
   "source": [
    "history = cnn_rnn_tl.fit(train_generator, steps_per_epoch=steps_per_epoch, epochs=num_epochs, verbose=1, \n",
    "                    callbacks=callbacks_list, validation_data=val_generator, \n",
    "                    validation_steps=validation_steps, class_weight=None, workers=1, initial_epoch=0)"
   ]
  },
  {
   "cell_type": "code",
   "execution_count": 17,
   "metadata": {
    "id": "lIB5GO2sJGPq"
   },
   "outputs": [
    {
     "data": {
      "image/png": "[encoded data removed]",
      "text/plain": [
       "<Figure size 1080x288 with 2 Axes>"
      ]
     },
     "metadata": {
      "needs_background": "light"
     },
     "output_type": "display_data"
    }
   ],
   "source": [
    "plot(history)"
   ]
  },
  {
   "cell_type": "markdown",
   "metadata": {},
   "source": [
    "### Observation\n",
    "For this experiment, Mobilenet layer weights are not trained. Validation accuracy is very poor. So, let us train mobilenet layer’s weights as well"
   ]
  },
  {
   "cell_type": "markdown",
   "metadata": {},
   "source": [
    "## Model 7 - Transfer Learning with GRU and training all weights"
   ]
  },
  {
   "cell_type": "code",
   "execution_count": 18,
   "metadata": {
    "id": "hyfbTVH1Jvor"
   },
   "outputs": [
    {
     "name": "stderr",
     "output_type": "stream",
     "text": [
      "W0503 04:34:31.279704 139676061185856 mobilenet.py:216] `input_shape` is undefined or non-square, or `rows` is not in [128, 160, 192, 224]. Weights for input shape (224, 224) will be loaded as the default.\n"
     ]
    }
   ],
   "source": [
    "#write your model here\n",
    "num_classes = 5\n",
    "\n",
    "mobilenet_transfer = mobilenet.MobileNet(weights='imagenet', include_top=False)\n",
    "\n",
    "cnn_rnn_tl1 = Sequential()\n",
    "cnn_rnn_tl1.add(TimeDistributed(mobilenet_transfer,input_shape=(15,120,120,3)))\n",
    "for layer in cnn_rnn_tl1.layers:\n",
    "  layer.trainable = True\n",
    "cnn_rnn_tl1.add(TimeDistributed(BatchNormalization()))\n",
    "cnn_rnn_tl1.add(TimeDistributed(MaxPooling2D((2, 2))))\n",
    "cnn_rnn_tl1.add(TimeDistributed(Flatten()))\n",
    "\n",
    "cnn_rnn_tl1.add(GRU(128))\n",
    "cnn_rnn_tl1.add(Dropout(0.25))\n",
    "        \n",
    "cnn_rnn_tl1.add(Dense(128,activation='relu'))\n",
    "cnn_rnn_tl1.add(Dropout(0.25))\n",
    "        \n",
    "cnn_rnn_tl1.add(Dense(num_classes, activation='softmax'))"
   ]
  },
  {
   "cell_type": "code",
   "execution_count": 19,
   "metadata": {
    "id": "naQHfe09J43K"
   },
   "outputs": [
    {
     "name": "stdout",
     "output_type": "stream",
     "text": [
      "Model: \"sequential\"\n",
      "_________________________________________________________________\n",
      "Layer (type)                 Output Shape              Param #   \n",
      "=================================================================\n",
      "time_distributed (TimeDistri (None, 15, 3, 3, 1024)    3228864   \n",
      "_________________________________________________________________\n",
      "time_distributed_1 (TimeDist (None, 15, 3, 3, 1024)    4096      \n",
      "_________________________________________________________________\n",
      "time_distributed_2 (TimeDist (None, 15, 1, 1, 1024)    0         \n",
      "_________________________________________________________________\n",
      "time_distributed_3 (TimeDist (None, 15, 1024)          0         \n",
      "_________________________________________________________________\n",
      "lstm (LSTM)                  (None, 128)               590336    \n",
      "_________________________________________________________________\n",
      "dropout (Dropout)            (None, 128)               0         \n",
      "_________________________________________________________________\n",
      "dense (Dense)                (None, 128)               16512     \n",
      "_________________________________________________________________\n",
      "dropout_1 (Dropout)          (None, 128)               0         \n",
      "_________________________________________________________________\n",
      "dense_1 (Dense)              (None, 5)                 645       \n",
      "=================================================================\n",
      "Total params: 3,840,453\n",
      "Trainable params: 609,541\n",
      "Non-trainable params: 3,230,912\n",
      "_________________________________________________________________\n",
      "None\n"
     ]
    }
   ],
   "source": [
    "optimiser = \"adam\"\n",
    "cnn_rnn_tl1.compile(optimizer=optimiser, loss='categorical_crossentropy', metrics=['categorical_accuracy'])\n",
    "print (cnn_rnn_tl.summary())"
   ]
  },
  {
   "cell_type": "code",
   "execution_count": 20,
   "metadata": {
    "id": "Vx5oZeXaKEgU"
   },
   "outputs": [
    {
     "name": "stdout",
     "output_type": "stream",
     "text": [
      "Epoch 1/30\n",
      "34/34 [==============================] - ETA: 0s - loss: 0.9757 - categorical_accuracy: 0.6941\n",
      "Epoch 00001: saving model to gesture_recog_model_2021-05-0304_17_09.372367/model-00001-0.97570-0.69412-0.88339-0.72000.h5\n",
      "34/34 [==============================] - 38s 1s/step - loss: 0.9757 - categorical_accuracy: 0.6941 - val_loss: 0.8834 - val_categorical_accuracy: 0.7200 - lr: 0.0010\n",
      "Epoch 2/30\n",
      "34/34 [==============================] - ETA: 0s - loss: 0.4611 - categorical_accuracy: 0.9221\n",
      "Epoch 00002: saving model to gesture_recog_model_2021-05-0304_17_09.372367/model-00002-0.46107-0.92206-0.59452-0.78000.h5\n",
      "34/34 [==============================] - 38s 1s/step - loss: 0.4611 - categorical_accuracy: 0.9221 - val_loss: 0.5945 - val_categorical_accuracy: 0.7800 - lr: 0.0010\n",
      "Epoch 3/30\n",
      "34/34 [==============================] - ETA: 0s - loss: 0.5622 - categorical_accuracy: 0.9074\n",
      "Epoch 00003: saving model to gesture_recog_model_2021-05-0304_17_09.372367/model-00003-0.56224-0.90735-0.55833-0.81000.h5\n",
      "34/34 [==============================] - 37s 1s/step - loss: 0.5622 - categorical_accuracy: 0.9074 - val_loss: 0.5583 - val_categorical_accuracy: 0.8100 - lr: 0.0010\n",
      "Epoch 4/30\n",
      "34/34 [==============================] - ETA: 0s - loss: 0.4574 - categorical_accuracy: 0.9426\n",
      "Epoch 00004: saving model to gesture_recog_model_2021-05-0304_17_09.372367/model-00004-0.45739-0.94265-0.39925-0.90000.h5\n",
      "34/34 [==============================] - 38s 1s/step - loss: 0.4574 - categorical_accuracy: 0.9426 - val_loss: 0.3992 - val_categorical_accuracy: 0.9000 - lr: 0.0010\n",
      "Epoch 5/30\n",
      "34/34 [==============================] - ETA: 0s - loss: 0.4972 - categorical_accuracy: 0.9426\n",
      "Epoch 00005: saving model to gesture_recog_model_2021-05-0304_17_09.372367/model-00005-0.49717-0.94265-0.51845-0.85000.h5\n",
      "34/34 [==============================] - 37s 1s/step - loss: 0.4972 - categorical_accuracy: 0.9426 - val_loss: 0.5184 - val_categorical_accuracy: 0.8500 - lr: 0.0010\n",
      "Epoch 6/30\n",
      "34/34 [==============================] - ETA: 0s - loss: 0.4461 - categorical_accuracy: 0.9441\n",
      "Epoch 00006: saving model to gesture_recog_model_2021-05-0304_17_09.372367/model-00006-0.44609-0.94412-0.44145-0.90000.h5\n",
      "34/34 [==============================] - 37s 1s/step - loss: 0.4461 - categorical_accuracy: 0.9441 - val_loss: 0.4415 - val_categorical_accuracy: 0.9000 - lr: 0.0010\n",
      "Epoch 7/30\n",
      "34/34 [==============================] - ETA: 0s - loss: 0.5130 - categorical_accuracy: 0.9382\n",
      "Epoch 00007: saving model to gesture_recog_model_2021-05-0304_17_09.372367/model-00007-0.51298-0.93824-0.63338-0.84000.h5\n",
      "34/34 [==============================] - 37s 1s/step - loss: 0.5130 - categorical_accuracy: 0.9382 - val_loss: 0.6334 - val_categorical_accuracy: 0.8400 - lr: 0.0010\n",
      "Epoch 8/30\n",
      "34/34 [==============================] - ETA: 0s - loss: 0.7359 - categorical_accuracy: 0.8985\n",
      "Epoch 00008: saving model to gesture_recog_model_2021-05-0304_17_09.372367/model-00008-0.73589-0.89853-0.67626-0.79000.h5\n",
      "\n",
      "Epoch 00008: ReduceLROnPlateau reducing learning rate to 0.00020000000949949026.\n",
      "34/34 [==============================] - 37s 1s/step - loss: 0.7359 - categorical_accuracy: 0.8985 - val_loss: 0.6763 - val_categorical_accuracy: 0.7900 - lr: 0.0010\n",
      "Epoch 9/30\n",
      "34/34 [==============================] - ETA: 0s - loss: 0.7231 - categorical_accuracy: 0.9235\n",
      "Epoch 00009: saving model to gesture_recog_model_2021-05-0304_17_09.372367/model-00009-0.72308-0.92353-0.19928-0.96000.h5\n",
      "34/34 [==============================] - 38s 1s/step - loss: 0.7231 - categorical_accuracy: 0.9235 - val_loss: 0.1993 - val_categorical_accuracy: 0.9600 - lr: 2.0000e-04\n",
      "Epoch 10/30\n",
      "34/34 [==============================] - ETA: 0s - loss: 0.7659 - categorical_accuracy: 0.9191\n",
      "Epoch 00010: saving model to gesture_recog_model_2021-05-0304_17_09.372367/model-00010-0.76590-0.91912-0.24861-0.93000.h5\n",
      "34/34 [==============================] - 37s 1s/step - loss: 0.7659 - categorical_accuracy: 0.9191 - val_loss: 0.2486 - val_categorical_accuracy: 0.9300 - lr: 2.0000e-04\n",
      "Epoch 11/30\n",
      "34/34 [==============================] - ETA: 0s - loss: 0.6492 - categorical_accuracy: 0.9221\n",
      "Epoch 00011: saving model to gesture_recog_model_2021-05-0304_17_09.372367/model-00011-0.64919-0.92206-0.37738-0.87000.h5\n",
      "34/34 [==============================] - 38s 1s/step - loss: 0.6492 - categorical_accuracy: 0.9221 - val_loss: 0.3774 - val_categorical_accuracy: 0.8700 - lr: 2.0000e-04\n",
      "Epoch 12/30\n",
      "34/34 [==============================] - ETA: 0s - loss: 0.6852 - categorical_accuracy: 0.9250\n",
      "Epoch 00012: saving model to gesture_recog_model_2021-05-0304_17_09.372367/model-00012-0.68523-0.92500-0.14840-0.96000.h5\n",
      "34/34 [==============================] - 37s 1s/step - loss: 0.6852 - categorical_accuracy: 0.9250 - val_loss: 0.1484 - val_categorical_accuracy: 0.9600 - lr: 2.0000e-04\n",
      "Epoch 13/30\n",
      "34/34 [==============================] - ETA: 0s - loss: 0.7039 - categorical_accuracy: 0.9235\n",
      "Epoch 00013: saving model to gesture_recog_model_2021-05-0304_17_09.372367/model-00013-0.70391-0.92353-0.27605-0.91000.h5\n",
      "34/34 [==============================] - 37s 1s/step - loss: 0.7039 - categorical_accuracy: 0.9235 - val_loss: 0.2761 - val_categorical_accuracy: 0.9100 - lr: 2.0000e-04\n",
      "Epoch 14/30\n",
      "34/34 [==============================] - ETA: 0s - loss: 0.8920 - categorical_accuracy: 0.9044\n",
      "Epoch 00014: saving model to gesture_recog_model_2021-05-0304_17_09.372367/model-00014-0.89199-0.90441-0.42333-0.92000.h5\n",
      "34/34 [==============================] - 37s 1s/step - loss: 0.8920 - categorical_accuracy: 0.9044 - val_loss: 0.4233 - val_categorical_accuracy: 0.9200 - lr: 2.0000e-04\n",
      "Epoch 15/30\n",
      "34/34 [==============================] - ETA: 0s - loss: 0.7446 - categorical_accuracy: 0.9147\n",
      "Epoch 00015: saving model to gesture_recog_model_2021-05-0304_17_09.372367/model-00015-0.74457-0.91471-0.19962-0.94000.h5\n",
      "34/34 [==============================] - 37s 1s/step - loss: 0.7446 - categorical_accuracy: 0.9147 - val_loss: 0.1996 - val_categorical_accuracy: 0.9400 - lr: 2.0000e-04\n",
      "Epoch 16/30\n",
      "34/34 [==============================] - ETA: 0s - loss: 0.7562 - categorical_accuracy: 0.9235\n",
      "Epoch 00016: saving model to gesture_recog_model_2021-05-0304_17_09.372367/model-00016-0.75616-0.92353-0.31488-0.93000.h5\n",
      "\n",
      "Epoch 00016: ReduceLROnPlateau reducing learning rate to 4.0000001899898055e-05.\n",
      "34/34 [==============================] - 37s 1s/step - loss: 0.7562 - categorical_accuracy: 0.9235 - val_loss: 0.3149 - val_categorical_accuracy: 0.9300 - lr: 2.0000e-04\n",
      "Epoch 17/30\n",
      "34/34 [==============================] - ETA: 0s - loss: 0.7119 - categorical_accuracy: 0.9162\n",
      "Epoch 00017: saving model to gesture_recog_model_2021-05-0304_17_09.372367/model-00017-0.71192-0.91618-0.07788-0.95000.h5\n",
      "34/34 [==============================] - 38s 1s/step - loss: 0.7119 - categorical_accuracy: 0.9162 - val_loss: 0.0779 - val_categorical_accuracy: 0.9500 - lr: 4.0000e-05\n",
      "Epoch 18/30\n",
      "34/34 [==============================] - ETA: 0s - loss: 0.5912 - categorical_accuracy: 0.9162\n",
      "Epoch 00018: saving model to gesture_recog_model_2021-05-0304_17_09.372367/model-00018-0.59118-0.91618-0.28417-0.91000.h5\n",
      "34/34 [==============================] - 38s 1s/step - loss: 0.5912 - categorical_accuracy: 0.9162 - val_loss: 0.2842 - val_categorical_accuracy: 0.9100 - lr: 4.0000e-05\n",
      "Epoch 19/30\n",
      "34/34 [==============================] - ETA: 0s - loss: 0.7245 - categorical_accuracy: 0.9397\n",
      "Epoch 00019: saving model to gesture_recog_model_2021-05-0304_17_09.372367/model-00019-0.72446-0.93971-0.12049-0.98000.h5\n",
      "34/34 [==============================] - 37s 1s/step - loss: 0.7245 - categorical_accuracy: 0.9397 - val_loss: 0.1205 - val_categorical_accuracy: 0.9800 - lr: 4.0000e-05\n",
      "Epoch 20/30\n",
      "34/34 [==============================] - ETA: 0s - loss: 0.8720 - categorical_accuracy: 0.9118\n",
      "Epoch 00020: saving model to gesture_recog_model_2021-05-0304_17_09.372367/model-00020-0.87198-0.91176-0.28617-0.94000.h5\n",
      "34/34 [==============================] - 36s 1s/step - loss: 0.8720 - categorical_accuracy: 0.9118 - val_loss: 0.2862 - val_categorical_accuracy: 0.9400 - lr: 4.0000e-05\n",
      "Epoch 21/30\n"
     ]
    },
    {
     "name": "stdout",
     "output_type": "stream",
     "text": [
      "34/34 [==============================] - ETA: 0s - loss: 0.8333 - categorical_accuracy: 0.9132\n",
      "Epoch 00021: saving model to gesture_recog_model_2021-05-0304_17_09.372367/model-00021-0.83329-0.91324-0.32808-0.92000.h5\n",
      "\n",
      "Epoch 00021: ReduceLROnPlateau reducing learning rate to 8.000000525498762e-06.\n",
      "34/34 [==============================] - 37s 1s/step - loss: 0.8333 - categorical_accuracy: 0.9132 - val_loss: 0.3281 - val_categorical_accuracy: 0.9200 - lr: 4.0000e-05\n",
      "Epoch 22/30\n",
      "34/34 [==============================] - ETA: 0s - loss: 0.6577 - categorical_accuracy: 0.9074\n",
      "Epoch 00022: saving model to gesture_recog_model_2021-05-0304_17_09.372367/model-00022-0.65769-0.90735-0.08105-0.99000.h5\n",
      "34/34 [==============================] - 38s 1s/step - loss: 0.6577 - categorical_accuracy: 0.9074 - val_loss: 0.0810 - val_categorical_accuracy: 0.9900 - lr: 8.0000e-06\n",
      "Epoch 23/30\n",
      "34/34 [==============================] - ETA: 0s - loss: 0.8389 - categorical_accuracy: 0.9118\n",
      "Epoch 00023: saving model to gesture_recog_model_2021-05-0304_17_09.372367/model-00023-0.83888-0.91176-0.19534-0.95000.h5\n",
      "34/34 [==============================] - 38s 1s/step - loss: 0.8389 - categorical_accuracy: 0.9118 - val_loss: 0.1953 - val_categorical_accuracy: 0.9500 - lr: 8.0000e-06\n",
      "Epoch 24/30\n",
      "34/34 [==============================] - ETA: 0s - loss: 0.9093 - categorical_accuracy: 0.9088\n",
      "Epoch 00024: saving model to gesture_recog_model_2021-05-0304_17_09.372367/model-00024-0.90928-0.90882-0.08310-0.98000.h5\n",
      "34/34 [==============================] - 37s 1s/step - loss: 0.9093 - categorical_accuracy: 0.9088 - val_loss: 0.0831 - val_categorical_accuracy: 0.9800 - lr: 8.0000e-06\n",
      "Epoch 25/30\n",
      "34/34 [==============================] - ETA: 0s - loss: 0.8427 - categorical_accuracy: 0.9382\n",
      "Epoch 00025: saving model to gesture_recog_model_2021-05-0304_17_09.372367/model-00025-0.84267-0.93824-0.20748-0.97000.h5\n",
      "\n",
      "Epoch 00025: ReduceLROnPlateau reducing learning rate to 1.6000001778593287e-06.\n",
      "34/34 [==============================] - 36s 1s/step - loss: 0.8427 - categorical_accuracy: 0.9382 - val_loss: 0.2075 - val_categorical_accuracy: 0.9700 - lr: 8.0000e-06\n",
      "Epoch 26/30\n",
      "34/34 [==============================] - ETA: 0s - loss: 0.9728 - categorical_accuracy: 0.9382\n",
      "Epoch 00026: saving model to gesture_recog_model_2021-05-0304_17_09.372367/model-00026-0.97285-0.93824-0.20621-0.96000.h5\n",
      "34/34 [==============================] - 38s 1s/step - loss: 0.9728 - categorical_accuracy: 0.9382 - val_loss: 0.2062 - val_categorical_accuracy: 0.9600 - lr: 1.6000e-06\n",
      "Epoch 27/30\n",
      "34/34 [==============================] - ETA: 0s - loss: 0.8614 - categorical_accuracy: 0.9221\n",
      "Epoch 00027: saving model to gesture_recog_model_2021-05-0304_17_09.372367/model-00027-0.86142-0.92206-0.15748-0.97000.h5\n",
      "34/34 [==============================] - 38s 1s/step - loss: 0.8614 - categorical_accuracy: 0.9221 - val_loss: 0.1575 - val_categorical_accuracy: 0.9700 - lr: 1.6000e-06\n",
      "Epoch 28/30\n",
      "34/34 [==============================] - ETA: 0s - loss: 0.9713 - categorical_accuracy: 0.9015\n",
      "Epoch 00028: saving model to gesture_recog_model_2021-05-0304_17_09.372367/model-00028-0.97130-0.90147-0.14005-0.97000.h5\n",
      "34/34 [==============================] - 35s 1s/step - loss: 0.9713 - categorical_accuracy: 0.9015 - val_loss: 0.1401 - val_categorical_accuracy: 0.9700 - lr: 1.6000e-06\n",
      "Epoch 29/30\n",
      "34/34 [==============================] - ETA: 0s - loss: 0.9247 - categorical_accuracy: 0.9221\n",
      "Epoch 00029: saving model to gesture_recog_model_2021-05-0304_17_09.372367/model-00029-0.92468-0.92206-0.24958-0.94000.h5\n",
      "\n",
      "Epoch 00029: ReduceLROnPlateau reducing learning rate to 3.200000264769187e-07.\n",
      "34/34 [==============================] - 37s 1s/step - loss: 0.9247 - categorical_accuracy: 0.9221 - val_loss: 0.2496 - val_categorical_accuracy: 0.9400 - lr: 1.6000e-06\n",
      "Epoch 30/30\n",
      "34/34 [==============================] - ETA: 0s - loss: 0.7860 - categorical_accuracy: 0.8971\n",
      "Epoch 00030: saving model to gesture_recog_model_2021-05-0304_17_09.372367/model-00030-0.78597-0.89706-0.04717-0.99000.h5\n",
      "34/34 [==============================] - 38s 1s/step - loss: 0.7860 - categorical_accuracy: 0.8971 - val_loss: 0.0472 - val_categorical_accuracy: 0.9900 - lr: 3.2000e-07\n"
     ]
    }
   ],
   "source": [
    "history = cnn_rnn_tl1.fit(train_generator, steps_per_epoch=steps_per_epoch, epochs=num_epochs, verbose=1, \n",
    "                    callbacks=callbacks_list, validation_data=val_generator, \n",
    "                    validation_steps=validation_steps, class_weight=None, workers=1, initial_epoch=0)"
   ]
  },
  {
   "cell_type": "code",
   "execution_count": 21,
   "metadata": {
    "id": "xHggNOMEKHdb"
   },
   "outputs": [
    {
     "data": {
      "image/png": "[encoded data removed]",
      "text/plain": [
       "<Figure size 1080x288 with 2 Axes>"
      ]
     },
     "metadata": {
      "needs_background": "light"
     },
     "output_type": "display_data"
    }
   ],
   "source": [
    "plot(history)"
   ]
  },
  {
   "cell_type": "markdown",
   "metadata": {},
   "source": [
    "### Observation\n",
    "We get a better accuracy on training mobilenet layer’s weights as well."
   ]
  },
  {
   "cell_type": "markdown",
   "metadata": {},
   "source": [
    "# Consolidated Final Models"
   ]
  },
  {
   "cell_type": "markdown",
   "metadata": {},
   "source": [
    "| Model name | Model type | No of Params | Model Size (In MBs) | Highest Validation Accuracy | Corrosponding Training Accuracy | Remarks |\n",
    "|-----|-------|------|------|------|------|------\n",
    "| model | Conv3D | 822,149 | 9.99 | 0.9600 | 0.9706 | Second Best performing model with low memory footprint |\n",
    "| model1 | Conv3D | 616,949 | 7.53 | 0.9300 | 0.9485 | Third best model with lowest memory footprint |\n",
    "| cnn_rnn_tl1 | Transfer Learning with GRU and training all weights | 3,840,453 | 7.53 | 0.9900 | 0.90735 | Best Model in terms of accuracy |"
   ]
  }
 ],
 "metadata": {
  "accelerator": "GPU",
  "colab": {
   "collapsed_sections": [],
   "name": "siddharth_anjani.ipynb",
   "version": ""
  },
  "kernelspec": {
   "display_name": "Python 3",
   "language": "python",
   "name": "python3"
  },
  "language_info": {
   "codemirror_mode": {
    "name": "ipython",
    "version": 3
   },
   "file_extension": ".py",
   "mimetype": "text/x-python",
   "name": "python",
   "nbconvert_exporter": "python",
   "pygments_lexer": "ipython3",
   "version": "3.7.3"
  }
 },
 "nbformat": 4,
 "nbformat_minor": 1
}
